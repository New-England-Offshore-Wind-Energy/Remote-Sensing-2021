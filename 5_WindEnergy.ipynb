{
 "cells": [
  {
   "cell_type": "code",
   "execution_count": 1,
   "metadata": {},
   "outputs": [],
   "source": [
    "import pandas as pd\n",
    "import datetime\n",
    "import os\n",
    "import numpy as np\n",
    "import pandas as pd\n",
    "import matplotlib.pyplot as plt\n",
    "import seaborn as sns\n",
    "import math\n",
    "from sklearn import preprocessing\n",
    "import seaborn as sns\n",
    "import statistics\n",
    "%matplotlib inline"
   ]
  },
  {
   "cell_type": "code",
   "execution_count": 2,
   "metadata": {},
   "outputs": [],
   "source": [
    "bias = 1.1661 # satellite has lower u10 values"
   ]
  },
  {
   "cell_type": "markdown",
   "metadata": {},
   "source": [
    "read BUZM3 station data"
   ]
  },
  {
   "cell_type": "code",
   "execution_count": 3,
   "metadata": {},
   "outputs": [
    {
     "data": {
      "text/html": [
       "<div>\n",
       "<style scoped>\n",
       "    .dataframe tbody tr th:only-of-type {\n",
       "        vertical-align: middle;\n",
       "    }\n",
       "\n",
       "    .dataframe tbody tr th {\n",
       "        vertical-align: top;\n",
       "    }\n",
       "\n",
       "    .dataframe thead th {\n",
       "        text-align: right;\n",
       "    }\n",
       "</style>\n",
       "<table border=\"1\" class=\"dataframe\">\n",
       "  <thead>\n",
       "    <tr style=\"text-align: right;\">\n",
       "      <th></th>\n",
       "      <th>Date</th>\n",
       "      <th>WSPD</th>\n",
       "    </tr>\n",
       "  </thead>\n",
       "  <tbody>\n",
       "    <tr>\n",
       "      <th>0</th>\n",
       "      <td>1/1/2014 0:00</td>\n",
       "      <td>7.3</td>\n",
       "    </tr>\n",
       "    <tr>\n",
       "      <th>1</th>\n",
       "      <td>1/1/2014 1:00</td>\n",
       "      <td>9.9</td>\n",
       "    </tr>\n",
       "    <tr>\n",
       "      <th>2</th>\n",
       "      <td>1/1/2014 2:00</td>\n",
       "      <td>12.8</td>\n",
       "    </tr>\n",
       "    <tr>\n",
       "      <th>3</th>\n",
       "      <td>1/1/2014 3:00</td>\n",
       "      <td>12.6</td>\n",
       "    </tr>\n",
       "    <tr>\n",
       "      <th>4</th>\n",
       "      <td>1/1/2014 4:00</td>\n",
       "      <td>11.3</td>\n",
       "    </tr>\n",
       "  </tbody>\n",
       "</table>\n",
       "</div>"
      ],
      "text/plain": [
       "            Date  WSPD\n",
       "0  1/1/2014 0:00   7.3\n",
       "1  1/1/2014 1:00   9.9\n",
       "2  1/1/2014 2:00  12.8\n",
       "3  1/1/2014 3:00  12.6\n",
       "4  1/1/2014 4:00  11.3"
      ]
     },
     "execution_count": 3,
     "metadata": {},
     "output_type": "execute_result"
    }
   ],
   "source": [
    "buzm3_buoy = pd.read_csv(\"buzm3.csv\")\n",
    "buzm3_buoy.head()"
   ]
  },
  {
   "cell_type": "code",
   "execution_count": 4,
   "metadata": {},
   "outputs": [],
   "source": [
    "# convert u_alt to u10 using power law\n",
    "buzm3_buoy[\"u10_powerlaw\"] = buzm3_buoy[\"WSPD\"]*(10/24.8)**(1/7) "
   ]
  },
  {
   "cell_type": "code",
   "execution_count": 5,
   "metadata": {},
   "outputs": [
    {
     "data": {
      "text/html": [
       "<div>\n",
       "<style scoped>\n",
       "    .dataframe tbody tr th:only-of-type {\n",
       "        vertical-align: middle;\n",
       "    }\n",
       "\n",
       "    .dataframe tbody tr th {\n",
       "        vertical-align: top;\n",
       "    }\n",
       "\n",
       "    .dataframe thead th {\n",
       "        text-align: right;\n",
       "    }\n",
       "</style>\n",
       "<table border=\"1\" class=\"dataframe\">\n",
       "  <thead>\n",
       "    <tr style=\"text-align: right;\">\n",
       "      <th></th>\n",
       "      <th>Date</th>\n",
       "      <th>WSPD</th>\n",
       "      <th>u10_powerlaw</th>\n",
       "    </tr>\n",
       "    <tr>\n",
       "      <th>Date</th>\n",
       "      <th></th>\n",
       "      <th></th>\n",
       "      <th></th>\n",
       "    </tr>\n",
       "  </thead>\n",
       "  <tbody>\n",
       "    <tr>\n",
       "      <th>2014-01-01 00:00:00</th>\n",
       "      <td>2014-01-01 00:00:00</td>\n",
       "      <td>7.3</td>\n",
       "      <td>6.411692</td>\n",
       "    </tr>\n",
       "    <tr>\n",
       "      <th>2014-01-01 01:00:00</th>\n",
       "      <td>2014-01-01 01:00:00</td>\n",
       "      <td>9.9</td>\n",
       "      <td>8.695308</td>\n",
       "    </tr>\n",
       "    <tr>\n",
       "      <th>2014-01-01 02:00:00</th>\n",
       "      <td>2014-01-01 02:00:00</td>\n",
       "      <td>12.8</td>\n",
       "      <td>11.242418</td>\n",
       "    </tr>\n",
       "    <tr>\n",
       "      <th>2014-01-01 03:00:00</th>\n",
       "      <td>2014-01-01 03:00:00</td>\n",
       "      <td>12.6</td>\n",
       "      <td>11.066755</td>\n",
       "    </tr>\n",
       "    <tr>\n",
       "      <th>2014-01-01 04:00:00</th>\n",
       "      <td>2014-01-01 04:00:00</td>\n",
       "      <td>11.3</td>\n",
       "      <td>9.924947</td>\n",
       "    </tr>\n",
       "  </tbody>\n",
       "</table>\n",
       "</div>"
      ],
      "text/plain": [
       "                                   Date  WSPD  u10_powerlaw\n",
       "Date                                                       \n",
       "2014-01-01 00:00:00 2014-01-01 00:00:00   7.3      6.411692\n",
       "2014-01-01 01:00:00 2014-01-01 01:00:00   9.9      8.695308\n",
       "2014-01-01 02:00:00 2014-01-01 02:00:00  12.8     11.242418\n",
       "2014-01-01 03:00:00 2014-01-01 03:00:00  12.6     11.066755\n",
       "2014-01-01 04:00:00 2014-01-01 04:00:00  11.3      9.924947"
      ]
     },
     "execution_count": 5,
     "metadata": {},
     "output_type": "execute_result"
    }
   ],
   "source": [
    "# change dateformat\n",
    "buzm3_buoy[\"Date\"] = pd.to_datetime(buzm3_buoy[\"Date\"])\n",
    "buzm3_buoy.index = buzm3_buoy[\"Date\"]\n",
    "buzm3_buoy.head()"
   ]
  },
  {
   "cell_type": "code",
   "execution_count": 6,
   "metadata": {},
   "outputs": [
    {
     "data": {
      "text/html": [
       "<div>\n",
       "<style scoped>\n",
       "    .dataframe tbody tr th:only-of-type {\n",
       "        vertical-align: middle;\n",
       "    }\n",
       "\n",
       "    .dataframe tbody tr th {\n",
       "        vertical-align: top;\n",
       "    }\n",
       "\n",
       "    .dataframe thead th {\n",
       "        text-align: right;\n",
       "    }\n",
       "</style>\n",
       "<table border=\"1\" class=\"dataframe\">\n",
       "  <thead>\n",
       "    <tr style=\"text-align: right;\">\n",
       "      <th></th>\n",
       "      <th>WSPD</th>\n",
       "      <th>u10_powerlaw</th>\n",
       "    </tr>\n",
       "  </thead>\n",
       "  <tbody>\n",
       "    <tr>\n",
       "      <th>count</th>\n",
       "      <td>48453.000000</td>\n",
       "      <td>48453.000000</td>\n",
       "    </tr>\n",
       "    <tr>\n",
       "      <th>mean</th>\n",
       "      <td>7.819879</td>\n",
       "      <td>6.868309</td>\n",
       "    </tr>\n",
       "    <tr>\n",
       "      <th>std</th>\n",
       "      <td>3.784087</td>\n",
       "      <td>3.323616</td>\n",
       "    </tr>\n",
       "    <tr>\n",
       "      <th>min</th>\n",
       "      <td>0.000000</td>\n",
       "      <td>0.000000</td>\n",
       "    </tr>\n",
       "    <tr>\n",
       "      <th>25%</th>\n",
       "      <td>5.100000</td>\n",
       "      <td>4.479401</td>\n",
       "    </tr>\n",
       "    <tr>\n",
       "      <th>50%</th>\n",
       "      <td>7.400000</td>\n",
       "      <td>6.499523</td>\n",
       "    </tr>\n",
       "    <tr>\n",
       "      <th>75%</th>\n",
       "      <td>10.100000</td>\n",
       "      <td>8.870970</td>\n",
       "    </tr>\n",
       "    <tr>\n",
       "      <th>max</th>\n",
       "      <td>28.100000</td>\n",
       "      <td>24.680621</td>\n",
       "    </tr>\n",
       "  </tbody>\n",
       "</table>\n",
       "</div>"
      ],
      "text/plain": [
       "               WSPD  u10_powerlaw\n",
       "count  48453.000000  48453.000000\n",
       "mean       7.819879      6.868309\n",
       "std        3.784087      3.323616\n",
       "min        0.000000      0.000000\n",
       "25%        5.100000      4.479401\n",
       "50%        7.400000      6.499523\n",
       "75%       10.100000      8.870970\n",
       "max       28.100000     24.680621"
      ]
     },
     "execution_count": 6,
     "metadata": {},
     "output_type": "execute_result"
    }
   ],
   "source": [
    "buzm3_buoy.describe()"
   ]
  },
  {
   "cell_type": "markdown",
   "metadata": {},
   "source": [
    "read taget area rp25 SARAL/AltiKa data"
   ]
  },
  {
   "cell_type": "code",
   "execution_count": 7,
   "metadata": {},
   "outputs": [
    {
     "data": {
      "text/html": [
       "<div>\n",
       "<style scoped>\n",
       "    .dataframe tbody tr th:only-of-type {\n",
       "        vertical-align: middle;\n",
       "    }\n",
       "\n",
       "    .dataframe tbody tr th {\n",
       "        vertical-align: top;\n",
       "    }\n",
       "\n",
       "    .dataframe thead th {\n",
       "        text-align: right;\n",
       "    }\n",
       "</style>\n",
       "<table border=\"1\" class=\"dataframe\">\n",
       "  <thead>\n",
       "    <tr style=\"text-align: right;\">\n",
       "      <th></th>\n",
       "      <th>Unnamed: 0</th>\n",
       "      <th>Unnamed: 0.1</th>\n",
       "      <th>time</th>\n",
       "      <th>lon</th>\n",
       "      <th>lat</th>\n",
       "      <th>swh</th>\n",
       "      <th>wind_speed_alt</th>\n",
       "    </tr>\n",
       "  </thead>\n",
       "  <tbody>\n",
       "    <tr>\n",
       "      <th>0</th>\n",
       "      <td>19</td>\n",
       "      <td>19</td>\n",
       "      <td>2014-08-26 10:19:13.157855040</td>\n",
       "      <td>288.723427</td>\n",
       "      <td>40.934677</td>\n",
       "      <td>1.097</td>\n",
       "      <td>1.84</td>\n",
       "    </tr>\n",
       "    <tr>\n",
       "      <th>1</th>\n",
       "      <td>20</td>\n",
       "      <td>20</td>\n",
       "      <td>2014-08-26 10:19:14.194844992</td>\n",
       "      <td>288.703035</td>\n",
       "      <td>40.995472</td>\n",
       "      <td>1.116</td>\n",
       "      <td>1.62</td>\n",
       "    </tr>\n",
       "    <tr>\n",
       "      <th>2</th>\n",
       "      <td>21</td>\n",
       "      <td>21</td>\n",
       "      <td>2014-08-26 10:19:16.268829120</td>\n",
       "      <td>288.662162</td>\n",
       "      <td>41.117052</td>\n",
       "      <td>1.019</td>\n",
       "      <td>2.02</td>\n",
       "    </tr>\n",
       "    <tr>\n",
       "      <th>3</th>\n",
       "      <td>22</td>\n",
       "      <td>22</td>\n",
       "      <td>2014-08-26 10:19:18.342813952</td>\n",
       "      <td>288.621170</td>\n",
       "      <td>41.238621</td>\n",
       "      <td>1.011</td>\n",
       "      <td>2.41</td>\n",
       "    </tr>\n",
       "    <tr>\n",
       "      <th>4</th>\n",
       "      <td>41</td>\n",
       "      <td>41</td>\n",
       "      <td>2014-09-03 23:19:19.884088064</td>\n",
       "      <td>288.662892</td>\n",
       "      <td>41.211967</td>\n",
       "      <td>0.685</td>\n",
       "      <td>3.15</td>\n",
       "    </tr>\n",
       "  </tbody>\n",
       "</table>\n",
       "</div>"
      ],
      "text/plain": [
       "   Unnamed: 0  Unnamed: 0.1                           time         lon  \\\n",
       "0          19            19  2014-08-26 10:19:13.157855040  288.723427   \n",
       "1          20            20  2014-08-26 10:19:14.194844992  288.703035   \n",
       "2          21            21  2014-08-26 10:19:16.268829120  288.662162   \n",
       "3          22            22  2014-08-26 10:19:18.342813952  288.621170   \n",
       "4          41            41  2014-09-03 23:19:19.884088064  288.662892   \n",
       "\n",
       "         lat    swh  wind_speed_alt  \n",
       "0  40.934677  1.097            1.84  \n",
       "1  40.995472  1.116            1.62  \n",
       "2  41.117052  1.019            2.02  \n",
       "3  41.238621  1.011            2.41  \n",
       "4  41.211967  0.685            3.15  "
      ]
     },
     "execution_count": 7,
     "metadata": {},
     "output_type": "execute_result"
    }
   ],
   "source": [
    "greenbox = pd.read_csv(\"target_rp25.csv\")\n",
    "greenbox.head()"
   ]
  },
  {
   "cell_type": "code",
   "execution_count": 8,
   "metadata": {},
   "outputs": [
    {
     "data": {
      "text/html": [
       "<div>\n",
       "<style scoped>\n",
       "    .dataframe tbody tr th:only-of-type {\n",
       "        vertical-align: middle;\n",
       "    }\n",
       "\n",
       "    .dataframe tbody tr th {\n",
       "        vertical-align: top;\n",
       "    }\n",
       "\n",
       "    .dataframe thead th {\n",
       "        text-align: right;\n",
       "    }\n",
       "</style>\n",
       "<table border=\"1\" class=\"dataframe\">\n",
       "  <thead>\n",
       "    <tr style=\"text-align: right;\">\n",
       "      <th></th>\n",
       "      <th>Unnamed: 0</th>\n",
       "      <th>Unnamed: 0.1</th>\n",
       "      <th>time</th>\n",
       "      <th>lon</th>\n",
       "      <th>lat</th>\n",
       "      <th>swh</th>\n",
       "      <th>wind_speed_alt</th>\n",
       "      <th>Date</th>\n",
       "    </tr>\n",
       "  </thead>\n",
       "  <tbody>\n",
       "    <tr>\n",
       "      <th>0</th>\n",
       "      <td>19</td>\n",
       "      <td>19</td>\n",
       "      <td>2014-08-26 10:19:13.157855040</td>\n",
       "      <td>288.723427</td>\n",
       "      <td>40.934677</td>\n",
       "      <td>1.097</td>\n",
       "      <td>1.84</td>\n",
       "      <td>2014-08-26 10:19:13</td>\n",
       "    </tr>\n",
       "    <tr>\n",
       "      <th>1</th>\n",
       "      <td>20</td>\n",
       "      <td>20</td>\n",
       "      <td>2014-08-26 10:19:14.194844992</td>\n",
       "      <td>288.703035</td>\n",
       "      <td>40.995472</td>\n",
       "      <td>1.116</td>\n",
       "      <td>1.62</td>\n",
       "      <td>2014-08-26 10:19:14</td>\n",
       "    </tr>\n",
       "    <tr>\n",
       "      <th>2</th>\n",
       "      <td>21</td>\n",
       "      <td>21</td>\n",
       "      <td>2014-08-26 10:19:16.268829120</td>\n",
       "      <td>288.662162</td>\n",
       "      <td>41.117052</td>\n",
       "      <td>1.019</td>\n",
       "      <td>2.02</td>\n",
       "      <td>2014-08-26 10:19:16</td>\n",
       "    </tr>\n",
       "    <tr>\n",
       "      <th>3</th>\n",
       "      <td>22</td>\n",
       "      <td>22</td>\n",
       "      <td>2014-08-26 10:19:18.342813952</td>\n",
       "      <td>288.621170</td>\n",
       "      <td>41.238621</td>\n",
       "      <td>1.011</td>\n",
       "      <td>2.41</td>\n",
       "      <td>2014-08-26 10:19:18</td>\n",
       "    </tr>\n",
       "    <tr>\n",
       "      <th>4</th>\n",
       "      <td>41</td>\n",
       "      <td>41</td>\n",
       "      <td>2014-09-03 23:19:19.884088064</td>\n",
       "      <td>288.662892</td>\n",
       "      <td>41.211967</td>\n",
       "      <td>0.685</td>\n",
       "      <td>3.15</td>\n",
       "      <td>2014-09-03 23:19:19</td>\n",
       "    </tr>\n",
       "  </tbody>\n",
       "</table>\n",
       "</div>"
      ],
      "text/plain": [
       "   Unnamed: 0  Unnamed: 0.1                           time         lon  \\\n",
       "0          19            19  2014-08-26 10:19:13.157855040  288.723427   \n",
       "1          20            20  2014-08-26 10:19:14.194844992  288.703035   \n",
       "2          21            21  2014-08-26 10:19:16.268829120  288.662162   \n",
       "3          22            22  2014-08-26 10:19:18.342813952  288.621170   \n",
       "4          41            41  2014-09-03 23:19:19.884088064  288.662892   \n",
       "\n",
       "         lat    swh  wind_speed_alt                Date  \n",
       "0  40.934677  1.097            1.84 2014-08-26 10:19:13  \n",
       "1  40.995472  1.116            1.62 2014-08-26 10:19:14  \n",
       "2  41.117052  1.019            2.02 2014-08-26 10:19:16  \n",
       "3  41.238621  1.011            2.41 2014-08-26 10:19:18  \n",
       "4  41.211967  0.685            3.15 2014-09-03 23:19:19  "
      ]
     },
     "execution_count": 8,
     "metadata": {},
     "output_type": "execute_result"
    }
   ],
   "source": [
    "greenbox[\"Date\"] = greenbox[\"time\"].apply(lambda x: x.split(\".\")[0])\n",
    "greenbox[\"Date\"] = pd.to_datetime(greenbox[\"Date\"],format=\"%Y-%m-%d  %H:%M:%S\")\n",
    "greenbox.head()"
   ]
  },
  {
   "cell_type": "code",
   "execution_count": 9,
   "metadata": {},
   "outputs": [
    {
     "data": {
      "text/html": [
       "<div>\n",
       "<style scoped>\n",
       "    .dataframe tbody tr th:only-of-type {\n",
       "        vertical-align: middle;\n",
       "    }\n",
       "\n",
       "    .dataframe tbody tr th {\n",
       "        vertical-align: top;\n",
       "    }\n",
       "\n",
       "    .dataframe thead th {\n",
       "        text-align: right;\n",
       "    }\n",
       "</style>\n",
       "<table border=\"1\" class=\"dataframe\">\n",
       "  <thead>\n",
       "    <tr style=\"text-align: right;\">\n",
       "      <th></th>\n",
       "      <th>Unnamed: 0</th>\n",
       "      <th>Unnamed: 0.1</th>\n",
       "      <th>lon</th>\n",
       "      <th>lat</th>\n",
       "      <th>swh</th>\n",
       "      <th>wind_speed_alt</th>\n",
       "    </tr>\n",
       "    <tr>\n",
       "      <th>Date</th>\n",
       "      <th></th>\n",
       "      <th></th>\n",
       "      <th></th>\n",
       "      <th></th>\n",
       "      <th></th>\n",
       "      <th></th>\n",
       "    </tr>\n",
       "  </thead>\n",
       "  <tbody>\n",
       "    <tr>\n",
       "      <th>2014-08-26 10:00:00</th>\n",
       "      <td>20.5</td>\n",
       "      <td>20.5</td>\n",
       "      <td>288.677448</td>\n",
       "      <td>41.071455</td>\n",
       "      <td>1.06075</td>\n",
       "      <td>1.9725</td>\n",
       "    </tr>\n",
       "    <tr>\n",
       "      <th>2014-08-26 11:00:00</th>\n",
       "      <td>NaN</td>\n",
       "      <td>NaN</td>\n",
       "      <td>NaN</td>\n",
       "      <td>NaN</td>\n",
       "      <td>NaN</td>\n",
       "      <td>NaN</td>\n",
       "    </tr>\n",
       "    <tr>\n",
       "      <th>2014-08-26 12:00:00</th>\n",
       "      <td>NaN</td>\n",
       "      <td>NaN</td>\n",
       "      <td>NaN</td>\n",
       "      <td>NaN</td>\n",
       "      <td>NaN</td>\n",
       "      <td>NaN</td>\n",
       "    </tr>\n",
       "    <tr>\n",
       "      <th>2014-08-26 13:00:00</th>\n",
       "      <td>NaN</td>\n",
       "      <td>NaN</td>\n",
       "      <td>NaN</td>\n",
       "      <td>NaN</td>\n",
       "      <td>NaN</td>\n",
       "      <td>NaN</td>\n",
       "    </tr>\n",
       "    <tr>\n",
       "      <th>2014-08-26 14:00:00</th>\n",
       "      <td>NaN</td>\n",
       "      <td>NaN</td>\n",
       "      <td>NaN</td>\n",
       "      <td>NaN</td>\n",
       "      <td>NaN</td>\n",
       "      <td>NaN</td>\n",
       "    </tr>\n",
       "  </tbody>\n",
       "</table>\n",
       "</div>"
      ],
      "text/plain": [
       "                     Unnamed: 0  Unnamed: 0.1         lon        lat      swh  \\\n",
       "Date                                                                            \n",
       "2014-08-26 10:00:00        20.5          20.5  288.677448  41.071455  1.06075   \n",
       "2014-08-26 11:00:00         NaN           NaN         NaN        NaN      NaN   \n",
       "2014-08-26 12:00:00         NaN           NaN         NaN        NaN      NaN   \n",
       "2014-08-26 13:00:00         NaN           NaN         NaN        NaN      NaN   \n",
       "2014-08-26 14:00:00         NaN           NaN         NaN        NaN      NaN   \n",
       "\n",
       "                     wind_speed_alt  \n",
       "Date                                 \n",
       "2014-08-26 10:00:00          1.9725  \n",
       "2014-08-26 11:00:00             NaN  \n",
       "2014-08-26 12:00:00             NaN  \n",
       "2014-08-26 13:00:00             NaN  \n",
       "2014-08-26 14:00:00             NaN  "
      ]
     },
     "execution_count": 9,
     "metadata": {},
     "output_type": "execute_result"
    }
   ],
   "source": [
    "# convert to hourly data\n",
    "greenbox.index = greenbox['Date']\n",
    "greenbox_hourly = greenbox.resample('H').mean()\n",
    "greenbox_hourly.head()"
   ]
  },
  {
   "cell_type": "code",
   "execution_count": 10,
   "metadata": {},
   "outputs": [
    {
     "data": {
      "text/html": [
       "<div>\n",
       "<style scoped>\n",
       "    .dataframe tbody tr th:only-of-type {\n",
       "        vertical-align: middle;\n",
       "    }\n",
       "\n",
       "    .dataframe tbody tr th {\n",
       "        vertical-align: top;\n",
       "    }\n",
       "\n",
       "    .dataframe thead th {\n",
       "        text-align: right;\n",
       "    }\n",
       "</style>\n",
       "<table border=\"1\" class=\"dataframe\">\n",
       "  <thead>\n",
       "    <tr style=\"text-align: right;\">\n",
       "      <th></th>\n",
       "      <th>swh</th>\n",
       "      <th>wind_speed_alt</th>\n",
       "    </tr>\n",
       "    <tr>\n",
       "      <th>Date</th>\n",
       "      <th></th>\n",
       "      <th></th>\n",
       "    </tr>\n",
       "  </thead>\n",
       "  <tbody>\n",
       "    <tr>\n",
       "      <th>2014-08-26 10:00:00</th>\n",
       "      <td>1.060750</td>\n",
       "      <td>1.972500</td>\n",
       "    </tr>\n",
       "    <tr>\n",
       "      <th>2014-09-03 23:00:00</th>\n",
       "      <td>0.660667</td>\n",
       "      <td>3.233333</td>\n",
       "    </tr>\n",
       "    <tr>\n",
       "      <th>2014-09-30 10:00:00</th>\n",
       "      <td>0.748333</td>\n",
       "      <td>6.706667</td>\n",
       "    </tr>\n",
       "    <tr>\n",
       "      <th>2014-11-04 10:00:00</th>\n",
       "      <td>1.254667</td>\n",
       "      <td>5.963333</td>\n",
       "    </tr>\n",
       "    <tr>\n",
       "      <th>2014-11-12 23:00:00</th>\n",
       "      <td>0.858800</td>\n",
       "      <td>4.468000</td>\n",
       "    </tr>\n",
       "  </tbody>\n",
       "</table>\n",
       "</div>"
      ],
      "text/plain": [
       "                          swh  wind_speed_alt\n",
       "Date                                         \n",
       "2014-08-26 10:00:00  1.060750        1.972500\n",
       "2014-09-03 23:00:00  0.660667        3.233333\n",
       "2014-09-30 10:00:00  0.748333        6.706667\n",
       "2014-11-04 10:00:00  1.254667        5.963333\n",
       "2014-11-12 23:00:00  0.858800        4.468000"
      ]
     },
     "execution_count": 10,
     "metadata": {},
     "output_type": "execute_result"
    }
   ],
   "source": [
    "# clean data\n",
    "greenbox_hourly = greenbox_hourly[[\"swh\",\"wind_speed_alt\"]]\n",
    "greenbox_hourly = greenbox_hourly.dropna()\n",
    "#buoy44097_rp25_hourly[\"Date1\"] = buoy44097_rp25_hourly.index\n",
    "greenbox = greenbox_hourly.reset_index(drop=True)\n",
    "greenbox_hourly.head()"
   ]
  },
  {
   "cell_type": "code",
   "execution_count": 11,
   "metadata": {},
   "outputs": [
    {
     "name": "stdout",
     "output_type": "stream",
     "text": [
      "<class 'pandas.core.frame.DataFrame'>\n",
      "DatetimeIndex: 82 entries, 2014-08-26 10:00:00 to 2019-12-16 10:00:00\n",
      "Data columns (total 2 columns):\n",
      " #   Column          Non-Null Count  Dtype  \n",
      "---  ------          --------------  -----  \n",
      " 0   swh             82 non-null     float64\n",
      " 1   wind_speed_alt  82 non-null     float64\n",
      "dtypes: float64(2)\n",
      "memory usage: 1.9 KB\n"
     ]
    }
   ],
   "source": [
    "greenbox_hourly.info()"
   ]
  },
  {
   "cell_type": "markdown",
   "metadata": {},
   "source": [
    "Merge target area Rp25 SARAL/AltiKa and BUZM3 data"
   ]
  },
  {
   "cell_type": "code",
   "execution_count": 12,
   "metadata": {},
   "outputs": [
    {
     "data": {
      "text/html": [
       "<div>\n",
       "<style scoped>\n",
       "    .dataframe tbody tr th:only-of-type {\n",
       "        vertical-align: middle;\n",
       "    }\n",
       "\n",
       "    .dataframe tbody tr th {\n",
       "        vertical-align: top;\n",
       "    }\n",
       "\n",
       "    .dataframe thead th {\n",
       "        text-align: right;\n",
       "    }\n",
       "</style>\n",
       "<table border=\"1\" class=\"dataframe\">\n",
       "  <thead>\n",
       "    <tr style=\"text-align: right;\">\n",
       "      <th></th>\n",
       "      <th>swh</th>\n",
       "      <th>wind_speed_alt</th>\n",
       "      <th>Date</th>\n",
       "      <th>WSPD</th>\n",
       "      <th>u10_powerlaw</th>\n",
       "    </tr>\n",
       "    <tr>\n",
       "      <th>Date</th>\n",
       "      <th></th>\n",
       "      <th></th>\n",
       "      <th></th>\n",
       "      <th></th>\n",
       "      <th></th>\n",
       "    </tr>\n",
       "  </thead>\n",
       "  <tbody>\n",
       "    <tr>\n",
       "      <th>2014-01-01 00:00:00</th>\n",
       "      <td>NaN</td>\n",
       "      <td>NaN</td>\n",
       "      <td>2014-01-01 00:00:00</td>\n",
       "      <td>7.3</td>\n",
       "      <td>6.411692</td>\n",
       "    </tr>\n",
       "    <tr>\n",
       "      <th>2014-01-01 01:00:00</th>\n",
       "      <td>NaN</td>\n",
       "      <td>NaN</td>\n",
       "      <td>2014-01-01 01:00:00</td>\n",
       "      <td>9.9</td>\n",
       "      <td>8.695308</td>\n",
       "    </tr>\n",
       "    <tr>\n",
       "      <th>2014-01-01 02:00:00</th>\n",
       "      <td>NaN</td>\n",
       "      <td>NaN</td>\n",
       "      <td>2014-01-01 02:00:00</td>\n",
       "      <td>12.8</td>\n",
       "      <td>11.242418</td>\n",
       "    </tr>\n",
       "    <tr>\n",
       "      <th>2014-01-01 03:00:00</th>\n",
       "      <td>NaN</td>\n",
       "      <td>NaN</td>\n",
       "      <td>2014-01-01 03:00:00</td>\n",
       "      <td>12.6</td>\n",
       "      <td>11.066755</td>\n",
       "    </tr>\n",
       "    <tr>\n",
       "      <th>2014-01-01 04:00:00</th>\n",
       "      <td>NaN</td>\n",
       "      <td>NaN</td>\n",
       "      <td>2014-01-01 04:00:00</td>\n",
       "      <td>11.3</td>\n",
       "      <td>9.924947</td>\n",
       "    </tr>\n",
       "  </tbody>\n",
       "</table>\n",
       "</div>"
      ],
      "text/plain": [
       "                     swh  wind_speed_alt                Date  WSPD  \\\n",
       "Date                                                                 \n",
       "2014-01-01 00:00:00  NaN             NaN 2014-01-01 00:00:00   7.3   \n",
       "2014-01-01 01:00:00  NaN             NaN 2014-01-01 01:00:00   9.9   \n",
       "2014-01-01 02:00:00  NaN             NaN 2014-01-01 02:00:00  12.8   \n",
       "2014-01-01 03:00:00  NaN             NaN 2014-01-01 03:00:00  12.6   \n",
       "2014-01-01 04:00:00  NaN             NaN 2014-01-01 04:00:00  11.3   \n",
       "\n",
       "                     u10_powerlaw  \n",
       "Date                               \n",
       "2014-01-01 00:00:00      6.411692  \n",
       "2014-01-01 01:00:00      8.695308  \n",
       "2014-01-01 02:00:00     11.242418  \n",
       "2014-01-01 03:00:00     11.066755  \n",
       "2014-01-01 04:00:00      9.924947  "
      ]
     },
     "execution_count": 12,
     "metadata": {},
     "output_type": "execute_result"
    }
   ],
   "source": [
    "df = greenbox_hourly.join(buzm3_buoy,how=\"outer\")\n",
    "df.head()"
   ]
  },
  {
   "cell_type": "code",
   "execution_count": 13,
   "metadata": {},
   "outputs": [
    {
     "data": {
      "text/html": [
       "<div>\n",
       "<style scoped>\n",
       "    .dataframe tbody tr th:only-of-type {\n",
       "        vertical-align: middle;\n",
       "    }\n",
       "\n",
       "    .dataframe tbody tr th {\n",
       "        vertical-align: top;\n",
       "    }\n",
       "\n",
       "    .dataframe thead th {\n",
       "        text-align: right;\n",
       "    }\n",
       "</style>\n",
       "<table border=\"1\" class=\"dataframe\">\n",
       "  <thead>\n",
       "    <tr style=\"text-align: right;\">\n",
       "      <th></th>\n",
       "      <th>target_rp25_u10</th>\n",
       "      <th>BUZM3_u10</th>\n",
       "    </tr>\n",
       "    <tr>\n",
       "      <th>Date</th>\n",
       "      <th></th>\n",
       "      <th></th>\n",
       "    </tr>\n",
       "  </thead>\n",
       "  <tbody>\n",
       "    <tr>\n",
       "      <th>2014-01-01 00:00:00</th>\n",
       "      <td>NaN</td>\n",
       "      <td>6.411692</td>\n",
       "    </tr>\n",
       "    <tr>\n",
       "      <th>2014-01-01 01:00:00</th>\n",
       "      <td>NaN</td>\n",
       "      <td>8.695308</td>\n",
       "    </tr>\n",
       "    <tr>\n",
       "      <th>2014-01-01 02:00:00</th>\n",
       "      <td>NaN</td>\n",
       "      <td>11.242418</td>\n",
       "    </tr>\n",
       "    <tr>\n",
       "      <th>2014-01-01 03:00:00</th>\n",
       "      <td>NaN</td>\n",
       "      <td>11.066755</td>\n",
       "    </tr>\n",
       "    <tr>\n",
       "      <th>2014-01-01 04:00:00</th>\n",
       "      <td>NaN</td>\n",
       "      <td>9.924947</td>\n",
       "    </tr>\n",
       "  </tbody>\n",
       "</table>\n",
       "</div>"
      ],
      "text/plain": [
       "                     target_rp25_u10  BUZM3_u10\n",
       "Date                                           \n",
       "2014-01-01 00:00:00              NaN   6.411692\n",
       "2014-01-01 01:00:00              NaN   8.695308\n",
       "2014-01-01 02:00:00              NaN  11.242418\n",
       "2014-01-01 03:00:00              NaN  11.066755\n",
       "2014-01-01 04:00:00              NaN   9.924947"
      ]
     },
     "execution_count": 13,
     "metadata": {},
     "output_type": "execute_result"
    }
   ],
   "source": [
    "df = df.rename(columns={'wind_speed_alt':\"target_rp25_u10\",'u10_powerlaw':\"BUZM3_u10\"})\n",
    "df = df[[\"target_rp25_u10\",\"BUZM3_u10\"]]\n",
    "df.head()"
   ]
  },
  {
   "cell_type": "code",
   "execution_count": 14,
   "metadata": {},
   "outputs": [
    {
     "data": {
      "text/html": [
       "<div>\n",
       "<style scoped>\n",
       "    .dataframe tbody tr th:only-of-type {\n",
       "        vertical-align: middle;\n",
       "    }\n",
       "\n",
       "    .dataframe tbody tr th {\n",
       "        vertical-align: top;\n",
       "    }\n",
       "\n",
       "    .dataframe thead th {\n",
       "        text-align: right;\n",
       "    }\n",
       "</style>\n",
       "<table border=\"1\" class=\"dataframe\">\n",
       "  <thead>\n",
       "    <tr style=\"text-align: right;\">\n",
       "      <th></th>\n",
       "      <th>target_rp25_u10</th>\n",
       "      <th>BUZM3_u10</th>\n",
       "    </tr>\n",
       "  </thead>\n",
       "  <tbody>\n",
       "    <tr>\n",
       "      <th>count</th>\n",
       "      <td>82.000000</td>\n",
       "      <td>48453.000000</td>\n",
       "    </tr>\n",
       "    <tr>\n",
       "      <th>mean</th>\n",
       "      <td>6.405870</td>\n",
       "      <td>6.868309</td>\n",
       "    </tr>\n",
       "    <tr>\n",
       "      <th>std</th>\n",
       "      <td>3.363429</td>\n",
       "      <td>3.323616</td>\n",
       "    </tr>\n",
       "    <tr>\n",
       "      <th>min</th>\n",
       "      <td>0.980000</td>\n",
       "      <td>0.000000</td>\n",
       "    </tr>\n",
       "    <tr>\n",
       "      <th>25%</th>\n",
       "      <td>4.145000</td>\n",
       "      <td>4.479401</td>\n",
       "    </tr>\n",
       "    <tr>\n",
       "      <th>50%</th>\n",
       "      <td>5.622333</td>\n",
       "      <td>6.499523</td>\n",
       "    </tr>\n",
       "    <tr>\n",
       "      <th>75%</th>\n",
       "      <td>7.940625</td>\n",
       "      <td>8.870970</td>\n",
       "    </tr>\n",
       "    <tr>\n",
       "      <th>max</th>\n",
       "      <td>16.593333</td>\n",
       "      <td>24.680621</td>\n",
       "    </tr>\n",
       "  </tbody>\n",
       "</table>\n",
       "</div>"
      ],
      "text/plain": [
       "       target_rp25_u10     BUZM3_u10\n",
       "count        82.000000  48453.000000\n",
       "mean          6.405870      6.868309\n",
       "std           3.363429      3.323616\n",
       "min           0.980000      0.000000\n",
       "25%           4.145000      4.479401\n",
       "50%           5.622333      6.499523\n",
       "75%           7.940625      8.870970\n",
       "max          16.593333     24.680621"
      ]
     },
     "execution_count": 14,
     "metadata": {},
     "output_type": "execute_result"
    }
   ],
   "source": [
    "df.describe()"
   ]
  },
  {
   "cell_type": "code",
   "execution_count": 15,
   "metadata": {},
   "outputs": [
    {
     "name": "stdout",
     "output_type": "stream",
     "text": [
      "<class 'pandas.core.frame.DataFrame'>\n",
      "DatetimeIndex: 48461 entries, 2014-01-01 00:00:00 to 2019-12-31 23:00:00\n",
      "Data columns (total 2 columns):\n",
      " #   Column           Non-Null Count  Dtype  \n",
      "---  ------           --------------  -----  \n",
      " 0   target_rp25_u10  82 non-null     float64\n",
      " 1   BUZM3_u10        48453 non-null  float64\n",
      "dtypes: float64(2)\n",
      "memory usage: 1.1 MB\n"
     ]
    }
   ],
   "source": [
    "df.info()"
   ]
  },
  {
   "cell_type": "markdown",
   "metadata": {},
   "source": [
    "merge data"
   ]
  },
  {
   "cell_type": "code",
   "execution_count": 16,
   "metadata": {},
   "outputs": [],
   "source": [
    "x = df[\"target_rp25_u10\"]\n",
    "y = df[\"BUZM3_u10\"]"
   ]
  },
  {
   "cell_type": "code",
   "execution_count": 17,
   "metadata": {},
   "outputs": [
    {
     "data": {
      "text/html": [
       "<div>\n",
       "<style scoped>\n",
       "    .dataframe tbody tr th:only-of-type {\n",
       "        vertical-align: middle;\n",
       "    }\n",
       "\n",
       "    .dataframe tbody tr th {\n",
       "        vertical-align: top;\n",
       "    }\n",
       "\n",
       "    .dataframe thead th {\n",
       "        text-align: right;\n",
       "    }\n",
       "</style>\n",
       "<table border=\"1\" class=\"dataframe\">\n",
       "  <thead>\n",
       "    <tr style=\"text-align: right;\">\n",
       "      <th></th>\n",
       "      <th>target_rp25_u10</th>\n",
       "      <th>BUZM3_u10</th>\n",
       "    </tr>\n",
       "  </thead>\n",
       "  <tbody>\n",
       "    <tr>\n",
       "      <th>count</th>\n",
       "      <td>82.000000</td>\n",
       "      <td>48453.000000</td>\n",
       "    </tr>\n",
       "    <tr>\n",
       "      <th>mean</th>\n",
       "      <td>6.405870</td>\n",
       "      <td>6.868309</td>\n",
       "    </tr>\n",
       "    <tr>\n",
       "      <th>std</th>\n",
       "      <td>3.363429</td>\n",
       "      <td>3.323616</td>\n",
       "    </tr>\n",
       "    <tr>\n",
       "      <th>min</th>\n",
       "      <td>0.980000</td>\n",
       "      <td>0.000000</td>\n",
       "    </tr>\n",
       "    <tr>\n",
       "      <th>25%</th>\n",
       "      <td>4.145000</td>\n",
       "      <td>4.479401</td>\n",
       "    </tr>\n",
       "    <tr>\n",
       "      <th>50%</th>\n",
       "      <td>5.622333</td>\n",
       "      <td>6.499523</td>\n",
       "    </tr>\n",
       "    <tr>\n",
       "      <th>75%</th>\n",
       "      <td>7.940625</td>\n",
       "      <td>8.870970</td>\n",
       "    </tr>\n",
       "    <tr>\n",
       "      <th>max</th>\n",
       "      <td>16.593333</td>\n",
       "      <td>24.680621</td>\n",
       "    </tr>\n",
       "  </tbody>\n",
       "</table>\n",
       "</div>"
      ],
      "text/plain": [
       "       target_rp25_u10     BUZM3_u10\n",
       "count        82.000000  48453.000000\n",
       "mean          6.405870      6.868309\n",
       "std           3.363429      3.323616\n",
       "min           0.980000      0.000000\n",
       "25%           4.145000      4.479401\n",
       "50%           5.622333      6.499523\n",
       "75%           7.940625      8.870970\n",
       "max          16.593333     24.680621"
      ]
     },
     "execution_count": 17,
     "metadata": {},
     "output_type": "execute_result"
    }
   ],
   "source": [
    "df.describe()"
   ]
  },
  {
   "cell_type": "code",
   "execution_count": 18,
   "metadata": {},
   "outputs": [],
   "source": [
    "X = x[~np.isnan(x)]"
   ]
  },
  {
   "cell_type": "code",
   "execution_count": 19,
   "metadata": {},
   "outputs": [],
   "source": [
    "Y = y[~np.isnan(y)]"
   ]
  },
  {
   "cell_type": "code",
   "execution_count": 20,
   "metadata": {},
   "outputs": [],
   "source": [
    "# add weibull fit to marginal histograms\n",
    "from scipy.stats import weibull_min\n",
    "shape1, loc1, scale1 = weibull_min.fit(X.values,floc=0) # fc is fixed shape\n",
    "shape2, loc2, scale2 = weibull_min.fit(Y.values, fc=2,floc=0) # fc is fixed shape"
   ]
  },
  {
   "cell_type": "code",
   "execution_count": 21,
   "metadata": {},
   "outputs": [
    {
     "data": {
      "text/plain": [
       "(6.427634868309059, 10.925634169505827)"
      ]
     },
     "execution_count": 21,
     "metadata": {},
     "output_type": "execute_result"
    }
   ],
   "source": [
    "mean1 = weibull_min.mean(c=shape1, loc=0, scale=scale1)\n",
    "var1 = weibull_min.var(c=shape1, loc=0, scale=scale1)\n",
    "mean1, var1"
   ]
  },
  {
   "cell_type": "code",
   "execution_count": 22,
   "metadata": {},
   "outputs": [
    {
     "data": {
      "text/plain": [
       "(6.765355956012468, 12.506185223154489)"
      ]
     },
     "execution_count": 22,
     "metadata": {},
     "output_type": "execute_result"
    }
   ],
   "source": [
    "mean2 = weibull_min.mean(c=shape2, loc=0, scale=scale2)\n",
    "var2 = weibull_min.var(c=shape2, loc=0, scale=scale2)\n",
    "mean2, var2"
   ]
  },
  {
   "cell_type": "code",
   "execution_count": 23,
   "metadata": {},
   "outputs": [
    {
     "name": "stdout",
     "output_type": "stream",
     "text": [
      "<class 'pandas.core.frame.DataFrame'>\n",
      "DatetimeIndex: 74 entries, 2014-08-26 10:00:00 to 2019-12-16 10:00:00\n",
      "Data columns (total 3 columns):\n",
      " #   Column                   Non-Null Count  Dtype  \n",
      "---  ------                   --------------  -----  \n",
      " 0   target_rp25_u10          74 non-null     float64\n",
      " 1   BUZM3_u10                74 non-null     float64\n",
      " 2   target_rp25_u10_biascor  74 non-null     float64\n",
      "dtypes: float64(3)\n",
      "memory usage: 2.3 KB\n"
     ]
    }
   ],
   "source": [
    "# regression \n",
    "merged_xy = pd.concat([x, y], axis=1)\n",
    "merged_xy = merged_xy.dropna()\n",
    "merged_xy[\"target_rp25_u10_biascor\"] = merged_xy[\"target_rp25_u10\"].apply(lambda x: x+bias)\n",
    "merged_xy.info()\n"
   ]
  },
  {
   "cell_type": "code",
   "execution_count": 24,
   "metadata": {},
   "outputs": [
    {
     "data": {
      "text/html": [
       "<div>\n",
       "<style scoped>\n",
       "    .dataframe tbody tr th:only-of-type {\n",
       "        vertical-align: middle;\n",
       "    }\n",
       "\n",
       "    .dataframe tbody tr th {\n",
       "        vertical-align: top;\n",
       "    }\n",
       "\n",
       "    .dataframe thead th {\n",
       "        text-align: right;\n",
       "    }\n",
       "</style>\n",
       "<table border=\"1\" class=\"dataframe\">\n",
       "  <thead>\n",
       "    <tr style=\"text-align: right;\">\n",
       "      <th></th>\n",
       "      <th>target_rp25_u10</th>\n",
       "      <th>BUZM3_u10</th>\n",
       "      <th>target_rp25_u10_biascor</th>\n",
       "    </tr>\n",
       "    <tr>\n",
       "      <th>Date</th>\n",
       "      <th></th>\n",
       "      <th></th>\n",
       "      <th></th>\n",
       "    </tr>\n",
       "  </thead>\n",
       "  <tbody>\n",
       "    <tr>\n",
       "      <th>2014-08-26 10:00:00</th>\n",
       "      <td>1.972500</td>\n",
       "      <td>2.634942</td>\n",
       "      <td>3.138600</td>\n",
       "    </tr>\n",
       "    <tr>\n",
       "      <th>2014-09-03 23:00:00</th>\n",
       "      <td>3.233333</td>\n",
       "      <td>4.830726</td>\n",
       "      <td>4.399433</td>\n",
       "    </tr>\n",
       "    <tr>\n",
       "      <th>2014-09-30 10:00:00</th>\n",
       "      <td>6.706667</td>\n",
       "      <td>5.357715</td>\n",
       "      <td>7.872767</td>\n",
       "    </tr>\n",
       "    <tr>\n",
       "      <th>2014-11-04 10:00:00</th>\n",
       "      <td>5.963333</td>\n",
       "      <td>2.898436</td>\n",
       "      <td>7.129433</td>\n",
       "    </tr>\n",
       "    <tr>\n",
       "      <th>2014-11-12 23:00:00</th>\n",
       "      <td>4.468000</td>\n",
       "      <td>3.601087</td>\n",
       "      <td>5.634100</td>\n",
       "    </tr>\n",
       "    <tr>\n",
       "      <th>...</th>\n",
       "      <td>...</td>\n",
       "      <td>...</td>\n",
       "      <td>...</td>\n",
       "    </tr>\n",
       "    <tr>\n",
       "      <th>2019-01-07 10:00:00</th>\n",
       "      <td>13.365714</td>\n",
       "      <td>12.384226</td>\n",
       "      <td>14.531814</td>\n",
       "    </tr>\n",
       "    <tr>\n",
       "      <th>2019-01-23 10:00:00</th>\n",
       "      <td>9.597500</td>\n",
       "      <td>7.904825</td>\n",
       "      <td>10.763600</td>\n",
       "    </tr>\n",
       "    <tr>\n",
       "      <th>2019-08-21 23:00:00</th>\n",
       "      <td>7.028750</td>\n",
       "      <td>6.763017</td>\n",
       "      <td>8.194850</td>\n",
       "    </tr>\n",
       "    <tr>\n",
       "      <th>2019-09-30 10:00:00</th>\n",
       "      <td>7.153333</td>\n",
       "      <td>7.465668</td>\n",
       "      <td>8.319433</td>\n",
       "    </tr>\n",
       "    <tr>\n",
       "      <th>2019-12-16 10:00:00</th>\n",
       "      <td>9.445000</td>\n",
       "      <td>8.958802</td>\n",
       "      <td>10.611100</td>\n",
       "    </tr>\n",
       "  </tbody>\n",
       "</table>\n",
       "<p>74 rows × 3 columns</p>\n",
       "</div>"
      ],
      "text/plain": [
       "                     target_rp25_u10  BUZM3_u10  target_rp25_u10_biascor\n",
       "Date                                                                    \n",
       "2014-08-26 10:00:00         1.972500   2.634942                 3.138600\n",
       "2014-09-03 23:00:00         3.233333   4.830726                 4.399433\n",
       "2014-09-30 10:00:00         6.706667   5.357715                 7.872767\n",
       "2014-11-04 10:00:00         5.963333   2.898436                 7.129433\n",
       "2014-11-12 23:00:00         4.468000   3.601087                 5.634100\n",
       "...                              ...        ...                      ...\n",
       "2019-01-07 10:00:00        13.365714  12.384226                14.531814\n",
       "2019-01-23 10:00:00         9.597500   7.904825                10.763600\n",
       "2019-08-21 23:00:00         7.028750   6.763017                 8.194850\n",
       "2019-09-30 10:00:00         7.153333   7.465668                 8.319433\n",
       "2019-12-16 10:00:00         9.445000   8.958802                10.611100\n",
       "\n",
       "[74 rows x 3 columns]"
      ]
     },
     "execution_count": 24,
     "metadata": {},
     "output_type": "execute_result"
    }
   ],
   "source": [
    "merged_xy"
   ]
  },
  {
   "cell_type": "code",
   "execution_count": 25,
   "metadata": {},
   "outputs": [
    {
     "data": {
      "text/html": [
       "<div>\n",
       "<style scoped>\n",
       "    .dataframe tbody tr th:only-of-type {\n",
       "        vertical-align: middle;\n",
       "    }\n",
       "\n",
       "    .dataframe tbody tr th {\n",
       "        vertical-align: top;\n",
       "    }\n",
       "\n",
       "    .dataframe thead th {\n",
       "        text-align: right;\n",
       "    }\n",
       "</style>\n",
       "<table border=\"1\" class=\"dataframe\">\n",
       "  <thead>\n",
       "    <tr style=\"text-align: right;\">\n",
       "      <th></th>\n",
       "      <th>target_rp25_u10</th>\n",
       "      <th>BUZM3_u10</th>\n",
       "      <th>target_rp25_u10_biascor</th>\n",
       "    </tr>\n",
       "  </thead>\n",
       "  <tbody>\n",
       "    <tr>\n",
       "      <th>count</th>\n",
       "      <td>74.000000</td>\n",
       "      <td>74.000000</td>\n",
       "      <td>74.000000</td>\n",
       "    </tr>\n",
       "    <tr>\n",
       "      <th>mean</th>\n",
       "      <td>6.419444</td>\n",
       "      <td>6.745213</td>\n",
       "      <td>7.585544</td>\n",
       "    </tr>\n",
       "    <tr>\n",
       "      <th>std</th>\n",
       "      <td>3.400713</td>\n",
       "      <td>3.220870</td>\n",
       "      <td>3.400713</td>\n",
       "    </tr>\n",
       "    <tr>\n",
       "      <th>min</th>\n",
       "      <td>0.980000</td>\n",
       "      <td>1.053977</td>\n",
       "      <td>2.146100</td>\n",
       "    </tr>\n",
       "    <tr>\n",
       "      <th>25%</th>\n",
       "      <td>4.145000</td>\n",
       "      <td>4.479401</td>\n",
       "      <td>5.311100</td>\n",
       "    </tr>\n",
       "    <tr>\n",
       "      <th>50%</th>\n",
       "      <td>5.774000</td>\n",
       "      <td>6.587354</td>\n",
       "      <td>6.940100</td>\n",
       "    </tr>\n",
       "    <tr>\n",
       "      <th>75%</th>\n",
       "      <td>7.940625</td>\n",
       "      <td>8.431814</td>\n",
       "      <td>9.106725</td>\n",
       "    </tr>\n",
       "    <tr>\n",
       "      <th>max</th>\n",
       "      <td>16.593333</td>\n",
       "      <td>15.546156</td>\n",
       "      <td>17.759433</td>\n",
       "    </tr>\n",
       "  </tbody>\n",
       "</table>\n",
       "</div>"
      ],
      "text/plain": [
       "       target_rp25_u10  BUZM3_u10  target_rp25_u10_biascor\n",
       "count        74.000000  74.000000                74.000000\n",
       "mean          6.419444   6.745213                 7.585544\n",
       "std           3.400713   3.220870                 3.400713\n",
       "min           0.980000   1.053977                 2.146100\n",
       "25%           4.145000   4.479401                 5.311100\n",
       "50%           5.774000   6.587354                 6.940100\n",
       "75%           7.940625   8.431814                 9.106725\n",
       "max          16.593333  15.546156                17.759433"
      ]
     },
     "execution_count": 25,
     "metadata": {},
     "output_type": "execute_result"
    }
   ],
   "source": [
    "merged_xy.describe()"
   ]
  },
  {
   "cell_type": "code",
   "execution_count": 26,
   "metadata": {},
   "outputs": [],
   "source": [
    "merged_xy.to_csv(\"merged_data.csv\")"
   ]
  },
  {
   "cell_type": "code",
   "execution_count": 27,
   "metadata": {},
   "outputs": [],
   "source": [
    "m, b = np.polyfit(merged_xy[\"target_rp25_u10\"], merged_xy[\"BUZM3_u10\"], 1)"
   ]
  },
  {
   "cell_type": "code",
   "execution_count": 28,
   "metadata": {},
   "outputs": [
    {
     "data": {
      "text/plain": [
       "(0.8128710625962333, 1.5270334022643235)"
      ]
     },
     "execution_count": 28,
     "metadata": {},
     "output_type": "execute_result"
    }
   ],
   "source": [
    "m,b"
   ]
  },
  {
   "cell_type": "code",
   "execution_count": 29,
   "metadata": {},
   "outputs": [
    {
     "data": {
      "text/plain": [
       "0.7366085748339091"
      ]
     },
     "execution_count": 29,
     "metadata": {},
     "output_type": "execute_result"
    }
   ],
   "source": [
    "correlation_matrix = np.corrcoef(merged_xy[\"target_rp25_u10\"], merged_xy[\"BUZM3_u10\"])\n",
    "correlation_xy = correlation_matrix[0,1]\n",
    "r_squared = correlation_xy**2\n",
    "r_squared"
   ]
  },
  {
   "cell_type": "code",
   "execution_count": 30,
   "metadata": {},
   "outputs": [
    {
     "data": {
      "text/html": [
       "<div>\n",
       "<style scoped>\n",
       "    .dataframe tbody tr th:only-of-type {\n",
       "        vertical-align: middle;\n",
       "    }\n",
       "\n",
       "    .dataframe tbody tr th {\n",
       "        vertical-align: top;\n",
       "    }\n",
       "\n",
       "    .dataframe thead th {\n",
       "        text-align: right;\n",
       "    }\n",
       "</style>\n",
       "<table border=\"1\" class=\"dataframe\">\n",
       "  <thead>\n",
       "    <tr style=\"text-align: right;\">\n",
       "      <th></th>\n",
       "      <th>target_rp25_u10</th>\n",
       "      <th>BUZM3_u10</th>\n",
       "      <th>target_rp25_u10_biascor</th>\n",
       "      <th>y-x</th>\n",
       "    </tr>\n",
       "  </thead>\n",
       "  <tbody>\n",
       "    <tr>\n",
       "      <th>count</th>\n",
       "      <td>74.000000</td>\n",
       "      <td>74.000000</td>\n",
       "      <td>74.000000</td>\n",
       "      <td>74.000000</td>\n",
       "    </tr>\n",
       "    <tr>\n",
       "      <th>mean</th>\n",
       "      <td>6.419444</td>\n",
       "      <td>6.745213</td>\n",
       "      <td>7.585544</td>\n",
       "      <td>0.325770</td>\n",
       "    </tr>\n",
       "    <tr>\n",
       "      <th>std</th>\n",
       "      <td>3.400713</td>\n",
       "      <td>3.220870</td>\n",
       "      <td>3.400713</td>\n",
       "      <td>1.771269</td>\n",
       "    </tr>\n",
       "    <tr>\n",
       "      <th>min</th>\n",
       "      <td>0.980000</td>\n",
       "      <td>1.053977</td>\n",
       "      <td>2.146100</td>\n",
       "      <td>-3.142529</td>\n",
       "    </tr>\n",
       "    <tr>\n",
       "      <th>25%</th>\n",
       "      <td>4.145000</td>\n",
       "      <td>4.479401</td>\n",
       "      <td>5.311100</td>\n",
       "      <td>-0.952844</td>\n",
       "    </tr>\n",
       "    <tr>\n",
       "      <th>50%</th>\n",
       "      <td>5.774000</td>\n",
       "      <td>6.587354</td>\n",
       "      <td>6.940100</td>\n",
       "      <td>0.171866</td>\n",
       "    </tr>\n",
       "    <tr>\n",
       "      <th>75%</th>\n",
       "      <td>7.940625</td>\n",
       "      <td>8.431814</td>\n",
       "      <td>9.106725</td>\n",
       "      <td>1.460124</td>\n",
       "    </tr>\n",
       "    <tr>\n",
       "      <th>max</th>\n",
       "      <td>16.593333</td>\n",
       "      <td>15.546156</td>\n",
       "      <td>17.759433</td>\n",
       "      <td>5.192732</td>\n",
       "    </tr>\n",
       "  </tbody>\n",
       "</table>\n",
       "</div>"
      ],
      "text/plain": [
       "       target_rp25_u10  BUZM3_u10  target_rp25_u10_biascor        y-x\n",
       "count        74.000000  74.000000                74.000000  74.000000\n",
       "mean          6.419444   6.745213                 7.585544   0.325770\n",
       "std           3.400713   3.220870                 3.400713   1.771269\n",
       "min           0.980000   1.053977                 2.146100  -3.142529\n",
       "25%           4.145000   4.479401                 5.311100  -0.952844\n",
       "50%           5.774000   6.587354                 6.940100   0.171866\n",
       "75%           7.940625   8.431814                 9.106725   1.460124\n",
       "max          16.593333  15.546156                17.759433   5.192732"
      ]
     },
     "execution_count": 30,
     "metadata": {},
     "output_type": "execute_result"
    }
   ],
   "source": [
    "merged_xy['y-x'] = merged_xy[\"BUZM3_u10\"] - merged_xy[\"target_rp25_u10\"]\n",
    "merged_xy.describe()"
   ]
  },
  {
   "cell_type": "code",
   "execution_count": 31,
   "metadata": {},
   "outputs": [
    {
     "data": {
      "text/plain": [
       "(0.812871062596233, 0.5791444561708552)"
      ]
     },
     "execution_count": 31,
     "metadata": {},
     "output_type": "execute_result"
    }
   ],
   "source": [
    "# calculate slope and pearson r for bias corrected satellite data\n",
    "m1, b1 = np.polyfit(merged_xy[\"target_rp25_u10_biascor\"], merged_xy[\"BUZM3_u10\"], 1)\n",
    "m1,b1"
   ]
  },
  {
   "cell_type": "code",
   "execution_count": 32,
   "metadata": {},
   "outputs": [
    {
     "data": {
      "text/plain": [
       "0.7366085748339087"
      ]
     },
     "execution_count": 32,
     "metadata": {},
     "output_type": "execute_result"
    }
   ],
   "source": [
    "correlation_matrix1 = np.corrcoef(merged_xy[\"target_rp25_u10_biascor\"], merged_xy[\"BUZM3_u10\"])\n",
    "correlation_xy1 = correlation_matrix1[0,1]\n",
    "r_squared1 = correlation_xy1**2\n",
    "r_squared1"
   ]
  },
  {
   "cell_type": "code",
   "execution_count": 33,
   "metadata": {},
   "outputs": [],
   "source": [
    "merged_list1 = list(merged_xy[\"target_rp25_u10_biascor\"])+list(merged_xy[\"BUZM3_u10\"])"
   ]
  },
  {
   "cell_type": "code",
   "execution_count": 34,
   "metadata": {},
   "outputs": [
    {
     "data": {
      "text/plain": [
       "148"
      ]
     },
     "execution_count": 34,
     "metadata": {},
     "output_type": "execute_result"
    }
   ],
   "source": [
    "len(merged_list1)"
   ]
  },
  {
   "cell_type": "code",
   "execution_count": 35,
   "metadata": {},
   "outputs": [
    {
     "data": {
      "text/plain": [
       "7.165378571416214"
      ]
     },
     "execution_count": 35,
     "metadata": {},
     "output_type": "execute_result"
    }
   ],
   "source": [
    "np.mean(merged_list1)"
   ]
  },
  {
   "cell_type": "code",
   "execution_count": 36,
   "metadata": {},
   "outputs": [],
   "source": [
    "X_bias_corrected = list(merged_xy[\"target_rp25_u10_biascor\"])"
   ]
  },
  {
   "cell_type": "markdown",
   "metadata": {},
   "source": [
    "Weibull fit after bias correction"
   ]
  },
  {
   "cell_type": "code",
   "execution_count": 37,
   "metadata": {},
   "outputs": [
    {
     "data": {
      "text/plain": [
       "(2, 0, 7.895605468750015)"
      ]
     },
     "execution_count": 37,
     "metadata": {},
     "output_type": "execute_result"
    }
   ],
   "source": [
    "shape3, loc3, scale3 = weibull_min.fit(merged_list1, fc=2,floc=0)\n",
    "shape3, loc3, scale3"
   ]
  },
  {
   "cell_type": "code",
   "execution_count": 38,
   "metadata": {},
   "outputs": [
    {
     "data": {
      "text/plain": [
       "(2, 0, 8.303515625000015)"
      ]
     },
     "execution_count": 38,
     "metadata": {},
     "output_type": "execute_result"
    }
   ],
   "source": [
    "shape11, loc11, scale11 = weibull_min.fit(merged_xy[\"target_rp25_u10_biascor\"], fc=2,floc=0)\n",
    "shape11, loc11, scale11"
   ]
  },
  {
   "cell_type": "code",
   "execution_count": 39,
   "metadata": {},
   "outputs": [
    {
     "data": {
      "text/plain": [
       "(6.427634868309059, 6.765355956012468)"
      ]
     },
     "execution_count": 39,
     "metadata": {},
     "output_type": "execute_result"
    }
   ],
   "source": [
    "mean1,mean2"
   ]
  },
  {
   "cell_type": "code",
   "execution_count": 40,
   "metadata": {},
   "outputs": [],
   "source": [
    "mean11 = weibull_min.mean(c=shape11, loc=0, scale=scale11)"
   ]
  },
  {
   "cell_type": "code",
   "execution_count": 41,
   "metadata": {},
   "outputs": [
    {
     "data": {
      "text/plain": [
       "(7.358799122792699, 6.765355956012468)"
      ]
     },
     "execution_count": 41,
     "metadata": {},
     "output_type": "execute_result"
    }
   ],
   "source": [
    "mean11,mean2"
   ]
  },
  {
   "cell_type": "code",
   "execution_count": 42,
   "metadata": {},
   "outputs": [
    {
     "data": {
      "text/plain": [
       "7.165378571416214"
      ]
     },
     "execution_count": 42,
     "metadata": {},
     "output_type": "execute_result"
    }
   ],
   "source": [
    "np.mean(merged_list1)"
   ]
  },
  {
   "cell_type": "code",
   "execution_count": 43,
   "metadata": {},
   "outputs": [],
   "source": [
    "weibull_y = np.linspace(Y.min(), Y.max(), 50) # more smooth"
   ]
  },
  {
   "cell_type": "markdown",
   "metadata": {},
   "source": [
    "Fig10b: weibull fit"
   ]
  },
  {
   "cell_type": "code",
   "execution_count": 44,
   "metadata": {},
   "outputs": [
    {
     "data": {
      "text/plain": [
       "Text(0.275, -0.03, 'B')"
      ]
     },
     "execution_count": 44,
     "metadata": {},
     "output_type": "execute_result"
    },
    {
     "data": {
      "image/png": "[encoded data removed]",
      "text/plain": [
       "<Figure size 720x720 with 1 Axes>"
      ]
     },
     "metadata": {
      "needs_background": "light"
     },
     "output_type": "display_data"
    }
   ],
   "source": [
    "# after bias correction\n",
    "fig, ax  = plt.subplots(figsize=(10,10))\n",
    "weibull_merged = np.linspace(min(merged_list1), max(merged_list1), 100)\n",
    "weibull_x = np.linspace(min(X_bias_corrected), max(X_bias_corrected), 100)\n",
    "plt.plot(weibull_x,weibull_min(shape11, loc11, scale11).pdf(weibull_x),\"grey\",linewidth = 2, label=\"Target area \" + \"$R_{p25}$\"+\" Saral/ALtika\"+\" Weillbull \\n(Scale:\"+str(round(scale11,2))+\";Shape:\"+str(round(shape11,2))+\")\")\n",
    "plt.plot(weibull_y,weibull_min(shape2, loc2, scale2).pdf(weibull_y),\"k--\",linewidth = 2,label=\"BUZM3 \"+\" Weibull \\n(Scale:\"+str(round(scale2,2))+\";Shape:\"+str(round(shape2,2))+\")\")\n",
    "plt.plot(weibull_merged,weibull_min(shape3, loc3, scale3).pdf(weibull_merged),color=\"red\",linewidth = 2,label=\"Merged Weibull \"+\"\\n(Scale:\"+str(round(scale3,2))+\";Shape:\"+str(round(shape3,2))+\")\")\n",
    "plt.legend(fontsize=12,loc=\"upper right\")\n",
    "#plt.legend(bbox_to_anchor=(1, -0.1), loc='upper right', fontsize=12)\n",
    "plt.setp(ax.get_xticklabels(), fontsize=15)\n",
    "plt.setp(ax.get_yticklabels(), fontsize=15)\n",
    "ax.set_xlabel(\"Hourly $u_{10}$\"+\" (m/s)\",fontsize=15)\n",
    "ax.set_ylabel(\"Density Function\",fontsize=15)\n",
    "plt.ylim(0,0.13)\n",
    "plt.xlim(0,27)\n",
    "plt.plot(mean11,0.001,color='grey',marker=\"o\",markersize=5)\n",
    "plt.plot(mean2,0.001,color='black',marker=\"o\",markersize=5)\n",
    "plt.text(0.25,-0.03, 'A', horizontalalignment='center',\n",
    "    verticalalignment='center', transform=ax.transAxes,fontsize=12)\n",
    "plt.text(0.275,-0.03, 'B', horizontalalignment='center',\n",
    "    verticalalignment='center', transform=ax.transAxes,fontsize=12)\n"
   ]
  },
  {
   "cell_type": "markdown",
   "metadata": {},
   "source": [
    "Mean energy density"
   ]
  },
  {
   "cell_type": "code",
   "execution_count": 45,
   "metadata": {},
   "outputs": [],
   "source": [
    "# parameters\n",
    "air_density = 1.225 # kg/m^3\n",
    "\n",
    "from scipy.special import gamma, factorial\n",
    "def mean_energy_density(A,k):\n",
    "    air_density = 1.225 # kg/m^3\n",
    "    mean_energy_density = round(0.5*air_density*A**3*gamma(1+3/k),0)\n",
    "    return mean_energy_density"
   ]
  },
  {
   "cell_type": "code",
   "execution_count": 46,
   "metadata": {},
   "outputs": [
    {
     "name": "stdout",
     "output_type": "stream",
     "text": [
      "Target Rp25 466.0 8.3 2\n",
      "BUZM3 362.0 7.63 2\n",
      "Merged 401.0 7.9 2\n"
     ]
    }
   ],
   "source": [
    "print(\"Target Rp25\", mean_energy_density(scale11,shape11), round(scale11,2),round(shape11,2))\n",
    "print(\"BUZM3\", mean_energy_density(scale2,shape2), round(scale2,2),round(shape2,2))\n",
    "print(\"Merged\", mean_energy_density(scale3,shape3), round(scale3,2),round(shape3,2))"
   ]
  },
  {
   "cell_type": "markdown",
   "metadata": {},
   "source": [
    "Fig10a: marginal histograms"
   ]
  },
  {
   "cell_type": "code",
   "execution_count": 47,
   "metadata": {},
   "outputs": [
    {
     "name": "stdout",
     "output_type": "stream",
     "text": [
      "  agg_filter: a filter function, which takes a (m, n, 3) float array and a dpi value, and returns a (m, n, 3) array\n",
      "  alpha: float or None\n",
      "  animated: bool\n",
      "  clip_box: `.Bbox`\n",
      "  clip_on: bool\n",
      "  clip_path: Patch or (Path, Transform) or None\n",
      "  contains: callable\n",
      "  figure: `.Figure`\n",
      "  gid: str\n",
      "  in_layout: bool\n",
      "  label: str\n",
      "  label1: str\n",
      "  label2: str\n",
      "  pad: float\n",
      "  path_effects: `.AbstractPathEffect`\n",
      "  picker: None or bool or float or callable\n",
      "  rasterized: bool or None\n",
      "  sketch_params: (scale: float, length: float, randomness: float)\n",
      "  snap: bool or None\n",
      "  transform: `.Transform`\n",
      "  url: str\n",
      "  visible: bool\n",
      "  zorder: float\n",
      "  agg_filter: a filter function, which takes a (m, n, 3) float array and a dpi value, and returns a (m, n, 3) array\n",
      "  alpha: float or None\n",
      "  animated: bool\n",
      "  clip_box: `.Bbox`\n",
      "  clip_on: bool\n",
      "  clip_path: Patch or (Path, Transform) or None\n",
      "  contains: callable\n",
      "  figure: `.Figure`\n",
      "  gid: str\n",
      "  in_layout: bool\n",
      "  label: str\n",
      "  label1: str\n",
      "  label2: str\n",
      "  pad: float\n",
      "  path_effects: `.AbstractPathEffect`\n",
      "  picker: None or bool or float or callable\n",
      "  rasterized: bool or None\n",
      "  sketch_params: (scale: float, length: float, randomness: float)\n",
      "  snap: bool or None\n",
      "  transform: `.Transform`\n",
      "  url: str\n",
      "  visible: bool\n",
      "  zorder: float\n",
      "  agg_filter: a filter function, which takes a (m, n, 3) float array and a dpi value, and returns a (m, n, 3) array\n",
      "  alpha: float or None\n",
      "  animated: bool\n",
      "  clip_box: `.Bbox`\n",
      "  clip_on: bool\n",
      "  clip_path: Patch or (Path, Transform) or None\n",
      "  contains: callable\n",
      "  figure: `.Figure`\n",
      "  gid: str\n",
      "  in_layout: bool\n",
      "  label: str\n",
      "  label1: str\n",
      "  label2: str\n",
      "  pad: float\n",
      "  path_effects: `.AbstractPathEffect`\n",
      "  picker: None or bool or float or callable\n",
      "  rasterized: bool or None\n",
      "  sketch_params: (scale: float, length: float, randomness: float)\n",
      "  snap: bool or None\n",
      "  transform: `.Transform`\n",
      "  url: str\n",
      "  visible: bool\n",
      "  zorder: float\n"
     ]
    },
    {
     "data": {
      "text/plain": [
       "(0.0, 20.0)"
      ]
     },
     "execution_count": 47,
     "metadata": {},
     "output_type": "execute_result"
    },
    {
     "data": {
      "image/png": "[encoded data removed]",
      "text/plain": [
       "<Figure size 720x720 with 3 Axes>"
      ]
     },
     "metadata": {
      "needs_background": "light"
     },
     "output_type": "display_data"
    }
   ],
   "source": [
    "# after bias correction\n",
    "import matplotlib.pyplot as plt\n",
    "from matplotlib.gridspec import GridSpec\n",
    "import numpy as np\n",
    "\n",
    "# x = np.random.rand(50)\n",
    "# y = np.random.rand(50)\n",
    "\n",
    "fig = plt.figure(figsize=(10,10))\n",
    "\n",
    "gs = GridSpec(4,4)\n",
    "\n",
    "ax_joint = fig.add_subplot(gs[1:4,0:3])\n",
    "ax_marg_x = fig.add_subplot(gs[0,0:3])\n",
    "ax_marg_y = fig.add_subplot(gs[1:4,3])\n",
    "\n",
    "# start = 0 \n",
    "# end = round(max(max(X),max(Y)))\n",
    "ax_joint.scatter(merged_xy[\"target_rp25_u10_biascor\"],merged_xy[\"BUZM3_u10\"])\n",
    "diag_x = np.linspace(0,20,len(X_bias_corrected))\n",
    "#ax_joint.plot(reg_x,m*reg_x + b)\n",
    "ax_joint.plot(diag_x,diag_x,'r--',linewidth=3)\n",
    "\n",
    "reg_x = np.linspace(min(X_bias_corrected),max(X_bias_corrected),len(X_bias_corrected))\n",
    "#ax_joint.plot(reg_x,m1*reg_x+b1,'blue',linewidth=3)\n",
    "\n",
    "# plt.text(0.2, 0.9,'y = '+str(round(m,2))+'x' + \" + \"+str(round(b,2)), horizontalalignment='center',\n",
    "#      verticalalignment='center',\n",
    "#      transform=ax_joint.transAxes,fontsize=15)\n",
    "\n",
    "# plt.text(0.1, 0.9,'Slope = '+str(round(m1,4)) + '\\n $R^2$ = ' + str(round(r_squared1,4)), horizontalalignment='left',\n",
    "#      verticalalignment='center',\n",
    "#      transform=ax_joint.transAxes,fontsize=15)\n",
    "# ax_joint.xaxis.set_ticks(range(0, end, 2))\n",
    "# ax_joint.yaxis.set_ticks(range(0, end, 2))\n",
    "ax_marg_x.hist(merged_xy[\"target_rp25_u10_biascor\"],density=True,alpha=0.5)\n",
    "ax_marg_y.hist(merged_xy[\"BUZM3_u10\"],density=True,orientation=\"horizontal\",alpha=0.5)\n",
    "\n",
    "ax_marg_x.plot(weibull_x,weibull_min(shape11, loc11, scale11).pdf(weibull_x),color=\"grey\",linewidth=3,label=\"A:\"+str(round(scale11,2))+\";k:\"+str(round(shape11,2)))\n",
    "\n",
    "# For horizontal plot, x y are inversed!!!!!!!\n",
    "ax_marg_y.plot(weibull_min(shape2, loc2, scale2).pdf(weibull_y),weibull_y,\"k--\",linewidth=3,label=\"A:\"+str(round(scale2,2))+\";k:\"+str(round(shape2,2)))\n",
    "ax_marg_x.legend(fontsize=12)\n",
    "ax_marg_y.legend(fontsize=12)\n",
    "# Turn off tick labels on marginals\n",
    "plt.setp(ax_marg_x.get_xticklabels(), visible=False)\n",
    "plt.setp(ax_marg_y.get_yticklabels(), visible=False)\n",
    "plt.setp(ax_marg_x.get_yticklabels(), visible=False)\n",
    "plt.setp(ax_marg_y.get_xticklabels(), visible=False)\n",
    "\n",
    "# Set \n",
    "plt.setp(ax_joint.xaxis.set_ticks(range(0, 20, 2)))\n",
    "plt.setp(ax_joint.xaxis.set_ticks(range(0, 20, 2)))\n",
    "plt.setp(ax_joint.yaxis.set_ticks(range(0, 20, 2)))\n",
    "\n",
    "plt.setp(ax_joint.get_xticklabels(), fontsize=15)\n",
    "plt.setp(ax_joint.get_yticklabels(), fontsize=15)\n",
    "# Set labels on joint\n",
    "ax_joint.set_xlabel(\"Target area  \" + \"$R_{p25}$ \"+\"SARAL/AltiKa Hourly \"+\"$u_{10}$\"+\" (m/s)\",fontsize=15)\n",
    "ax_joint.set_ylabel('BUZM3 Hourly '+\"$u_{10}$\"+\" (m/s)\",fontsize=15)\n",
    "\n",
    "ax_joint.set_xlim(0,20)\n",
    "ax_joint.set_ylim(0,20)\n"
   ]
  },
  {
   "cell_type": "markdown",
   "metadata": {},
   "source": [
    "wind power"
   ]
  },
  {
   "cell_type": "code",
   "execution_count": 48,
   "metadata": {},
   "outputs": [],
   "source": [
    "ref_wind = pd.read_csv(\"92671-2012.csv\",skiprows=3)"
   ]
  },
  {
   "cell_type": "code",
   "execution_count": 49,
   "metadata": {},
   "outputs": [
    {
     "name": "stdout",
     "output_type": "stream",
     "text": [
      "cutin wind speed: 2.139\n",
      "cutoff wind speed: 26.14\n",
      "the wind speed where power speed is 25% of power: 6.76\n",
      "the wind speed where power speed is 75% of power: 9.87\n"
     ]
    }
   ],
   "source": [
    "# extract parameters\n",
    "min_max_scaler = preprocessing.MinMaxScaler()\n",
    "power = ref_wind[['power (MW)']].values.astype(float)\n",
    "power_scaled = min_max_scaler.fit_transform(power)\n",
    "ref_wind[\"power_scaled\"] = power_scaled\n",
    "w25 = round(statistics.mean(ref_wind[\"wind speed at 100m (m/s)\"].loc[ref_wind[\"power_scaled\"] == 0.25]),2)\n",
    "w75 = round(statistics.mean(ref_wind[\"wind speed at 100m (m/s)\"].loc[ref_wind[\"power_scaled\"] == 0.75]),2)\n",
    "cutin = max(ref_wind[\"wind speed at 100m (m/s)\"].loc[(ref_wind[\"wind speed at 100m (m/s)\"]<10) &\n",
    "                                                                       (ref_wind[\"power_scaled\"]==0)])\n",
    "cutoff = round(max(ref_wind[\"wind speed at 100m (m/s)\"].loc[ref_wind[\"power_scaled\"]==1]),2)\n",
    "\n",
    "print(\"cutin wind speed:\", cutin)\n",
    "print(\"cutoff wind speed:\", cutoff)\n",
    "print(\"the wind speed where power speed is 25% of power:\", w25)\n",
    "print(\"the wind speed where power speed is 75% of power:\", w75)"
   ]
  },
  {
   "cell_type": "code",
   "execution_count": 50,
   "metadata": {},
   "outputs": [
    {
     "data": {
      "text/html": [
       "<div>\n",
       "<style scoped>\n",
       "    .dataframe tbody tr th:only-of-type {\n",
       "        vertical-align: middle;\n",
       "    }\n",
       "\n",
       "    .dataframe tbody tr th {\n",
       "        vertical-align: top;\n",
       "    }\n",
       "\n",
       "    .dataframe thead th {\n",
       "        text-align: right;\n",
       "    }\n",
       "</style>\n",
       "<table border=\"1\" class=\"dataframe\">\n",
       "  <thead>\n",
       "    <tr style=\"text-align: right;\">\n",
       "      <th></th>\n",
       "      <th>target_rp25_u10</th>\n",
       "      <th>BUZM3_u10</th>\n",
       "      <th>avg_u10</th>\n",
       "      <th>u100</th>\n",
       "      <th>predicted_power</th>\n",
       "    </tr>\n",
       "    <tr>\n",
       "      <th>Date</th>\n",
       "      <th></th>\n",
       "      <th></th>\n",
       "      <th></th>\n",
       "      <th></th>\n",
       "      <th></th>\n",
       "    </tr>\n",
       "  </thead>\n",
       "  <tbody>\n",
       "    <tr>\n",
       "      <th>2014-01-01 00:00:00</th>\n",
       "      <td>NaN</td>\n",
       "      <td>6.411692</td>\n",
       "      <td>6.411692</td>\n",
       "      <td>8.909016</td>\n",
       "      <td>60.340535</td>\n",
       "    </tr>\n",
       "    <tr>\n",
       "      <th>2014-01-01 01:00:00</th>\n",
       "      <td>NaN</td>\n",
       "      <td>8.695308</td>\n",
       "      <td>8.695308</td>\n",
       "      <td>12.082091</td>\n",
       "      <td>93.471390</td>\n",
       "    </tr>\n",
       "    <tr>\n",
       "      <th>2014-01-01 02:00:00</th>\n",
       "      <td>NaN</td>\n",
       "      <td>11.242418</td>\n",
       "      <td>11.242418</td>\n",
       "      <td>15.621289</td>\n",
       "      <td>99.430194</td>\n",
       "    </tr>\n",
       "    <tr>\n",
       "      <th>2014-01-01 03:00:00</th>\n",
       "      <td>NaN</td>\n",
       "      <td>11.066755</td>\n",
       "      <td>11.066755</td>\n",
       "      <td>15.377207</td>\n",
       "      <td>99.323678</td>\n",
       "    </tr>\n",
       "    <tr>\n",
       "      <th>2014-01-01 04:00:00</th>\n",
       "      <td>NaN</td>\n",
       "      <td>9.924947</td>\n",
       "      <td>9.924947</td>\n",
       "      <td>13.790669</td>\n",
       "      <td>97.953932</td>\n",
       "    </tr>\n",
       "  </tbody>\n",
       "</table>\n",
       "</div>"
      ],
      "text/plain": [
       "                     target_rp25_u10  BUZM3_u10    avg_u10       u100  \\\n",
       "Date                                                                    \n",
       "2014-01-01 00:00:00              NaN   6.411692   6.411692   8.909016   \n",
       "2014-01-01 01:00:00              NaN   8.695308   8.695308  12.082091   \n",
       "2014-01-01 02:00:00              NaN  11.242418  11.242418  15.621289   \n",
       "2014-01-01 03:00:00              NaN  11.066755  11.066755  15.377207   \n",
       "2014-01-01 04:00:00              NaN   9.924947   9.924947  13.790669   \n",
       "\n",
       "                     predicted_power  \n",
       "Date                                  \n",
       "2014-01-01 00:00:00        60.340535  \n",
       "2014-01-01 01:00:00        93.471390  \n",
       "2014-01-01 02:00:00        99.430194  \n",
       "2014-01-01 03:00:00        99.323678  \n",
       "2014-01-01 04:00:00        97.953932  "
      ]
     },
     "execution_count": 50,
     "metadata": {},
     "output_type": "execute_result"
    }
   ],
   "source": [
    "# convert wind speed to wind power\n",
    "def curve_function(x):\n",
    "    y = (1/2 * (1-math.tanh((x - (w25+w75)/2)/((w25-w75)/math.log(3)))))\n",
    "    return y\n",
    "\n",
    "df[\"avg_u10\"] = (df[\"target_rp25_u10\"] + df[\"BUZM3_u10\"])/2\n",
    "df[\"avg_u10\"] = df[\"avg_u10\"].where(df['avg_u10']==np.nan, df['BUZM3_u10'])\n",
    "# convert u10m to u100m\n",
    "alpha = 1/7\n",
    "df[\"u100\"] =  df[\"avg_u10\"].apply(lambda x: x* (100/10)**alpha)\n",
    "\n",
    "df[\"predicted_power\"] = df[\"u100\"].apply(lambda x: curve_function(x) if cutin<x<cutoff else 0)\n",
    "df[\"predicted_power\"] = df[\"predicted_power\"]*100\n",
    "df.head()"
   ]
  },
  {
   "cell_type": "markdown",
   "metadata": {},
   "source": [
    "Fig11: wind power curve"
   ]
  },
  {
   "cell_type": "code",
   "execution_count": 51,
   "metadata": {},
   "outputs": [
    {
     "data": {
      "text/plain": [
       "Text(0, 0.5, 'Power Output Capacity (%)')"
      ]
     },
     "execution_count": 51,
     "metadata": {},
     "output_type": "execute_result"
    },
    {
     "data": {
      "image/png": "[encoded data removed]",
      "text/plain": [
       "<Figure size 720x576 with 1 Axes>"
      ]
     },
     "metadata": {
      "needs_background": "light"
     },
     "output_type": "display_data"
    }
   ],
   "source": [
    "df = df.sort_values(by='u100')\n",
    "# plot u100 vs predicted generated power (standardized)\n",
    "x = df[\"u100\"]\n",
    "y = df[\"predicted_power\"]\n",
    "\n",
    "fig, ax = plt.subplots(figsize=(10,8))\n",
    "plt.plot(x,y,'ko',markersize=5)\n",
    "plt.plot(x,y,'r-',linewidth=4)\n",
    "plt.plot(cutin,curve_function(cutin)-3.5,'bo',markersize=10)\n",
    "plt.plot(cutoff,0-3.5,'bo',markersize=10)\n",
    "\n",
    "\n",
    "#plt.plot(cutin, curve_function(cutin)+10, marker=r'$\\downarrow$',markersize=20,color=\"blue\",linewidth=3)\n",
    "plt.text(0.05,-0.03, 'A', horizontalalignment='left',\n",
    "    verticalalignment='center', transform=ax.transAxes,fontsize=12)\n",
    "#plt.plot(cutoff+1, 100, marker=r'$\\leftarrow$',markersize=20,color=\"blue\",linewidth=3)\n",
    "plt.text(0.75,-0.03, 'B', horizontalalignment='center',\n",
    "    verticalalignment='center', transform=ax.transAxes,fontsize=12)\n",
    "\n",
    "plt.ylim(-5,105)\n",
    "plt.xlim(0,max(x)+1)\n",
    "plt.xlabel(\"$u_{100}$\"+ \" (m/s)\",size=15)\n",
    "plt.ylabel(\"Power Output Capacity (%)\",size=15)"
   ]
  },
  {
   "cell_type": "markdown",
   "metadata": {},
   "source": [
    "wind power heat map for Target area Rp25 SARAL/AltiKa"
   ]
  },
  {
   "cell_type": "code",
   "execution_count": 52,
   "metadata": {},
   "outputs": [
    {
     "data": {
      "text/html": [
       "<div>\n",
       "<style scoped>\n",
       "    .dataframe tbody tr th:only-of-type {\n",
       "        vertical-align: middle;\n",
       "    }\n",
       "\n",
       "    .dataframe tbody tr th {\n",
       "        vertical-align: top;\n",
       "    }\n",
       "\n",
       "    .dataframe thead th {\n",
       "        text-align: right;\n",
       "    }\n",
       "</style>\n",
       "<table border=\"1\" class=\"dataframe\">\n",
       "  <thead>\n",
       "    <tr style=\"text-align: right;\">\n",
       "      <th></th>\n",
       "      <th>swh</th>\n",
       "      <th>wind_speed_alt</th>\n",
       "      <th>Date</th>\n",
       "      <th>month</th>\n",
       "      <th>day</th>\n",
       "      <th>hour</th>\n",
       "    </tr>\n",
       "    <tr>\n",
       "      <th>Date</th>\n",
       "      <th></th>\n",
       "      <th></th>\n",
       "      <th></th>\n",
       "      <th></th>\n",
       "      <th></th>\n",
       "      <th></th>\n",
       "    </tr>\n",
       "  </thead>\n",
       "  <tbody>\n",
       "    <tr>\n",
       "      <th>2014-08-26 10:00:00</th>\n",
       "      <td>1.060750</td>\n",
       "      <td>1.972500</td>\n",
       "      <td>2014-08-26 10:00:00</td>\n",
       "      <td>Aug</td>\n",
       "      <td>Tuesday</td>\n",
       "      <td>10</td>\n",
       "    </tr>\n",
       "    <tr>\n",
       "      <th>2014-09-03 23:00:00</th>\n",
       "      <td>0.660667</td>\n",
       "      <td>3.233333</td>\n",
       "      <td>2014-09-03 23:00:00</td>\n",
       "      <td>Sep</td>\n",
       "      <td>Wednesday</td>\n",
       "      <td>23</td>\n",
       "    </tr>\n",
       "    <tr>\n",
       "      <th>2014-09-30 10:00:00</th>\n",
       "      <td>0.748333</td>\n",
       "      <td>6.706667</td>\n",
       "      <td>2014-09-30 10:00:00</td>\n",
       "      <td>Sep</td>\n",
       "      <td>Tuesday</td>\n",
       "      <td>10</td>\n",
       "    </tr>\n",
       "    <tr>\n",
       "      <th>2014-11-04 10:00:00</th>\n",
       "      <td>1.254667</td>\n",
       "      <td>5.963333</td>\n",
       "      <td>2014-11-04 10:00:00</td>\n",
       "      <td>Nov</td>\n",
       "      <td>Tuesday</td>\n",
       "      <td>10</td>\n",
       "    </tr>\n",
       "    <tr>\n",
       "      <th>2014-11-12 23:00:00</th>\n",
       "      <td>0.858800</td>\n",
       "      <td>4.468000</td>\n",
       "      <td>2014-11-12 23:00:00</td>\n",
       "      <td>Nov</td>\n",
       "      <td>Wednesday</td>\n",
       "      <td>23</td>\n",
       "    </tr>\n",
       "    <tr>\n",
       "      <th>...</th>\n",
       "      <td>...</td>\n",
       "      <td>...</td>\n",
       "      <td>...</td>\n",
       "      <td>...</td>\n",
       "      <td>...</td>\n",
       "      <td>...</td>\n",
       "    </tr>\n",
       "    <tr>\n",
       "      <th>2019-06-13 10:00:00</th>\n",
       "      <td>0.852750</td>\n",
       "      <td>9.777500</td>\n",
       "      <td>2019-06-13 10:00:00</td>\n",
       "      <td>Jun</td>\n",
       "      <td>Thursday</td>\n",
       "      <td>10</td>\n",
       "    </tr>\n",
       "    <tr>\n",
       "      <th>2019-08-05 23:00:00</th>\n",
       "      <td>0.846750</td>\n",
       "      <td>3.815000</td>\n",
       "      <td>2019-08-05 23:00:00</td>\n",
       "      <td>Aug</td>\n",
       "      <td>Monday</td>\n",
       "      <td>23</td>\n",
       "    </tr>\n",
       "    <tr>\n",
       "      <th>2019-08-21 23:00:00</th>\n",
       "      <td>1.190250</td>\n",
       "      <td>7.028750</td>\n",
       "      <td>2019-08-21 23:00:00</td>\n",
       "      <td>Aug</td>\n",
       "      <td>Wednesday</td>\n",
       "      <td>23</td>\n",
       "    </tr>\n",
       "    <tr>\n",
       "      <th>2019-09-30 10:00:00</th>\n",
       "      <td>0.921667</td>\n",
       "      <td>7.153333</td>\n",
       "      <td>2019-09-30 10:00:00</td>\n",
       "      <td>Sep</td>\n",
       "      <td>Monday</td>\n",
       "      <td>10</td>\n",
       "    </tr>\n",
       "    <tr>\n",
       "      <th>2019-12-16 10:00:00</th>\n",
       "      <td>1.879833</td>\n",
       "      <td>9.445000</td>\n",
       "      <td>2019-12-16 10:00:00</td>\n",
       "      <td>Dec</td>\n",
       "      <td>Monday</td>\n",
       "      <td>10</td>\n",
       "    </tr>\n",
       "  </tbody>\n",
       "</table>\n",
       "<p>82 rows × 6 columns</p>\n",
       "</div>"
      ],
      "text/plain": [
       "                          swh  wind_speed_alt                Date month  \\\n",
       "Date                                                                      \n",
       "2014-08-26 10:00:00  1.060750        1.972500 2014-08-26 10:00:00   Aug   \n",
       "2014-09-03 23:00:00  0.660667        3.233333 2014-09-03 23:00:00   Sep   \n",
       "2014-09-30 10:00:00  0.748333        6.706667 2014-09-30 10:00:00   Sep   \n",
       "2014-11-04 10:00:00  1.254667        5.963333 2014-11-04 10:00:00   Nov   \n",
       "2014-11-12 23:00:00  0.858800        4.468000 2014-11-12 23:00:00   Nov   \n",
       "...                       ...             ...                 ...   ...   \n",
       "2019-06-13 10:00:00  0.852750        9.777500 2019-06-13 10:00:00   Jun   \n",
       "2019-08-05 23:00:00  0.846750        3.815000 2019-08-05 23:00:00   Aug   \n",
       "2019-08-21 23:00:00  1.190250        7.028750 2019-08-21 23:00:00   Aug   \n",
       "2019-09-30 10:00:00  0.921667        7.153333 2019-09-30 10:00:00   Sep   \n",
       "2019-12-16 10:00:00  1.879833        9.445000 2019-12-16 10:00:00   Dec   \n",
       "\n",
       "                           day  hour  \n",
       "Date                                  \n",
       "2014-08-26 10:00:00    Tuesday    10  \n",
       "2014-09-03 23:00:00  Wednesday    23  \n",
       "2014-09-30 10:00:00    Tuesday    10  \n",
       "2014-11-04 10:00:00    Tuesday    10  \n",
       "2014-11-12 23:00:00  Wednesday    23  \n",
       "...                        ...   ...  \n",
       "2019-06-13 10:00:00   Thursday    10  \n",
       "2019-08-05 23:00:00     Monday    23  \n",
       "2019-08-21 23:00:00  Wednesday    23  \n",
       "2019-09-30 10:00:00     Monday    10  \n",
       "2019-12-16 10:00:00     Monday    10  \n",
       "\n",
       "[82 rows x 6 columns]"
      ]
     },
     "execution_count": 52,
     "metadata": {},
     "output_type": "execute_result"
    }
   ],
   "source": [
    "greenbox_hourly['Date'] = pd.to_datetime(greenbox_hourly.index)\n",
    "greenbox_hourly['month'] = greenbox_hourly['Date'].dt.month_name()\n",
    "greenbox_hourly['month'] = greenbox_hourly['month'].apply(lambda x: x[:3])\n",
    "greenbox_hourly['day'] = greenbox_hourly['Date'].dt.day_name()\n",
    "greenbox_hourly['hour']=greenbox_hourly['Date'].dt.hour\n",
    "greenbox_hourly"
   ]
  },
  {
   "cell_type": "code",
   "execution_count": 53,
   "metadata": {},
   "outputs": [
    {
     "data": {
      "text/html": [
       "<div>\n",
       "<style scoped>\n",
       "    .dataframe tbody tr th:only-of-type {\n",
       "        vertical-align: middle;\n",
       "    }\n",
       "\n",
       "    .dataframe tbody tr th {\n",
       "        vertical-align: top;\n",
       "    }\n",
       "\n",
       "    .dataframe thead th {\n",
       "        text-align: right;\n",
       "    }\n",
       "</style>\n",
       "<table border=\"1\" class=\"dataframe\">\n",
       "  <thead>\n",
       "    <tr style=\"text-align: right;\">\n",
       "      <th></th>\n",
       "      <th>swh</th>\n",
       "      <th>wind_speed_alt</th>\n",
       "      <th>Date</th>\n",
       "      <th>month</th>\n",
       "      <th>day</th>\n",
       "      <th>hour</th>\n",
       "      <th>u100</th>\n",
       "      <th>predicted_power</th>\n",
       "    </tr>\n",
       "    <tr>\n",
       "      <th>Date</th>\n",
       "      <th></th>\n",
       "      <th></th>\n",
       "      <th></th>\n",
       "      <th></th>\n",
       "      <th></th>\n",
       "      <th></th>\n",
       "      <th></th>\n",
       "      <th></th>\n",
       "    </tr>\n",
       "  </thead>\n",
       "  <tbody>\n",
       "    <tr>\n",
       "      <th>2014-08-26 10:00:00</th>\n",
       "      <td>1.060750</td>\n",
       "      <td>1.972500</td>\n",
       "      <td>2014-08-26 10:00:00</td>\n",
       "      <td>Aug</td>\n",
       "      <td>Tuesday</td>\n",
       "      <td>10</td>\n",
       "      <td>2.740780</td>\n",
       "      <td>1.911084</td>\n",
       "    </tr>\n",
       "    <tr>\n",
       "      <th>2014-09-03 23:00:00</th>\n",
       "      <td>0.660667</td>\n",
       "      <td>3.233333</td>\n",
       "      <td>2014-09-03 23:00:00</td>\n",
       "      <td>Sep</td>\n",
       "      <td>Wednesday</td>\n",
       "      <td>23</td>\n",
       "      <td>4.492702</td>\n",
       "      <td>6.294590</td>\n",
       "    </tr>\n",
       "    <tr>\n",
       "      <th>2014-09-30 10:00:00</th>\n",
       "      <td>0.748333</td>\n",
       "      <td>6.706667</td>\n",
       "      <td>2014-09-30 10:00:00</td>\n",
       "      <td>Sep</td>\n",
       "      <td>Tuesday</td>\n",
       "      <td>10</td>\n",
       "      <td>9.318883</td>\n",
       "      <td>67.023462</td>\n",
       "    </tr>\n",
       "    <tr>\n",
       "      <th>2014-11-04 10:00:00</th>\n",
       "      <td>1.254667</td>\n",
       "      <td>5.963333</td>\n",
       "      <td>2014-11-04 10:00:00</td>\n",
       "      <td>Nov</td>\n",
       "      <td>Tuesday</td>\n",
       "      <td>10</td>\n",
       "      <td>8.286025</td>\n",
       "      <td>49.488239</td>\n",
       "    </tr>\n",
       "    <tr>\n",
       "      <th>2014-11-12 23:00:00</th>\n",
       "      <td>0.858800</td>\n",
       "      <td>4.468000</td>\n",
       "      <td>2014-11-12 23:00:00</td>\n",
       "      <td>Nov</td>\n",
       "      <td>Wednesday</td>\n",
       "      <td>23</td>\n",
       "      <td>6.208266</td>\n",
       "      <td>18.415987</td>\n",
       "    </tr>\n",
       "  </tbody>\n",
       "</table>\n",
       "</div>"
      ],
      "text/plain": [
       "                          swh  wind_speed_alt                Date month  \\\n",
       "Date                                                                      \n",
       "2014-08-26 10:00:00  1.060750        1.972500 2014-08-26 10:00:00   Aug   \n",
       "2014-09-03 23:00:00  0.660667        3.233333 2014-09-03 23:00:00   Sep   \n",
       "2014-09-30 10:00:00  0.748333        6.706667 2014-09-30 10:00:00   Sep   \n",
       "2014-11-04 10:00:00  1.254667        5.963333 2014-11-04 10:00:00   Nov   \n",
       "2014-11-12 23:00:00  0.858800        4.468000 2014-11-12 23:00:00   Nov   \n",
       "\n",
       "                           day  hour      u100  predicted_power  \n",
       "Date                                                             \n",
       "2014-08-26 10:00:00    Tuesday    10  2.740780         1.911084  \n",
       "2014-09-03 23:00:00  Wednesday    23  4.492702         6.294590  \n",
       "2014-09-30 10:00:00    Tuesday    10  9.318883        67.023462  \n",
       "2014-11-04 10:00:00    Tuesday    10  8.286025        49.488239  \n",
       "2014-11-12 23:00:00  Wednesday    23  6.208266        18.415987  "
      ]
     },
     "execution_count": 53,
     "metadata": {},
     "output_type": "execute_result"
    }
   ],
   "source": [
    "# convert u10m to u100m\n",
    "alpha = 1/7\n",
    "cutin = 2.14\n",
    "cutoff= 26.14\n",
    "w25 = 6.76\n",
    "w75 = 9.87\n",
    "greenbox_hourly[\"u100\"] = greenbox_hourly[\"wind_speed_alt\"].apply(lambda x: x* (100/10)**alpha)\n",
    "greenbox_hourly[\"predicted_power\"] =greenbox_hourly[\"u100\"].apply(lambda x: curve_function(x) if cutin<x<cutoff else 0)\n",
    "greenbox_hourly[\"predicted_power\"] = greenbox_hourly[\"predicted_power\"]*100\n",
    "greenbox_hourly.head()"
   ]
  },
  {
   "cell_type": "code",
   "execution_count": 54,
   "metadata": {},
   "outputs": [
    {
     "data": {
      "text/html": [
       "<div>\n",
       "<style scoped>\n",
       "    .dataframe tbody tr th:only-of-type {\n",
       "        vertical-align: middle;\n",
       "    }\n",
       "\n",
       "    .dataframe tbody tr th {\n",
       "        vertical-align: top;\n",
       "    }\n",
       "\n",
       "    .dataframe thead th {\n",
       "        text-align: right;\n",
       "    }\n",
       "</style>\n",
       "<table border=\"1\" class=\"dataframe\">\n",
       "  <thead>\n",
       "    <tr style=\"text-align: right;\">\n",
       "      <th></th>\n",
       "      <th>month</th>\n",
       "      <th>hour</th>\n",
       "      <th>mean</th>\n",
       "    </tr>\n",
       "  </thead>\n",
       "  <tbody>\n",
       "    <tr>\n",
       "      <th>0</th>\n",
       "      <td>Aug</td>\n",
       "      <td>10</td>\n",
       "      <td>26.403574</td>\n",
       "    </tr>\n",
       "    <tr>\n",
       "      <th>1</th>\n",
       "      <td>Sep</td>\n",
       "      <td>23</td>\n",
       "      <td>22.780757</td>\n",
       "    </tr>\n",
       "    <tr>\n",
       "      <th>2</th>\n",
       "      <td>Sep</td>\n",
       "      <td>10</td>\n",
       "      <td>56.733325</td>\n",
       "    </tr>\n",
       "    <tr>\n",
       "      <th>3</th>\n",
       "      <td>Nov</td>\n",
       "      <td>10</td>\n",
       "      <td>64.146283</td>\n",
       "    </tr>\n",
       "    <tr>\n",
       "      <th>4</th>\n",
       "      <td>Nov</td>\n",
       "      <td>23</td>\n",
       "      <td>69.121476</td>\n",
       "    </tr>\n",
       "  </tbody>\n",
       "</table>\n",
       "</div>"
      ],
      "text/plain": [
       "  month  hour       mean\n",
       "0   Aug    10  26.403574\n",
       "1   Sep    23  22.780757\n",
       "2   Sep    10  56.733325\n",
       "3   Nov    10  64.146283\n",
       "4   Nov    23  69.121476"
      ]
     },
     "execution_count": 54,
     "metadata": {},
     "output_type": "execute_result"
    }
   ],
   "source": [
    "res = greenbox_hourly[['Date', 'predicted_power', 'month', 'day',\n",
    "       'hour']]\n",
    "\n",
    "df1 = res.groupby(['month', 'hour'],sort=False).agg(['mean'])\n",
    "df1.columns=df1.columns.droplevel(0)\n",
    "df1.reset_index(inplace=True)\n",
    "df1.head()"
   ]
  },
  {
   "cell_type": "code",
   "execution_count": 55,
   "metadata": {},
   "outputs": [],
   "source": [
    "def month2season(x):\n",
    "    if x in [\"Dec\",\"Jan\",\"Feb\"]:\n",
    "        return \"Winter\"\n",
    "    elif x in [\"Mar\",\"Apr\",\"May\"]:\n",
    "        return \"Spring\"\n",
    "    elif x in [\"Jun\",\"Jul\",\"Aug\"]:\n",
    "        return \"Summer\"\n",
    "    else:\n",
    "        return \"Autumn\""
   ]
  },
  {
   "cell_type": "code",
   "execution_count": 56,
   "metadata": {},
   "outputs": [
    {
     "data": {
      "text/html": [
       "<div>\n",
       "<style scoped>\n",
       "    .dataframe tbody tr th:only-of-type {\n",
       "        vertical-align: middle;\n",
       "    }\n",
       "\n",
       "    .dataframe tbody tr th {\n",
       "        vertical-align: top;\n",
       "    }\n",
       "\n",
       "    .dataframe thead th {\n",
       "        text-align: right;\n",
       "    }\n",
       "</style>\n",
       "<table border=\"1\" class=\"dataframe\">\n",
       "  <thead>\n",
       "    <tr style=\"text-align: right;\">\n",
       "      <th></th>\n",
       "      <th>season</th>\n",
       "      <th>hour</th>\n",
       "      <th>mean</th>\n",
       "    </tr>\n",
       "  </thead>\n",
       "  <tbody>\n",
       "    <tr>\n",
       "      <th>0</th>\n",
       "      <td>Summer</td>\n",
       "      <td>10</td>\n",
       "      <td>50.722511</td>\n",
       "    </tr>\n",
       "    <tr>\n",
       "      <th>1</th>\n",
       "      <td>Autumn</td>\n",
       "      <td>23</td>\n",
       "      <td>54.875849</td>\n",
       "    </tr>\n",
       "    <tr>\n",
       "      <th>2</th>\n",
       "      <td>Autumn</td>\n",
       "      <td>10</td>\n",
       "      <td>55.158622</td>\n",
       "    </tr>\n",
       "    <tr>\n",
       "      <th>3</th>\n",
       "      <td>Winter</td>\n",
       "      <td>10</td>\n",
       "      <td>66.196290</td>\n",
       "    </tr>\n",
       "    <tr>\n",
       "      <th>4</th>\n",
       "      <td>Winter</td>\n",
       "      <td>23</td>\n",
       "      <td>50.304711</td>\n",
       "    </tr>\n",
       "  </tbody>\n",
       "</table>\n",
       "</div>"
      ],
      "text/plain": [
       "   season  hour       mean\n",
       "0  Summer    10  50.722511\n",
       "1  Autumn    23  54.875849\n",
       "2  Autumn    10  55.158622\n",
       "3  Winter    10  66.196290\n",
       "4  Winter    23  50.304711"
      ]
     },
     "execution_count": 56,
     "metadata": {},
     "output_type": "execute_result"
    }
   ],
   "source": [
    "df2 = res.copy()\n",
    "df2[\"season\"] = df2[\"month\"].apply(lambda x: month2season(x))\n",
    "df2 = df2.groupby(['season', 'hour'],sort=False).agg(['mean'])\n",
    "df2.columns=df2.columns.droplevel(0)\n",
    "df2.reset_index(inplace=True)\n",
    "df2.head()"
   ]
  },
  {
   "cell_type": "code",
   "execution_count": 57,
   "metadata": {},
   "outputs": [
    {
     "name": "stdout",
     "output_type": "stream",
     "text": [
      "hour           10         23\n",
      "season                      \n",
      "Autumn  55.158622  54.875849\n",
      "Spring  52.056549  39.508879\n",
      "Summer  50.722511  23.951275\n"
     ]
    }
   ],
   "source": [
    "# pandas pivot with multiple variables\n",
    "heatmap_data = pd.pivot_table(df2, values='mean', index=['season'], columns='hour')\n",
    "# print to see few rows and columns\n",
    "print(heatmap_data.iloc[0:3, 0:3])"
   ]
  },
  {
   "cell_type": "code",
   "execution_count": 58,
   "metadata": {},
   "outputs": [],
   "source": [
    "seasons = [\"Winter\",\"Spring\",\"Summer\",\"Autumn\"]\n",
    "heatmap_data=heatmap_data.loc[seasons]"
   ]
  },
  {
   "cell_type": "code",
   "execution_count": 59,
   "metadata": {},
   "outputs": [
    {
     "data": {
      "text/html": [
       "<div>\n",
       "<style scoped>\n",
       "    .dataframe tbody tr th:only-of-type {\n",
       "        vertical-align: middle;\n",
       "    }\n",
       "\n",
       "    .dataframe tbody tr th {\n",
       "        vertical-align: top;\n",
       "    }\n",
       "\n",
       "    .dataframe thead th {\n",
       "        text-align: right;\n",
       "    }\n",
       "</style>\n",
       "<table border=\"1\" class=\"dataframe\">\n",
       "  <thead>\n",
       "    <tr style=\"text-align: right;\">\n",
       "      <th>hour</th>\n",
       "      <th>10</th>\n",
       "      <th>23</th>\n",
       "    </tr>\n",
       "    <tr>\n",
       "      <th>season</th>\n",
       "      <th></th>\n",
       "      <th></th>\n",
       "    </tr>\n",
       "  </thead>\n",
       "  <tbody>\n",
       "    <tr>\n",
       "      <th>Winter</th>\n",
       "      <td>66.196290</td>\n",
       "      <td>50.304711</td>\n",
       "    </tr>\n",
       "    <tr>\n",
       "      <th>Spring</th>\n",
       "      <td>52.056549</td>\n",
       "      <td>39.508879</td>\n",
       "    </tr>\n",
       "    <tr>\n",
       "      <th>Summer</th>\n",
       "      <td>50.722511</td>\n",
       "      <td>23.951275</td>\n",
       "    </tr>\n",
       "    <tr>\n",
       "      <th>Autumn</th>\n",
       "      <td>55.158622</td>\n",
       "      <td>54.875849</td>\n",
       "    </tr>\n",
       "  </tbody>\n",
       "</table>\n",
       "</div>"
      ],
      "text/plain": [
       "hour           10         23\n",
       "season                      \n",
       "Winter  66.196290  50.304711\n",
       "Spring  52.056549  39.508879\n",
       "Summer  50.722511  23.951275\n",
       "Autumn  55.158622  54.875849"
      ]
     },
     "execution_count": 59,
     "metadata": {},
     "output_type": "execute_result"
    }
   ],
   "source": [
    "heatmap_data"
   ]
  },
  {
   "cell_type": "code",
   "execution_count": 60,
   "metadata": {},
   "outputs": [
    {
     "data": {
      "text/html": [
       "<div>\n",
       "<style scoped>\n",
       "    .dataframe tbody tr th:only-of-type {\n",
       "        vertical-align: middle;\n",
       "    }\n",
       "\n",
       "    .dataframe tbody tr th {\n",
       "        vertical-align: top;\n",
       "    }\n",
       "\n",
       "    .dataframe thead th {\n",
       "        text-align: right;\n",
       "    }\n",
       "</style>\n",
       "<table border=\"1\" class=\"dataframe\">\n",
       "  <thead>\n",
       "    <tr style=\"text-align: right;\">\n",
       "      <th>hour</th>\n",
       "      <th>10</th>\n",
       "      <th>23</th>\n",
       "      <th>0</th>\n",
       "      <th>1</th>\n",
       "      <th>2</th>\n",
       "      <th>3</th>\n",
       "      <th>4</th>\n",
       "      <th>5</th>\n",
       "      <th>6</th>\n",
       "      <th>7</th>\n",
       "      <th>...</th>\n",
       "      <th>13</th>\n",
       "      <th>14</th>\n",
       "      <th>15</th>\n",
       "      <th>16</th>\n",
       "      <th>17</th>\n",
       "      <th>18</th>\n",
       "      <th>19</th>\n",
       "      <th>20</th>\n",
       "      <th>21</th>\n",
       "      <th>22</th>\n",
       "    </tr>\n",
       "    <tr>\n",
       "      <th>season</th>\n",
       "      <th></th>\n",
       "      <th></th>\n",
       "      <th></th>\n",
       "      <th></th>\n",
       "      <th></th>\n",
       "      <th></th>\n",
       "      <th></th>\n",
       "      <th></th>\n",
       "      <th></th>\n",
       "      <th></th>\n",
       "      <th></th>\n",
       "      <th></th>\n",
       "      <th></th>\n",
       "      <th></th>\n",
       "      <th></th>\n",
       "      <th></th>\n",
       "      <th></th>\n",
       "      <th></th>\n",
       "      <th></th>\n",
       "      <th></th>\n",
       "      <th></th>\n",
       "    </tr>\n",
       "  </thead>\n",
       "  <tbody>\n",
       "    <tr>\n",
       "      <th>Winter</th>\n",
       "      <td>66.196290</td>\n",
       "      <td>50.304711</td>\n",
       "      <td>NaN</td>\n",
       "      <td>NaN</td>\n",
       "      <td>NaN</td>\n",
       "      <td>NaN</td>\n",
       "      <td>NaN</td>\n",
       "      <td>NaN</td>\n",
       "      <td>NaN</td>\n",
       "      <td>NaN</td>\n",
       "      <td>...</td>\n",
       "      <td>NaN</td>\n",
       "      <td>NaN</td>\n",
       "      <td>NaN</td>\n",
       "      <td>NaN</td>\n",
       "      <td>NaN</td>\n",
       "      <td>NaN</td>\n",
       "      <td>NaN</td>\n",
       "      <td>NaN</td>\n",
       "      <td>NaN</td>\n",
       "      <td>NaN</td>\n",
       "    </tr>\n",
       "    <tr>\n",
       "      <th>Spring</th>\n",
       "      <td>52.056549</td>\n",
       "      <td>39.508879</td>\n",
       "      <td>NaN</td>\n",
       "      <td>NaN</td>\n",
       "      <td>NaN</td>\n",
       "      <td>NaN</td>\n",
       "      <td>NaN</td>\n",
       "      <td>NaN</td>\n",
       "      <td>NaN</td>\n",
       "      <td>NaN</td>\n",
       "      <td>...</td>\n",
       "      <td>NaN</td>\n",
       "      <td>NaN</td>\n",
       "      <td>NaN</td>\n",
       "      <td>NaN</td>\n",
       "      <td>NaN</td>\n",
       "      <td>NaN</td>\n",
       "      <td>NaN</td>\n",
       "      <td>NaN</td>\n",
       "      <td>NaN</td>\n",
       "      <td>NaN</td>\n",
       "    </tr>\n",
       "    <tr>\n",
       "      <th>Summer</th>\n",
       "      <td>50.722511</td>\n",
       "      <td>23.951275</td>\n",
       "      <td>NaN</td>\n",
       "      <td>NaN</td>\n",
       "      <td>NaN</td>\n",
       "      <td>NaN</td>\n",
       "      <td>NaN</td>\n",
       "      <td>NaN</td>\n",
       "      <td>NaN</td>\n",
       "      <td>NaN</td>\n",
       "      <td>...</td>\n",
       "      <td>NaN</td>\n",
       "      <td>NaN</td>\n",
       "      <td>NaN</td>\n",
       "      <td>NaN</td>\n",
       "      <td>NaN</td>\n",
       "      <td>NaN</td>\n",
       "      <td>NaN</td>\n",
       "      <td>NaN</td>\n",
       "      <td>NaN</td>\n",
       "      <td>NaN</td>\n",
       "    </tr>\n",
       "    <tr>\n",
       "      <th>Autumn</th>\n",
       "      <td>55.158622</td>\n",
       "      <td>54.875849</td>\n",
       "      <td>NaN</td>\n",
       "      <td>NaN</td>\n",
       "      <td>NaN</td>\n",
       "      <td>NaN</td>\n",
       "      <td>NaN</td>\n",
       "      <td>NaN</td>\n",
       "      <td>NaN</td>\n",
       "      <td>NaN</td>\n",
       "      <td>...</td>\n",
       "      <td>NaN</td>\n",
       "      <td>NaN</td>\n",
       "      <td>NaN</td>\n",
       "      <td>NaN</td>\n",
       "      <td>NaN</td>\n",
       "      <td>NaN</td>\n",
       "      <td>NaN</td>\n",
       "      <td>NaN</td>\n",
       "      <td>NaN</td>\n",
       "      <td>NaN</td>\n",
       "    </tr>\n",
       "  </tbody>\n",
       "</table>\n",
       "<p>4 rows × 24 columns</p>\n",
       "</div>"
      ],
      "text/plain": [
       "hour           10         23  0   1   2   3   4   5   6   7   ...  13  14  15  \\\n",
       "season                                                        ...               \n",
       "Winter  66.196290  50.304711 NaN NaN NaN NaN NaN NaN NaN NaN  ... NaN NaN NaN   \n",
       "Spring  52.056549  39.508879 NaN NaN NaN NaN NaN NaN NaN NaN  ... NaN NaN NaN   \n",
       "Summer  50.722511  23.951275 NaN NaN NaN NaN NaN NaN NaN NaN  ... NaN NaN NaN   \n",
       "Autumn  55.158622  54.875849 NaN NaN NaN NaN NaN NaN NaN NaN  ... NaN NaN NaN   \n",
       "\n",
       "hour    16  17  18  19  20  21  22  \n",
       "season                              \n",
       "Winter NaN NaN NaN NaN NaN NaN NaN  \n",
       "Spring NaN NaN NaN NaN NaN NaN NaN  \n",
       "Summer NaN NaN NaN NaN NaN NaN NaN  \n",
       "Autumn NaN NaN NaN NaN NaN NaN NaN  \n",
       "\n",
       "[4 rows x 24 columns]"
      ]
     },
     "execution_count": 60,
     "metadata": {},
     "output_type": "execute_result"
    }
   ],
   "source": [
    "heatmap_data1 = heatmap_data.copy()\n",
    "for col in [0,1,2,3,4,5,6,7,8,\n",
    "               9,11,12,13,14,15,16,\n",
    "               17,18,19,20,21,22]:\n",
    "    heatmap_data1[col] = np.nan \n",
    "heatmap_data1"
   ]
  },
  {
   "cell_type": "code",
   "execution_count": 61,
   "metadata": {},
   "outputs": [
    {
     "data": {
      "text/plain": [
       "Int64Index([10, 23,  0,  1,  2,  3,  4,  5,  6,  7,  8,  9, 11, 12, 13, 14, 15,\n",
       "            16, 17, 18, 19, 20, 21, 22],\n",
       "           dtype='int64', name='hour')"
      ]
     },
     "execution_count": 61,
     "metadata": {},
     "output_type": "execute_result"
    }
   ],
   "source": [
    "heatmap_data1.columns"
   ]
  },
  {
   "cell_type": "code",
   "execution_count": 62,
   "metadata": {},
   "outputs": [],
   "source": [
    "heatmap_data1 = heatmap_data1[[0,1,2,3,4,5,6,7,8,\n",
    "               9,10,11,12,13,14,15,16,\n",
    "               17,18,19,20,21,22,23]]"
   ]
  },
  {
   "cell_type": "code",
   "execution_count": 63,
   "metadata": {},
   "outputs": [],
   "source": [
    "hour_list = [ 1,  4,  7, 10, 13, 16, 19, 22, 23]\n",
    "heatmap_data2 = heatmap_data1.iloc[:,hour_list]"
   ]
  },
  {
   "cell_type": "markdown",
   "metadata": {},
   "source": [
    "Fig12b: wind power heat map"
   ]
  },
  {
   "cell_type": "code",
   "execution_count": 64,
   "metadata": {},
   "outputs": [
    {
     "data": {
      "image/png": "[encoded data removed]",
      "text/plain": [
       "<Figure size 720x576 with 2 Axes>"
      ]
     },
     "metadata": {
      "needs_background": "light"
     },
     "output_type": "display_data"
    }
   ],
   "source": [
    "import matplotlib.pyplot as plt\n",
    "import seaborn as sns\n",
    "fig, ax = plt.subplots(figsize=(10,8))\n",
    "ax = sns.heatmap(heatmap_data2,linecolor='white',linewidths=1,cmap=plt.cm.get_cmap('Reds',8 ),vmin=0,vmax=80)\n",
    "plt.xlabel(\"Hour\", size=15)\n",
    "plt.ylabel(\"Month\", size=15)\n",
    "\n",
    "#plt.title(\"Buoy 44017 Estimated Wind Power Capacity (%)\", size=14)\n",
    "\n",
    "cbar = ax.collections[0].colorbar\n",
    "# here set the labelsize by 20\n",
    "cbar.ax.tick_params(labelsize=15)\n",
    "plt.setp(ax.get_xticklabels(), fontsize=15)\n",
    "plt.setp(ax.get_yticklabels(), fontsize=15)\n",
    "plt.xticks(rotation=0)\n",
    "plt.yticks(rotation=0)\n",
    "plt.tight_layout()\n",
    "ax.set_facecolor('whitesmoke')"
   ]
  },
  {
   "cell_type": "markdown",
   "metadata": {},
   "source": [
    "wind power heat map for BUZM3"
   ]
  },
  {
   "cell_type": "code",
   "execution_count": 65,
   "metadata": {},
   "outputs": [],
   "source": [
    "df['Date'] = pd.to_datetime(df.index)\n",
    "df['month'] = df['Date'].dt.month_name()\n",
    "df['month'] = df['month'].apply(lambda x: x[:3])\n",
    "df['day'] = df['Date'].dt.day_name()\n",
    "df['hour']=df['Date'].dt.hour"
   ]
  },
  {
   "cell_type": "code",
   "execution_count": 66,
   "metadata": {},
   "outputs": [
    {
     "data": {
      "text/html": [
       "<div>\n",
       "<style scoped>\n",
       "    .dataframe tbody tr th:only-of-type {\n",
       "        vertical-align: middle;\n",
       "    }\n",
       "\n",
       "    .dataframe tbody tr th {\n",
       "        vertical-align: top;\n",
       "    }\n",
       "\n",
       "    .dataframe thead th {\n",
       "        text-align: right;\n",
       "    }\n",
       "</style>\n",
       "<table border=\"1\" class=\"dataframe\">\n",
       "  <thead>\n",
       "    <tr style=\"text-align: right;\">\n",
       "      <th></th>\n",
       "      <th>month</th>\n",
       "      <th>hour</th>\n",
       "      <th>mean</th>\n",
       "    </tr>\n",
       "  </thead>\n",
       "  <tbody>\n",
       "    <tr>\n",
       "      <th>0</th>\n",
       "      <td>Sep</td>\n",
       "      <td>15</td>\n",
       "      <td>44.659998</td>\n",
       "    </tr>\n",
       "    <tr>\n",
       "      <th>1</th>\n",
       "      <td>Apr</td>\n",
       "      <td>5</td>\n",
       "      <td>54.908802</td>\n",
       "    </tr>\n",
       "    <tr>\n",
       "      <th>2</th>\n",
       "      <td>Aug</td>\n",
       "      <td>11</td>\n",
       "      <td>32.549107</td>\n",
       "    </tr>\n",
       "    <tr>\n",
       "      <th>3</th>\n",
       "      <td>Jul</td>\n",
       "      <td>5</td>\n",
       "      <td>34.362840</td>\n",
       "    </tr>\n",
       "    <tr>\n",
       "      <th>4</th>\n",
       "      <td>May</td>\n",
       "      <td>9</td>\n",
       "      <td>45.437328</td>\n",
       "    </tr>\n",
       "    <tr>\n",
       "      <th>...</th>\n",
       "      <td>...</td>\n",
       "      <td>...</td>\n",
       "      <td>...</td>\n",
       "    </tr>\n",
       "    <tr>\n",
       "      <th>283</th>\n",
       "      <td>Jul</td>\n",
       "      <td>21</td>\n",
       "      <td>52.617578</td>\n",
       "    </tr>\n",
       "    <tr>\n",
       "      <th>284</th>\n",
       "      <td>Jan</td>\n",
       "      <td>4</td>\n",
       "      <td>74.250721</td>\n",
       "    </tr>\n",
       "    <tr>\n",
       "      <th>285</th>\n",
       "      <td>Feb</td>\n",
       "      <td>6</td>\n",
       "      <td>64.590838</td>\n",
       "    </tr>\n",
       "    <tr>\n",
       "      <th>286</th>\n",
       "      <td>Oct</td>\n",
       "      <td>0</td>\n",
       "      <td>66.105909</td>\n",
       "    </tr>\n",
       "    <tr>\n",
       "      <th>287</th>\n",
       "      <td>Dec</td>\n",
       "      <td>3</td>\n",
       "      <td>69.704457</td>\n",
       "    </tr>\n",
       "  </tbody>\n",
       "</table>\n",
       "<p>288 rows × 3 columns</p>\n",
       "</div>"
      ],
      "text/plain": [
       "    month  hour       mean\n",
       "0     Sep    15  44.659998\n",
       "1     Apr     5  54.908802\n",
       "2     Aug    11  32.549107\n",
       "3     Jul     5  34.362840\n",
       "4     May     9  45.437328\n",
       "..    ...   ...        ...\n",
       "283   Jul    21  52.617578\n",
       "284   Jan     4  74.250721\n",
       "285   Feb     6  64.590838\n",
       "286   Oct     0  66.105909\n",
       "287   Dec     3  69.704457\n",
       "\n",
       "[288 rows x 3 columns]"
      ]
     },
     "execution_count": 66,
     "metadata": {},
     "output_type": "execute_result"
    }
   ],
   "source": [
    "res1 = df[['Date', 'predicted_power', 'month', 'day',\n",
    "       'hour']]\n",
    "\n",
    "df3 = res1.groupby(['month', 'hour'],sort=False).agg(['mean'])\n",
    "df3.columns=df3.columns.droplevel(0)\n",
    "df3.reset_index(inplace=True)\n",
    "df3"
   ]
  },
  {
   "cell_type": "code",
   "execution_count": 67,
   "metadata": {},
   "outputs": [
    {
     "data": {
      "text/html": [
       "<div>\n",
       "<style scoped>\n",
       "    .dataframe tbody tr th:only-of-type {\n",
       "        vertical-align: middle;\n",
       "    }\n",
       "\n",
       "    .dataframe tbody tr th {\n",
       "        vertical-align: top;\n",
       "    }\n",
       "\n",
       "    .dataframe thead th {\n",
       "        text-align: right;\n",
       "    }\n",
       "</style>\n",
       "<table border=\"1\" class=\"dataframe\">\n",
       "  <thead>\n",
       "    <tr style=\"text-align: right;\">\n",
       "      <th></th>\n",
       "      <th>season</th>\n",
       "      <th>hour</th>\n",
       "      <th>mean</th>\n",
       "    </tr>\n",
       "  </thead>\n",
       "  <tbody>\n",
       "    <tr>\n",
       "      <th>0</th>\n",
       "      <td>Autumn</td>\n",
       "      <td>15</td>\n",
       "      <td>55.286693</td>\n",
       "    </tr>\n",
       "    <tr>\n",
       "      <th>1</th>\n",
       "      <td>Spring</td>\n",
       "      <td>5</td>\n",
       "      <td>53.872484</td>\n",
       "    </tr>\n",
       "    <tr>\n",
       "      <th>2</th>\n",
       "      <td>Summer</td>\n",
       "      <td>11</td>\n",
       "      <td>35.221886</td>\n",
       "    </tr>\n",
       "    <tr>\n",
       "      <th>3</th>\n",
       "      <td>Summer</td>\n",
       "      <td>5</td>\n",
       "      <td>36.035997</td>\n",
       "    </tr>\n",
       "    <tr>\n",
       "      <th>4</th>\n",
       "      <td>Spring</td>\n",
       "      <td>9</td>\n",
       "      <td>53.864337</td>\n",
       "    </tr>\n",
       "    <tr>\n",
       "      <th>...</th>\n",
       "      <td>...</td>\n",
       "      <td>...</td>\n",
       "      <td>...</td>\n",
       "    </tr>\n",
       "    <tr>\n",
       "      <th>91</th>\n",
       "      <td>Summer</td>\n",
       "      <td>18</td>\n",
       "      <td>44.563226</td>\n",
       "    </tr>\n",
       "    <tr>\n",
       "      <th>92</th>\n",
       "      <td>Winter</td>\n",
       "      <td>4</td>\n",
       "      <td>69.820732</td>\n",
       "    </tr>\n",
       "    <tr>\n",
       "      <th>93</th>\n",
       "      <td>Spring</td>\n",
       "      <td>19</td>\n",
       "      <td>60.202955</td>\n",
       "    </tr>\n",
       "    <tr>\n",
       "      <th>94</th>\n",
       "      <td>Summer</td>\n",
       "      <td>22</td>\n",
       "      <td>52.153255</td>\n",
       "    </tr>\n",
       "    <tr>\n",
       "      <th>95</th>\n",
       "      <td>Summer</td>\n",
       "      <td>21</td>\n",
       "      <td>53.632145</td>\n",
       "    </tr>\n",
       "  </tbody>\n",
       "</table>\n",
       "<p>96 rows × 3 columns</p>\n",
       "</div>"
      ],
      "text/plain": [
       "    season  hour       mean\n",
       "0   Autumn    15  55.286693\n",
       "1   Spring     5  53.872484\n",
       "2   Summer    11  35.221886\n",
       "3   Summer     5  36.035997\n",
       "4   Spring     9  53.864337\n",
       "..     ...   ...        ...\n",
       "91  Summer    18  44.563226\n",
       "92  Winter     4  69.820732\n",
       "93  Spring    19  60.202955\n",
       "94  Summer    22  52.153255\n",
       "95  Summer    21  53.632145\n",
       "\n",
       "[96 rows x 3 columns]"
      ]
     },
     "execution_count": 67,
     "metadata": {},
     "output_type": "execute_result"
    }
   ],
   "source": [
    "df4 = res1.copy()\n",
    "df4[\"season\"] = df4[\"month\"].apply(lambda x: month2season(x))\n",
    "df4 = df4.groupby(['season', 'hour'],sort=False).agg(['mean'])\n",
    "df4.columns=df4.columns.droplevel(0)\n",
    "df4.reset_index(inplace=True)\n",
    "df4"
   ]
  },
  {
   "cell_type": "code",
   "execution_count": 68,
   "metadata": {},
   "outputs": [
    {
     "name": "stdout",
     "output_type": "stream",
     "text": [
      "hour            0          1          2\n",
      "season                                 \n",
      "Autumn  62.211980  60.787431  60.647697\n",
      "Spring  60.596964  57.636216  57.313597\n",
      "Summer  47.956895  45.146718  41.889087\n"
     ]
    }
   ],
   "source": [
    "# pandas pivot with multiple variables\n",
    "heatmap_data3 = pd.pivot_table(df4, values='mean', index=['season'], columns='hour')\n",
    "# print to see few rows and columns\n",
    "print(heatmap_data3.iloc[0:3, 0:3])"
   ]
  },
  {
   "cell_type": "code",
   "execution_count": 69,
   "metadata": {},
   "outputs": [],
   "source": [
    "seasons = [\"Winter\",\"Spring\",\"Summer\",\"Autumn\"]\n",
    "heatmap_data3=heatmap_data3.loc[seasons]\n",
    "hour_list = [ 1,  4,  7, 10, 13, 16, 19, 22, 23]\n",
    "heatmap_data4 = heatmap_data3.iloc[:,hour_list]"
   ]
  },
  {
   "cell_type": "markdown",
   "metadata": {},
   "source": [
    "Fig12a: wind power heat map"
   ]
  },
  {
   "cell_type": "code",
   "execution_count": 70,
   "metadata": {},
   "outputs": [
    {
     "data": {
      "image/png": "[encoded data removed]",
      "text/plain": [
       "<Figure size 720x576 with 2 Axes>"
      ]
     },
     "metadata": {
      "needs_background": "light"
     },
     "output_type": "display_data"
    }
   ],
   "source": [
    "fig, ax = plt.subplots(figsize=(10,8))\n",
    "ax = sns.heatmap(heatmap_data4, linecolor='white',linewidths=1,cmap=plt.cm.get_cmap('Reds',8 ),vmin=0,vmax=80)\n",
    "plt.xlabel(\"Hour\", size=15)\n",
    "plt.ylabel(\"Month\", size=15)\n",
    "\n",
    "#plt.title(\"Buoy 44017 Estimated Wind Power Capacity (%)\", size=14)\n",
    "\n",
    "cbar = ax.collections[0].colorbar\n",
    "# here set the labelsize by 20\n",
    "cbar.ax.tick_params(labelsize=15)\n",
    "plt.setp(ax.get_xticklabels(), fontsize=15)\n",
    "plt.setp(ax.get_yticklabels(), fontsize=15)\n",
    "plt.xticks(rotation=0)\n",
    "plt.yticks(rotation=0)\n",
    "plt.tight_layout()"
   ]
  },
  {
   "cell_type": "code",
   "execution_count": null,
   "metadata": {},
   "outputs": [],
   "source": []
  }
 ],
 "metadata": {
  "kernelspec": {
   "display_name": "Python 3",
   "language": "python",
   "name": "python3"
  },
  "language_info": {
   "codemirror_mode": {
    "name": "ipython",
    "version": 3
   },
   "file_extension": ".py",
   "mimetype": "text/x-python",
   "name": "python",
   "nbconvert_exporter": "python",
   "pygments_lexer": "ipython3",
   "version": "3.8.6"
  }
 },
 "nbformat": 4,
 "nbformat_minor": 4
}
