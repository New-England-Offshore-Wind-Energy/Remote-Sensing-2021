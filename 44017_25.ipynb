{
 "cells": [
  {
   "cell_type": "code",
   "execution_count": null,
   "metadata": {},
   "outputs": [],
   "source": [
    "#data manipulation\n",
    "from pathlib import Path\n",
    "import numpy as np\n",
    "from numpy import percentile\n",
    "from datetime import datetime, timedelta\n",
    "import xarray as xr\n",
    "import pandas as pd\n",
    "import glob\n",
    "import statsmodels.api as sm\n",
    "from statsmodels.sandbox.regression.predstd import wls_prediction_std\n",
    "from sklearn.model_selection import train_test_split \n",
    "from sklearn.linear_model import LinearRegression\n",
    "from sklearn import metrics\n",
    "from sklearn.metrics import r2_score\n",
    "from sklearn.metrics import mean_squared_error\n",
    "from sklearn.model_selection import cross_val_score\n",
    "from sklearn.model_selection import cross_validate\n",
    "from sklearn.preprocessing import PolynomialFeatures\n",
    "from sklearn.pipeline import make_pipeline\n",
    "\n",
    "\n",
    "from math import sqrt\n",
    "import scipy.stats\n",
    "\n",
    "#double iteration in pandas\n",
    "from itertools import product\n",
    "\n",
    "#compute distance between two points on earth in spherical coordinates\n",
    "from haversine import haversine, haversine_vector, Unit\n",
    "\n",
    "#plotting\n",
    "import matplotlib as mpl\n",
    "import matplotlib.pyplot as plt\n",
    "import matplotlib.ticker as mticker\n",
    "import matplotlib.patches as mpatch\n",
    "import matplotlib.patches as patches\n",
    "from matplotlib.transforms import offset_copy\n",
    "import matplotlib.colors as colors\n",
    "import seaborn as seabornInstance \n",
    "import seaborn as sns; sns.set(color_codes=True)\n",
    "\n",
    "%matplotlib inline"
   ]
  },
  {
   "cell_type": "code",
   "execution_count": 26,
   "metadata": {},
   "outputs": [],
   "source": [
    "# example for the SARAL-AltiKa editing criteria implementation\n",
    "def remove_outliers(fname):\n",
    "    \n",
    "    #read the data files\n",
    "    df2 = xr.open_dataset(fname)\n",
    "    \n",
    "    #select all the required variables to detect only the valid data\n",
    "    df2 = df2[['swh','swh_rms','surface_type','wind_speed_alt','ice_flag','sig0','off_nadir_angle_wf','sig0_rms','range_rms','swh_numval', \\\n",
    "           'swh_rms']]\n",
    "    \n",
    "    # convert to pandas dataframe\n",
    "    df2 = df2.to_dataframe()\n",
    "    df2.reset_index(inplace=True)\n",
    "    \n",
    "        # apply the filtering criteria\n",
    "    df2 = df2[(df2['surface_type'] == 0.) & (df2['ice_flag'] == 0.) & (df2['swh'] < 30.) & (df2['sig0'] < 30.) & (df2['sig0'] > 3.) \\\n",
    "            & (df2['off_nadir_angle_wf'] < 0.0625) & (df2['off_nadir_angle_wf'] > -0.2) & (df2['wind_speed_alt'] < 30) & \\\n",
    "             (df2['sig0_rms'] < 1) & (df2['range_rms'] < 0.2) & (df2['swh_numval'] > 20) & (df2['swh_rms'] < df2['swh'])]\n",
    "    \n",
    "    outliers_removed = df2\n",
    "\n",
    "    return outliers_removed"
   ]
  },
  {
   "cell_type": "code",
   "execution_count": 27,
   "metadata": {},
   "outputs": [],
   "source": [
    "# Directory of Saral-AltiKa data (not included here)\n",
    "p = Path('C:/Users/panmits86/Desktop/Python/data/SARAL-AltiKa/IGDR')\n",
    "\n",
    "# iterate the process to every data file\n",
    "results = []\n",
    "for fname in p.glob('*.nc'):\n",
    "    swh_sa = remove_outliers(fname)\n",
    "    results.append(swh_sa)\n",
    "    swh = pd.concat(results, sort=True)"
   ]
  },
  {
   "cell_type": "code",
   "execution_count": 42,
   "metadata": {
    "scrolled": true
   },
   "outputs": [
    {
     "data": {
      "text/html": [
       "<div>\n",
       "<style scoped>\n",
       "    .dataframe tbody tr th:only-of-type {\n",
       "        vertical-align: middle;\n",
       "    }\n",
       "\n",
       "    .dataframe tbody tr th {\n",
       "        vertical-align: top;\n",
       "    }\n",
       "\n",
       "    .dataframe thead th {\n",
       "        text-align: right;\n",
       "    }\n",
       "</style>\n",
       "<table border=\"1\" class=\"dataframe\">\n",
       "  <thead>\n",
       "    <tr style=\"text-align: right;\">\n",
       "      <th></th>\n",
       "      <th>time</th>\n",
       "      <th>lon</th>\n",
       "      <th>lat</th>\n",
       "      <th>swh</th>\n",
       "      <th>wind_speed_alt</th>\n",
       "    </tr>\n",
       "  </thead>\n",
       "  <tbody>\n",
       "    <tr>\n",
       "      <th>0</th>\n",
       "      <td>2014-08-21 23:28:09.197778944</td>\n",
       "      <td>286.287362</td>\n",
       "      <td>40.555752</td>\n",
       "      <td>0.652</td>\n",
       "      <td>4.24</td>\n",
       "    </tr>\n",
       "    <tr>\n",
       "      <th>1</th>\n",
       "      <td>2014-08-21 23:28:11.270705920</td>\n",
       "      <td>286.247050</td>\n",
       "      <td>40.434171</td>\n",
       "      <td>0.829</td>\n",
       "      <td>5.36</td>\n",
       "    </tr>\n",
       "    <tr>\n",
       "      <th>2</th>\n",
       "      <td>2014-08-21 23:28:13.343635072</td>\n",
       "      <td>286.206852</td>\n",
       "      <td>40.312579</td>\n",
       "      <td>0.775</td>\n",
       "      <td>5.10</td>\n",
       "    </tr>\n",
       "    <tr>\n",
       "      <th>3</th>\n",
       "      <td>2014-08-21 23:28:14.380099072</td>\n",
       "      <td>286.186796</td>\n",
       "      <td>40.251778</td>\n",
       "      <td>0.814</td>\n",
       "      <td>5.07</td>\n",
       "    </tr>\n",
       "    <tr>\n",
       "      <th>4</th>\n",
       "      <td>2014-08-21 23:28:15.416562112</td>\n",
       "      <td>286.166767</td>\n",
       "      <td>40.190975</td>\n",
       "      <td>0.816</td>\n",
       "      <td>4.96</td>\n",
       "    </tr>\n",
       "    <tr>\n",
       "      <th>...</th>\n",
       "      <td>...</td>\n",
       "      <td>...</td>\n",
       "      <td>...</td>\n",
       "      <td>...</td>\n",
       "      <td>...</td>\n",
       "    </tr>\n",
       "    <tr>\n",
       "      <th>8484</th>\n",
       "      <td>2019-12-22 10:22:46.047041920</td>\n",
       "      <td>286.145365</td>\n",
       "      <td>40.025461</td>\n",
       "      <td>0.576</td>\n",
       "      <td>4.69</td>\n",
       "    </tr>\n",
       "    <tr>\n",
       "      <th>8485</th>\n",
       "      <td>2019-12-22 10:22:47.084560896</td>\n",
       "      <td>286.125404</td>\n",
       "      <td>40.086325</td>\n",
       "      <td>0.296</td>\n",
       "      <td>4.74</td>\n",
       "    </tr>\n",
       "    <tr>\n",
       "      <th>8486</th>\n",
       "      <td>2019-12-22 10:22:48.122082176</td>\n",
       "      <td>286.105414</td>\n",
       "      <td>40.147186</td>\n",
       "      <td>0.407</td>\n",
       "      <td>4.58</td>\n",
       "    </tr>\n",
       "    <tr>\n",
       "      <th>8487</th>\n",
       "      <td>2019-12-22 10:22:49.159601152</td>\n",
       "      <td>286.085398</td>\n",
       "      <td>40.208044</td>\n",
       "      <td>0.489</td>\n",
       "      <td>4.26</td>\n",
       "    </tr>\n",
       "    <tr>\n",
       "      <th>8488</th>\n",
       "      <td>2019-12-22 10:22:50.197122048</td>\n",
       "      <td>286.065352</td>\n",
       "      <td>40.268900</td>\n",
       "      <td>0.457</td>\n",
       "      <td>3.16</td>\n",
       "    </tr>\n",
       "  </tbody>\n",
       "</table>\n",
       "<p>8489 rows × 5 columns</p>\n",
       "</div>"
      ],
      "text/plain": [
       "                              time         lon        lat    swh  \\\n",
       "0    2014-08-21 23:28:09.197778944  286.287362  40.555752  0.652   \n",
       "1    2014-08-21 23:28:11.270705920  286.247050  40.434171  0.829   \n",
       "2    2014-08-21 23:28:13.343635072  286.206852  40.312579  0.775   \n",
       "3    2014-08-21 23:28:14.380099072  286.186796  40.251778  0.814   \n",
       "4    2014-08-21 23:28:15.416562112  286.166767  40.190975  0.816   \n",
       "...                            ...         ...        ...    ...   \n",
       "8484 2019-12-22 10:22:46.047041920  286.145365  40.025461  0.576   \n",
       "8485 2019-12-22 10:22:47.084560896  286.125404  40.086325  0.296   \n",
       "8486 2019-12-22 10:22:48.122082176  286.105414  40.147186  0.407   \n",
       "8487 2019-12-22 10:22:49.159601152  286.085398  40.208044  0.489   \n",
       "8488 2019-12-22 10:22:50.197122048  286.065352  40.268900  0.457   \n",
       "\n",
       "      wind_speed_alt  \n",
       "0               4.24  \n",
       "1               5.36  \n",
       "2               5.10  \n",
       "3               5.07  \n",
       "4               4.96  \n",
       "...              ...  \n",
       "8484            4.69  \n",
       "8485            4.74  \n",
       "8486            4.58  \n",
       "8487            4.26  \n",
       "8488            3.16  \n",
       "\n",
       "[8489 rows x 5 columns]"
      ]
     },
     "execution_count": 42,
     "metadata": {},
     "output_type": "execute_result"
    }
   ],
   "source": [
    "#creates a table of all SARAL-Altika Hs and wind speed data\n",
    "swh_sa = swh[['time','lon','lat','swh','wind_speed_alt']]\n",
    "swh_sa = swh_sa.reset_index()\n",
    "swh_sa.drop(['index'], axis=1, inplace=True)\n",
    "swh_sa"
   ]
  },
  {
   "cell_type": "code",
   "execution_count": 29,
   "metadata": {},
   "outputs": [],
   "source": [
    "# save valid AltiKa data to a file (it is included in the repository)\n",
    "swh_sa.to_csv(r\"swh_sa.csv\",sep='\\t',index=False)"
   ]
  },
  {
   "cell_type": "code",
   "execution_count": 40,
   "metadata": {},
   "outputs": [
    {
     "data": {
      "text/html": [
       "<div>\n",
       "<style scoped>\n",
       "    .dataframe tbody tr th:only-of-type {\n",
       "        vertical-align: middle;\n",
       "    }\n",
       "\n",
       "    .dataframe tbody tr th {\n",
       "        vertical-align: top;\n",
       "    }\n",
       "\n",
       "    .dataframe thead th {\n",
       "        text-align: right;\n",
       "    }\n",
       "</style>\n",
       "<table border=\"1\" class=\"dataframe\">\n",
       "  <thead>\n",
       "    <tr style=\"text-align: right;\">\n",
       "      <th></th>\n",
       "      <th>time</th>\n",
       "      <th>lon</th>\n",
       "      <th>lat</th>\n",
       "      <th>swh</th>\n",
       "      <th>wind_speed_alt</th>\n",
       "    </tr>\n",
       "  </thead>\n",
       "  <tbody>\n",
       "    <tr>\n",
       "      <th>0</th>\n",
       "      <td>2014-08-21 23:28:09.197778944</td>\n",
       "      <td>286.287362</td>\n",
       "      <td>40.555752</td>\n",
       "      <td>0.652</td>\n",
       "      <td>4.24</td>\n",
       "    </tr>\n",
       "    <tr>\n",
       "      <th>1</th>\n",
       "      <td>2014-08-21 23:28:11.270705920</td>\n",
       "      <td>286.247050</td>\n",
       "      <td>40.434171</td>\n",
       "      <td>0.829</td>\n",
       "      <td>5.36</td>\n",
       "    </tr>\n",
       "    <tr>\n",
       "      <th>2</th>\n",
       "      <td>2014-08-21 23:28:13.343635072</td>\n",
       "      <td>286.206852</td>\n",
       "      <td>40.312579</td>\n",
       "      <td>0.775</td>\n",
       "      <td>5.10</td>\n",
       "    </tr>\n",
       "    <tr>\n",
       "      <th>3</th>\n",
       "      <td>2014-08-21 23:28:14.380099072</td>\n",
       "      <td>286.186796</td>\n",
       "      <td>40.251778</td>\n",
       "      <td>0.814</td>\n",
       "      <td>5.07</td>\n",
       "    </tr>\n",
       "    <tr>\n",
       "      <th>4</th>\n",
       "      <td>2014-08-21 23:28:15.416562112</td>\n",
       "      <td>286.166767</td>\n",
       "      <td>40.190975</td>\n",
       "      <td>0.816</td>\n",
       "      <td>4.96</td>\n",
       "    </tr>\n",
       "  </tbody>\n",
       "</table>\n",
       "</div>"
      ],
      "text/plain": [
       "                            time         lon        lat    swh  wind_speed_alt\n",
       "0  2014-08-21 23:28:09.197778944  286.287362  40.555752  0.652            4.24\n",
       "1  2014-08-21 23:28:11.270705920  286.247050  40.434171  0.829            5.36\n",
       "2  2014-08-21 23:28:13.343635072  286.206852  40.312579  0.775            5.10\n",
       "3  2014-08-21 23:28:14.380099072  286.186796  40.251778  0.814            5.07\n",
       "4  2014-08-21 23:28:15.416562112  286.166767  40.190975  0.816            4.96"
      ]
     },
     "execution_count": 40,
     "metadata": {},
     "output_type": "execute_result"
    }
   ],
   "source": [
    "# read the file and load AltiKa data (start here if using binder)\n",
    "swh_sa = pd.read_csv(\"swh_sa.csv\", sep='\\t')\n",
    "swh_sa.head()"
   ]
  },
  {
   "cell_type": "code",
   "execution_count": 34,
   "metadata": {},
   "outputs": [
    {
     "data": {
      "text/plain": [
       "(40.693, 287.951)"
      ]
     },
     "execution_count": 34,
     "metadata": {},
     "output_type": "execute_result"
    }
   ],
   "source": [
    "#.xlsx file directory of buoy locations (longitude, latitude)\n",
    "#Alternatively, you can set the variable b44017=(latitude, longitude+360)\n",
    "\n",
    "buoys = pd.read_excel('buoys.xlsx', header=0, index_col=None, usecols=\"D:E\")\n",
    "b44017 = (buoys['Latitude'][3],buoys['Longitude'][3]+360)\n",
    "b44017"
   ]
  },
  {
   "cell_type": "code",
   "execution_count": 35,
   "metadata": {},
   "outputs": [],
   "source": [
    "def parse(yr, mo, doy, hr, min):\n",
    "    yr, mo, doy, hr, min = [int(x) for x in [yr, mo, doy, hr, min]]\n",
    "    dt = datetime(yr - 0, mo, doy, hr, min)\n",
    "    return dt"
   ]
  },
  {
   "cell_type": "code",
   "execution_count": 36,
   "metadata": {
    "scrolled": true
   },
   "outputs": [
    {
     "data": {
      "text/html": [
       "<div>\n",
       "<style scoped>\n",
       "    .dataframe tbody tr th:only-of-type {\n",
       "        vertical-align: middle;\n",
       "    }\n",
       "\n",
       "    .dataframe tbody tr th {\n",
       "        vertical-align: top;\n",
       "    }\n",
       "\n",
       "    .dataframe thead th {\n",
       "        text-align: right;\n",
       "    }\n",
       "</style>\n",
       "<table border=\"1\" class=\"dataframe\">\n",
       "  <thead>\n",
       "    <tr style=\"text-align: right;\">\n",
       "      <th></th>\n",
       "      <th>Date</th>\n",
       "      <th>WSPD</th>\n",
       "      <th>WVHT</th>\n",
       "      <th>u10</th>\n",
       "    </tr>\n",
       "  </thead>\n",
       "  <tbody>\n",
       "    <tr>\n",
       "      <th>0</th>\n",
       "      <td>2013-12-31 23:50:00</td>\n",
       "      <td>13.6</td>\n",
       "      <td>1.81</td>\n",
       "      <td>13.649364</td>\n",
       "    </tr>\n",
       "    <tr>\n",
       "      <th>1</th>\n",
       "      <td>2014-01-01 00:50:00</td>\n",
       "      <td>13.0</td>\n",
       "      <td>1.94</td>\n",
       "      <td>13.047187</td>\n",
       "    </tr>\n",
       "    <tr>\n",
       "      <th>2</th>\n",
       "      <td>2014-01-01 01:50:00</td>\n",
       "      <td>11.7</td>\n",
       "      <td>1.96</td>\n",
       "      <td>11.742468</td>\n",
       "    </tr>\n",
       "    <tr>\n",
       "      <th>3</th>\n",
       "      <td>2014-01-01 02:50:00</td>\n",
       "      <td>11.0</td>\n",
       "      <td>1.97</td>\n",
       "      <td>11.039927</td>\n",
       "    </tr>\n",
       "    <tr>\n",
       "      <th>4</th>\n",
       "      <td>2014-01-01 03:50:00</td>\n",
       "      <td>11.5</td>\n",
       "      <td>1.86</td>\n",
       "      <td>11.541742</td>\n",
       "    </tr>\n",
       "    <tr>\n",
       "      <th>...</th>\n",
       "      <td>...</td>\n",
       "      <td>...</td>\n",
       "      <td>...</td>\n",
       "      <td>...</td>\n",
       "    </tr>\n",
       "    <tr>\n",
       "      <th>31346</th>\n",
       "      <td>2019-08-23 06:40:00</td>\n",
       "      <td>3.9</td>\n",
       "      <td>1.37</td>\n",
       "      <td>3.914156</td>\n",
       "    </tr>\n",
       "    <tr>\n",
       "      <th>31347</th>\n",
       "      <td>2019-08-23 07:40:00</td>\n",
       "      <td>4.0</td>\n",
       "      <td>1.36</td>\n",
       "      <td>4.014519</td>\n",
       "    </tr>\n",
       "    <tr>\n",
       "      <th>31348</th>\n",
       "      <td>2019-08-23 08:40:00</td>\n",
       "      <td>4.6</td>\n",
       "      <td>1.38</td>\n",
       "      <td>4.616697</td>\n",
       "    </tr>\n",
       "    <tr>\n",
       "      <th>31349</th>\n",
       "      <td>2019-08-23 09:40:00</td>\n",
       "      <td>3.5</td>\n",
       "      <td>1.31</td>\n",
       "      <td>3.512704</td>\n",
       "    </tr>\n",
       "    <tr>\n",
       "      <th>31350</th>\n",
       "      <td>2019-08-23 10:40:00</td>\n",
       "      <td>5.8</td>\n",
       "      <td>1.23</td>\n",
       "      <td>5.821052</td>\n",
       "    </tr>\n",
       "  </tbody>\n",
       "</table>\n",
       "<p>31351 rows × 4 columns</p>\n",
       "</div>"
      ],
      "text/plain": [
       "                     Date  WSPD  WVHT        u10\n",
       "0     2013-12-31 23:50:00  13.6  1.81  13.649364\n",
       "1     2014-01-01 00:50:00  13.0  1.94  13.047187\n",
       "2     2014-01-01 01:50:00  11.7  1.96  11.742468\n",
       "3     2014-01-01 02:50:00  11.0  1.97  11.039927\n",
       "4     2014-01-01 03:50:00  11.5  1.86  11.541742\n",
       "...                   ...   ...   ...        ...\n",
       "31346 2019-08-23 06:40:00   3.9  1.37   3.914156\n",
       "31347 2019-08-23 07:40:00   4.0  1.36   4.014519\n",
       "31348 2019-08-23 08:40:00   4.6  1.38   4.616697\n",
       "31349 2019-08-23 09:40:00   3.5  1.31   3.512704\n",
       "31350 2019-08-23 10:40:00   5.8  1.23   5.821052\n",
       "\n",
       "[31351 rows x 4 columns]"
      ]
     },
     "execution_count": 36,
     "metadata": {},
     "output_type": "execute_result"
    }
   ],
   "source": [
    "#directory to buoy 44017 files\n",
    "\n",
    "path = r'44017/'\n",
    "all_files = glob.glob(path + \"/*.txt\")\n",
    "\n",
    "b44017_wind_wave = pd.concat((pd.read_csv(f, delim_whitespace=True, \n",
    "                         skiprows=lambda x: x == 1, usecols=[0,1,2,3,4,6,8], header=0, date_parser=parse, \n",
    "                          parse_dates={'Date':['#YY','MM','DD','hh','mm']}) for f in all_files))\n",
    "b44017_wind_wave = b44017_wind_wave[(b44017_wind_wave.WVHT !=99) & (b44017_wind_wave.WVHT > 0.0) &\n",
    "                                   (b44017_wind_wave.WSPD !=99) & (b44017_wind_wave.WSPD > 0.0)]\n",
    "b44017_wind_wave.reset_index(inplace=True)\n",
    "b44017_wind_wave.drop('index', 1, inplace=True)\n",
    "#b44017_wind_wave['u10'] = b44017_wind_wave['WSPD']*(10/4.1)**0.11\n",
    "b44017_wind_wave['u10'] = b44017_wind_wave['WSPD']*np.sqrt((0.4**2)/0.0014)*(1/(np.log(4.1/0.000097)))\n",
    "b44017_wind_wave.head()"
   ]
  },
  {
   "cell_type": "code",
   "execution_count": 44,
   "metadata": {
    "scrolled": true
   },
   "outputs": [
    {
     "data": {
      "text/html": [
       "<div>\n",
       "<style scoped>\n",
       "    .dataframe tbody tr th:only-of-type {\n",
       "        vertical-align: middle;\n",
       "    }\n",
       "\n",
       "    .dataframe tbody tr th {\n",
       "        vertical-align: top;\n",
       "    }\n",
       "\n",
       "    .dataframe thead th {\n",
       "        text-align: right;\n",
       "    }\n",
       "</style>\n",
       "<table border=\"1\" class=\"dataframe\">\n",
       "  <thead>\n",
       "    <tr style=\"text-align: right;\">\n",
       "      <th></th>\n",
       "      <th>Buoy-Sat. Distance (km)</th>\n",
       "    </tr>\n",
       "  </thead>\n",
       "  <tbody>\n",
       "    <tr>\n",
       "      <th>0</th>\n",
       "      <td>141.229915</td>\n",
       "    </tr>\n",
       "    <tr>\n",
       "      <th>1</th>\n",
       "      <td>146.784680</td>\n",
       "    </tr>\n",
       "    <tr>\n",
       "      <th>2</th>\n",
       "      <td>153.411456</td>\n",
       "    </tr>\n",
       "    <tr>\n",
       "      <th>3</th>\n",
       "      <td>157.085329</td>\n",
       "    </tr>\n",
       "    <tr>\n",
       "      <th>4</th>\n",
       "      <td>160.978039</td>\n",
       "    </tr>\n",
       "    <tr>\n",
       "      <th>...</th>\n",
       "      <td>...</td>\n",
       "    </tr>\n",
       "    <tr>\n",
       "      <th>8484</th>\n",
       "      <td>170.043246</td>\n",
       "    </tr>\n",
       "    <tr>\n",
       "      <th>8485</th>\n",
       "      <td>168.685121</td>\n",
       "    </tr>\n",
       "    <tr>\n",
       "      <th>8486</th>\n",
       "      <td>167.606105</td>\n",
       "    </tr>\n",
       "    <tr>\n",
       "      <th>8487</th>\n",
       "      <td>166.811354</td>\n",
       "    </tr>\n",
       "    <tr>\n",
       "      <th>8488</th>\n",
       "      <td>166.305206</td>\n",
       "    </tr>\n",
       "  </tbody>\n",
       "</table>\n",
       "<p>8489 rows × 1 columns</p>\n",
       "</div>"
      ],
      "text/plain": [
       "      Buoy-Sat. Distance (km)\n",
       "0                  141.229915\n",
       "1                  146.784680\n",
       "2                  153.411456\n",
       "3                  157.085329\n",
       "4                  160.978039\n",
       "...                       ...\n",
       "8484               170.043246\n",
       "8485               168.685121\n",
       "8486               167.606105\n",
       "8487               166.811354\n",
       "8488               166.305206\n",
       "\n",
       "[8489 rows x 1 columns]"
      ]
     },
     "execution_count": 44,
     "metadata": {},
     "output_type": "execute_result"
    }
   ],
   "source": [
    "b44017_time = b44017_wind_wave['Date']\n",
    "a1 = [(swh_sa['lat'][n], swh_sa['lon'][n]) for n in range(swh_sa.shape[0])]\n",
    "# compute the distance between each SARAL-AltiKa and the position of buoy 44097\n",
    "hav5 = haversine_vector([b44017]*swh_sa.shape[0],a1, Unit.KILOMETERS)\n",
    "coloc = pd.DataFrame(hav5, columns=['Buoy-Sat. Distance (km)'])\n",
    "coloc"
   ]
  },
  {
   "cell_type": "code",
   "execution_count": 45,
   "metadata": {
    "scrolled": true
   },
   "outputs": [
    {
     "data": {
      "text/html": [
       "<div>\n",
       "<style scoped>\n",
       "    .dataframe tbody tr th:only-of-type {\n",
       "        vertical-align: middle;\n",
       "    }\n",
       "\n",
       "    .dataframe tbody tr th {\n",
       "        vertical-align: top;\n",
       "    }\n",
       "\n",
       "    .dataframe thead th {\n",
       "        text-align: right;\n",
       "    }\n",
       "</style>\n",
       "<table border=\"1\" class=\"dataframe\">\n",
       "  <thead>\n",
       "    <tr style=\"text-align: right;\">\n",
       "      <th></th>\n",
       "      <th>time</th>\n",
       "      <th>lon</th>\n",
       "      <th>lat</th>\n",
       "      <th>swh</th>\n",
       "      <th>wind_speed_alt</th>\n",
       "      <th>Buoy-Sat. Distance (km)</th>\n",
       "    </tr>\n",
       "  </thead>\n",
       "  <tbody>\n",
       "    <tr>\n",
       "      <th>89</th>\n",
       "      <td>2014-09-14 10:21:57.582557888</td>\n",
       "      <td>288.121075</td>\n",
       "      <td>40.599083</td>\n",
       "      <td>1.530</td>\n",
       "      <td>9.360000</td>\n",
       "      <td>17.746944</td>\n",
       "    </tr>\n",
       "    <tr>\n",
       "      <th>121</th>\n",
       "      <td>2014-09-22 23:22:17.267220992</td>\n",
       "      <td>287.823030</td>\n",
       "      <td>40.859468</td>\n",
       "      <td>1.941</td>\n",
       "      <td>8.250000</td>\n",
       "      <td>21.418436</td>\n",
       "    </tr>\n",
       "    <tr>\n",
       "      <th>122</th>\n",
       "      <td>2014-09-22 23:22:18.304742080</td>\n",
       "      <td>287.802701</td>\n",
       "      <td>40.798645</td>\n",
       "      <td>1.987</td>\n",
       "      <td>9.200000</td>\n",
       "      <td>17.148607</td>\n",
       "    </tr>\n",
       "    <tr>\n",
       "      <th>187</th>\n",
       "      <td>2014-10-19 10:21:56.373651968</td>\n",
       "      <td>288.102815</td>\n",
       "      <td>40.639992</td>\n",
       "      <td>1.857</td>\n",
       "      <td>9.010000</td>\n",
       "      <td>14.096051</td>\n",
       "    </tr>\n",
       "    <tr>\n",
       "      <th>188</th>\n",
       "      <td>2014-10-19 10:21:58.447635904</td>\n",
       "      <td>288.062288</td>\n",
       "      <td>40.761600</td>\n",
       "      <td>1.914</td>\n",
       "      <td>9.679999</td>\n",
       "      <td>12.088409</td>\n",
       "    </tr>\n",
       "    <tr>\n",
       "      <th>...</th>\n",
       "      <td>...</td>\n",
       "      <td>...</td>\n",
       "      <td>...</td>\n",
       "      <td>...</td>\n",
       "      <td>...</td>\n",
       "      <td>...</td>\n",
       "    </tr>\n",
       "    <tr>\n",
       "      <th>8115</th>\n",
       "      <td>2019-08-16 10:15:35.283711872</td>\n",
       "      <td>287.914875</td>\n",
       "      <td>40.627817</td>\n",
       "      <td>1.156</td>\n",
       "      <td>5.110000</td>\n",
       "      <td>7.862519</td>\n",
       "    </tr>\n",
       "    <tr>\n",
       "      <th>8116</th>\n",
       "      <td>2019-08-16 10:15:36.321230848</td>\n",
       "      <td>287.894626</td>\n",
       "      <td>40.688652</td>\n",
       "      <td>1.166</td>\n",
       "      <td>5.140000</td>\n",
       "      <td>4.777554</td>\n",
       "    </tr>\n",
       "    <tr>\n",
       "      <th>8117</th>\n",
       "      <td>2019-08-16 10:15:37.358751744</td>\n",
       "      <td>287.874349</td>\n",
       "      <td>40.749484</td>\n",
       "      <td>1.091</td>\n",
       "      <td>4.780000</td>\n",
       "      <td>9.009727</td>\n",
       "    </tr>\n",
       "    <tr>\n",
       "      <th>8118</th>\n",
       "      <td>2019-08-16 10:15:38.396273152</td>\n",
       "      <td>287.854043</td>\n",
       "      <td>40.810313</td>\n",
       "      <td>1.114</td>\n",
       "      <td>4.460000</td>\n",
       "      <td>15.390438</td>\n",
       "    </tr>\n",
       "    <tr>\n",
       "      <th>8119</th>\n",
       "      <td>2019-08-16 10:15:39.433792128</td>\n",
       "      <td>287.833708</td>\n",
       "      <td>40.871139</td>\n",
       "      <td>1.156</td>\n",
       "      <td>3.720000</td>\n",
       "      <td>22.133494</td>\n",
       "    </tr>\n",
       "  </tbody>\n",
       "</table>\n",
       "<p>403 rows × 6 columns</p>\n",
       "</div>"
      ],
      "text/plain": [
       "                              time         lon        lat    swh  \\\n",
       "89   2014-09-14 10:21:57.582557888  288.121075  40.599083  1.530   \n",
       "121  2014-09-22 23:22:17.267220992  287.823030  40.859468  1.941   \n",
       "122  2014-09-22 23:22:18.304742080  287.802701  40.798645  1.987   \n",
       "187  2014-10-19 10:21:56.373651968  288.102815  40.639992  1.857   \n",
       "188  2014-10-19 10:21:58.447635904  288.062288  40.761600  1.914   \n",
       "...                            ...         ...        ...    ...   \n",
       "8115 2019-08-16 10:15:35.283711872  287.914875  40.627817  1.156   \n",
       "8116 2019-08-16 10:15:36.321230848  287.894626  40.688652  1.166   \n",
       "8117 2019-08-16 10:15:37.358751744  287.874349  40.749484  1.091   \n",
       "8118 2019-08-16 10:15:38.396273152  287.854043  40.810313  1.114   \n",
       "8119 2019-08-16 10:15:39.433792128  287.833708  40.871139  1.156   \n",
       "\n",
       "      wind_speed_alt  Buoy-Sat. Distance (km)  \n",
       "89          9.360000                17.746944  \n",
       "121         8.250000                21.418436  \n",
       "122         9.200000                17.148607  \n",
       "187         9.010000                14.096051  \n",
       "188         9.679999                12.088409  \n",
       "...              ...                      ...  \n",
       "8115        5.110000                 7.862519  \n",
       "8116        5.140000                 4.777554  \n",
       "8117        4.780000                 9.009727  \n",
       "8118        4.460000                15.390438  \n",
       "8119        3.720000                22.133494  \n",
       "\n",
       "[403 rows x 6 columns]"
      ]
     },
     "execution_count": 45,
     "metadata": {},
     "output_type": "execute_result"
    }
   ],
   "source": [
    "swh_sa['Buoy-Sat. Distance (km)'] = coloc\n",
    "#Removes data that is not within 0.25 decimal degrees of buoy 44017's location\n",
    "swh_sa= swh_sa[((swh_sa[['lon','lat']] - [287.951,40.693])**2).sum(axis=1) < 0.25**2]\n",
    "swh_sa"
   ]
  },
  {
   "cell_type": "code",
   "execution_count": 46,
   "metadata": {
    "scrolled": true
   },
   "outputs": [
    {
     "name": "stderr",
     "output_type": "stream",
     "text": [
      "C:\\Users\\panmits86\\Anaconda3\\envs\\thesis\\lib\\site-packages\\pandas\\core\\frame.py:3990: SettingWithCopyWarning: \n",
      "A value is trying to be set on a copy of a slice from a DataFrame\n",
      "\n",
      "See the caveats in the documentation: https://pandas.pydata.org/pandas-docs/stable/user_guide/indexing.html#returning-a-view-versus-a-copy\n",
      "  return super().drop(\n"
     ]
    },
    {
     "data": {
      "text/html": [
       "<div>\n",
       "<style scoped>\n",
       "    .dataframe tbody tr th:only-of-type {\n",
       "        vertical-align: middle;\n",
       "    }\n",
       "\n",
       "    .dataframe tbody tr th {\n",
       "        vertical-align: top;\n",
       "    }\n",
       "\n",
       "    .dataframe thead th {\n",
       "        text-align: right;\n",
       "    }\n",
       "</style>\n",
       "<table border=\"1\" class=\"dataframe\">\n",
       "  <thead>\n",
       "    <tr style=\"text-align: right;\">\n",
       "      <th></th>\n",
       "      <th>time</th>\n",
       "      <th>lon</th>\n",
       "      <th>lat</th>\n",
       "      <th>swh</th>\n",
       "      <th>wind_speed_alt</th>\n",
       "      <th>Buoy-Sat. Distance (km)</th>\n",
       "    </tr>\n",
       "  </thead>\n",
       "  <tbody>\n",
       "    <tr>\n",
       "      <th>0</th>\n",
       "      <td>2014-09-14 10:21:57.582557888</td>\n",
       "      <td>288.121075</td>\n",
       "      <td>40.599083</td>\n",
       "      <td>1.530</td>\n",
       "      <td>9.360000</td>\n",
       "      <td>17.746944</td>\n",
       "    </tr>\n",
       "    <tr>\n",
       "      <th>1</th>\n",
       "      <td>2014-09-22 23:22:17.267220992</td>\n",
       "      <td>287.823030</td>\n",
       "      <td>40.859468</td>\n",
       "      <td>1.941</td>\n",
       "      <td>8.250000</td>\n",
       "      <td>21.418436</td>\n",
       "    </tr>\n",
       "    <tr>\n",
       "      <th>2</th>\n",
       "      <td>2014-09-22 23:22:18.304742080</td>\n",
       "      <td>287.802701</td>\n",
       "      <td>40.798645</td>\n",
       "      <td>1.987</td>\n",
       "      <td>9.200000</td>\n",
       "      <td>17.148607</td>\n",
       "    </tr>\n",
       "    <tr>\n",
       "      <th>3</th>\n",
       "      <td>2014-10-19 10:21:56.373651968</td>\n",
       "      <td>288.102815</td>\n",
       "      <td>40.639992</td>\n",
       "      <td>1.857</td>\n",
       "      <td>9.010000</td>\n",
       "      <td>14.096051</td>\n",
       "    </tr>\n",
       "    <tr>\n",
       "      <th>4</th>\n",
       "      <td>2014-10-19 10:21:58.447635904</td>\n",
       "      <td>288.062288</td>\n",
       "      <td>40.761600</td>\n",
       "      <td>1.914</td>\n",
       "      <td>9.679999</td>\n",
       "      <td>12.088409</td>\n",
       "    </tr>\n",
       "    <tr>\n",
       "      <th>...</th>\n",
       "      <td>...</td>\n",
       "      <td>...</td>\n",
       "      <td>...</td>\n",
       "      <td>...</td>\n",
       "      <td>...</td>\n",
       "      <td>...</td>\n",
       "    </tr>\n",
       "    <tr>\n",
       "      <th>398</th>\n",
       "      <td>2019-08-16 10:15:35.283711872</td>\n",
       "      <td>287.914875</td>\n",
       "      <td>40.627817</td>\n",
       "      <td>1.156</td>\n",
       "      <td>5.110000</td>\n",
       "      <td>7.862519</td>\n",
       "    </tr>\n",
       "    <tr>\n",
       "      <th>399</th>\n",
       "      <td>2019-08-16 10:15:36.321230848</td>\n",
       "      <td>287.894626</td>\n",
       "      <td>40.688652</td>\n",
       "      <td>1.166</td>\n",
       "      <td>5.140000</td>\n",
       "      <td>4.777554</td>\n",
       "    </tr>\n",
       "    <tr>\n",
       "      <th>400</th>\n",
       "      <td>2019-08-16 10:15:37.358751744</td>\n",
       "      <td>287.874349</td>\n",
       "      <td>40.749484</td>\n",
       "      <td>1.091</td>\n",
       "      <td>4.780000</td>\n",
       "      <td>9.009727</td>\n",
       "    </tr>\n",
       "    <tr>\n",
       "      <th>401</th>\n",
       "      <td>2019-08-16 10:15:38.396273152</td>\n",
       "      <td>287.854043</td>\n",
       "      <td>40.810313</td>\n",
       "      <td>1.114</td>\n",
       "      <td>4.460000</td>\n",
       "      <td>15.390438</td>\n",
       "    </tr>\n",
       "    <tr>\n",
       "      <th>402</th>\n",
       "      <td>2019-08-16 10:15:39.433792128</td>\n",
       "      <td>287.833708</td>\n",
       "      <td>40.871139</td>\n",
       "      <td>1.156</td>\n",
       "      <td>3.720000</td>\n",
       "      <td>22.133494</td>\n",
       "    </tr>\n",
       "  </tbody>\n",
       "</table>\n",
       "<p>403 rows × 6 columns</p>\n",
       "</div>"
      ],
      "text/plain": [
       "                             time         lon        lat    swh  \\\n",
       "0   2014-09-14 10:21:57.582557888  288.121075  40.599083  1.530   \n",
       "1   2014-09-22 23:22:17.267220992  287.823030  40.859468  1.941   \n",
       "2   2014-09-22 23:22:18.304742080  287.802701  40.798645  1.987   \n",
       "3   2014-10-19 10:21:56.373651968  288.102815  40.639992  1.857   \n",
       "4   2014-10-19 10:21:58.447635904  288.062288  40.761600  1.914   \n",
       "..                            ...         ...        ...    ...   \n",
       "398 2019-08-16 10:15:35.283711872  287.914875  40.627817  1.156   \n",
       "399 2019-08-16 10:15:36.321230848  287.894626  40.688652  1.166   \n",
       "400 2019-08-16 10:15:37.358751744  287.874349  40.749484  1.091   \n",
       "401 2019-08-16 10:15:38.396273152  287.854043  40.810313  1.114   \n",
       "402 2019-08-16 10:15:39.433792128  287.833708  40.871139  1.156   \n",
       "\n",
       "     wind_speed_alt  Buoy-Sat. Distance (km)  \n",
       "0          9.360000                17.746944  \n",
       "1          8.250000                21.418436  \n",
       "2          9.200000                17.148607  \n",
       "3          9.010000                14.096051  \n",
       "4          9.679999                12.088409  \n",
       "..              ...                      ...  \n",
       "398        5.110000                 7.862519  \n",
       "399        5.140000                 4.777554  \n",
       "400        4.780000                 9.009727  \n",
       "401        4.460000                15.390438  \n",
       "402        3.720000                22.133494  \n",
       "\n",
       "[403 rows x 6 columns]"
      ]
     },
     "execution_count": 46,
     "metadata": {},
     "output_type": "execute_result"
    }
   ],
   "source": [
    "swh_sa.reset_index(inplace=True)\n",
    "swh_sa.drop('index', 1, inplace=True)\n",
    "colocated=swh_sa\n",
    "colocated"
   ]
  },
  {
   "cell_type": "code",
   "execution_count": 47,
   "metadata": {
    "scrolled": true
   },
   "outputs": [],
   "source": [
    "sat_time = colocated['time'].reset_index()\n",
    "sat_time.drop('index', 1, inplace=True)"
   ]
  },
  {
   "cell_type": "code",
   "execution_count": 48,
   "metadata": {
    "scrolled": true
   },
   "outputs": [
    {
     "data": {
      "text/html": [
       "<div>\n",
       "<style scoped>\n",
       "    .dataframe tbody tr th:only-of-type {\n",
       "        vertical-align: middle;\n",
       "    }\n",
       "\n",
       "    .dataframe tbody tr th {\n",
       "        vertical-align: top;\n",
       "    }\n",
       "\n",
       "    .dataframe thead th {\n",
       "        text-align: right;\n",
       "    }\n",
       "</style>\n",
       "<table border=\"1\" class=\"dataframe\">\n",
       "  <thead>\n",
       "    <tr style=\"text-align: right;\">\n",
       "      <th></th>\n",
       "      <th>Buoy 44017 Wave Height</th>\n",
       "      <th>Buoy 44017 U10</th>\n",
       "      <th>SARAL-AltiKa Time</th>\n",
       "      <th>SARAL-AltiKa Wave Height</th>\n",
       "      <th>SARAL-AltiKa Wind Speed</th>\n",
       "      <th>Buoy-Sat. Distance (km)</th>\n",
       "      <th>Time Difference (min.)</th>\n",
       "    </tr>\n",
       "    <tr>\n",
       "      <th>Buoy 44017 Time</th>\n",
       "      <th></th>\n",
       "      <th></th>\n",
       "      <th></th>\n",
       "      <th></th>\n",
       "      <th></th>\n",
       "      <th></th>\n",
       "      <th></th>\n",
       "    </tr>\n",
       "  </thead>\n",
       "  <tbody>\n",
       "    <tr>\n",
       "      <th>2015-05-17 10:50:00</th>\n",
       "      <td>1.13</td>\n",
       "      <td>1.806534</td>\n",
       "      <td>2015-05-17 10:21:24.779890048</td>\n",
       "      <td>1.243</td>\n",
       "      <td>4.01</td>\n",
       "      <td>20.375477</td>\n",
       "      <td>-28.587002</td>\n",
       "    </tr>\n",
       "    <tr>\n",
       "      <th>2015-05-17 10:50:00</th>\n",
       "      <td>1.13</td>\n",
       "      <td>1.806534</td>\n",
       "      <td>2015-05-17 10:21:25.816355968</td>\n",
       "      <td>1.182</td>\n",
       "      <td>3.67</td>\n",
       "      <td>16.774255</td>\n",
       "      <td>-28.569727</td>\n",
       "    </tr>\n",
       "    <tr>\n",
       "      <th>2015-05-17 10:50:00</th>\n",
       "      <td>1.13</td>\n",
       "      <td>1.806534</td>\n",
       "      <td>2015-05-17 10:21:28.925748096</td>\n",
       "      <td>1.354</td>\n",
       "      <td>3.52</td>\n",
       "      <td>21.524766</td>\n",
       "      <td>-28.517904</td>\n",
       "    </tr>\n",
       "    <tr>\n",
       "      <th>2015-05-25 23:50:00</th>\n",
       "      <td>0.78</td>\n",
       "      <td>9.133031</td>\n",
       "      <td>2015-05-25 23:21:34.382832064</td>\n",
       "      <td>0.975</td>\n",
       "      <td>7.29</td>\n",
       "      <td>15.264245</td>\n",
       "      <td>-28.426953</td>\n",
       "    </tr>\n",
       "    <tr>\n",
       "      <th>2015-05-25 23:50:00</th>\n",
       "      <td>0.78</td>\n",
       "      <td>9.133031</td>\n",
       "      <td>2015-05-25 23:21:37.495393024</td>\n",
       "      <td>0.982</td>\n",
       "      <td>7.59</td>\n",
       "      <td>10.457612</td>\n",
       "      <td>-28.375077</td>\n",
       "    </tr>\n",
       "    <tr>\n",
       "      <th>...</th>\n",
       "      <td>...</td>\n",
       "      <td>...</td>\n",
       "      <td>...</td>\n",
       "      <td>...</td>\n",
       "      <td>...</td>\n",
       "      <td>...</td>\n",
       "      <td>...</td>\n",
       "    </tr>\n",
       "    <tr>\n",
       "      <th>2019-08-16 10:40:00</th>\n",
       "      <td>1.17</td>\n",
       "      <td>4.817423</td>\n",
       "      <td>2019-08-16 10:15:35.283711872</td>\n",
       "      <td>1.156</td>\n",
       "      <td>5.11</td>\n",
       "      <td>7.862519</td>\n",
       "      <td>-24.411938</td>\n",
       "    </tr>\n",
       "    <tr>\n",
       "      <th>2019-08-16 10:40:00</th>\n",
       "      <td>1.17</td>\n",
       "      <td>4.817423</td>\n",
       "      <td>2019-08-16 10:15:36.321230848</td>\n",
       "      <td>1.166</td>\n",
       "      <td>5.14</td>\n",
       "      <td>4.777554</td>\n",
       "      <td>-24.394646</td>\n",
       "    </tr>\n",
       "    <tr>\n",
       "      <th>2019-08-16 10:40:00</th>\n",
       "      <td>1.17</td>\n",
       "      <td>4.817423</td>\n",
       "      <td>2019-08-16 10:15:37.358751744</td>\n",
       "      <td>1.091</td>\n",
       "      <td>4.78</td>\n",
       "      <td>9.009727</td>\n",
       "      <td>-24.377354</td>\n",
       "    </tr>\n",
       "    <tr>\n",
       "      <th>2019-08-16 10:40:00</th>\n",
       "      <td>1.17</td>\n",
       "      <td>4.817423</td>\n",
       "      <td>2019-08-16 10:15:38.396273152</td>\n",
       "      <td>1.114</td>\n",
       "      <td>4.46</td>\n",
       "      <td>15.390438</td>\n",
       "      <td>-24.360062</td>\n",
       "    </tr>\n",
       "    <tr>\n",
       "      <th>2019-08-16 10:40:00</th>\n",
       "      <td>1.17</td>\n",
       "      <td>4.817423</td>\n",
       "      <td>2019-08-16 10:15:39.433792128</td>\n",
       "      <td>1.156</td>\n",
       "      <td>3.72</td>\n",
       "      <td>22.133494</td>\n",
       "      <td>-24.342770</td>\n",
       "    </tr>\n",
       "  </tbody>\n",
       "</table>\n",
       "<p>254 rows × 7 columns</p>\n",
       "</div>"
      ],
      "text/plain": [
       "                     Buoy 44017 Wave Height  Buoy 44017 U10  \\\n",
       "Buoy 44017 Time                                               \n",
       "2015-05-17 10:50:00                    1.13        1.806534   \n",
       "2015-05-17 10:50:00                    1.13        1.806534   \n",
       "2015-05-17 10:50:00                    1.13        1.806534   \n",
       "2015-05-25 23:50:00                    0.78        9.133031   \n",
       "2015-05-25 23:50:00                    0.78        9.133031   \n",
       "...                                     ...             ...   \n",
       "2019-08-16 10:40:00                    1.17        4.817423   \n",
       "2019-08-16 10:40:00                    1.17        4.817423   \n",
       "2019-08-16 10:40:00                    1.17        4.817423   \n",
       "2019-08-16 10:40:00                    1.17        4.817423   \n",
       "2019-08-16 10:40:00                    1.17        4.817423   \n",
       "\n",
       "                                SARAL-AltiKa Time  SARAL-AltiKa Wave Height  \\\n",
       "Buoy 44017 Time                                                               \n",
       "2015-05-17 10:50:00 2015-05-17 10:21:24.779890048                     1.243   \n",
       "2015-05-17 10:50:00 2015-05-17 10:21:25.816355968                     1.182   \n",
       "2015-05-17 10:50:00 2015-05-17 10:21:28.925748096                     1.354   \n",
       "2015-05-25 23:50:00 2015-05-25 23:21:34.382832064                     0.975   \n",
       "2015-05-25 23:50:00 2015-05-25 23:21:37.495393024                     0.982   \n",
       "...                                           ...                       ...   \n",
       "2019-08-16 10:40:00 2019-08-16 10:15:35.283711872                     1.156   \n",
       "2019-08-16 10:40:00 2019-08-16 10:15:36.321230848                     1.166   \n",
       "2019-08-16 10:40:00 2019-08-16 10:15:37.358751744                     1.091   \n",
       "2019-08-16 10:40:00 2019-08-16 10:15:38.396273152                     1.114   \n",
       "2019-08-16 10:40:00 2019-08-16 10:15:39.433792128                     1.156   \n",
       "\n",
       "                     SARAL-AltiKa Wind Speed  Buoy-Sat. Distance (km)  \\\n",
       "Buoy 44017 Time                                                         \n",
       "2015-05-17 10:50:00                     4.01                20.375477   \n",
       "2015-05-17 10:50:00                     3.67                16.774255   \n",
       "2015-05-17 10:50:00                     3.52                21.524766   \n",
       "2015-05-25 23:50:00                     7.29                15.264245   \n",
       "2015-05-25 23:50:00                     7.59                10.457612   \n",
       "...                                      ...                      ...   \n",
       "2019-08-16 10:40:00                     5.11                 7.862519   \n",
       "2019-08-16 10:40:00                     5.14                 4.777554   \n",
       "2019-08-16 10:40:00                     4.78                 9.009727   \n",
       "2019-08-16 10:40:00                     4.46                15.390438   \n",
       "2019-08-16 10:40:00                     3.72                22.133494   \n",
       "\n",
       "                     Time Difference (min.)  \n",
       "Buoy 44017 Time                              \n",
       "2015-05-17 10:50:00              -28.587002  \n",
       "2015-05-17 10:50:00              -28.569727  \n",
       "2015-05-17 10:50:00              -28.517904  \n",
       "2015-05-25 23:50:00              -28.426953  \n",
       "2015-05-25 23:50:00              -28.375077  \n",
       "...                                     ...  \n",
       "2019-08-16 10:40:00              -24.411938  \n",
       "2019-08-16 10:40:00              -24.394646  \n",
       "2019-08-16 10:40:00              -24.377354  \n",
       "2019-08-16 10:40:00              -24.360062  \n",
       "2019-08-16 10:40:00              -24.342770  \n",
       "\n",
       "[254 rows x 7 columns]"
      ]
     },
     "execution_count": 48,
     "metadata": {},
     "output_type": "execute_result"
    }
   ],
   "source": [
    "#time difference in minutes\n",
    "diff = [(b44017_time[d], b44017_wind_wave['WVHT'][d], b44017_wind_wave['u10'][d], sat_time['time'][s], colocated['swh'][s], \\\n",
    "         colocated['wind_speed_alt'][s], colocated['Buoy-Sat. Distance (km)'][s], (sat_time['time'][s] - b44017_time[d]).total_seconds() / 60) \\\n",
    "        for d, s in product(range(b44017_time.shape[0]), range(sat_time.shape[0]))]\n",
    "t = pd.DataFrame(list(diff))\n",
    "t.columns = ['Buoy 44017 Time', 'Buoy 44017 Wave Height', 'Buoy 44017 U10', 'SARAL-AltiKa Time', 'SARAL-AltiKa Wave Height', \\\n",
    "             'SARAL-AltiKa Wind Speed', 'Buoy-Sat. Distance (km)', 'Time Difference (min.)']\n",
    "final = abs(t['Time Difference (min.)']) < 30.\n",
    "final1 = t[final]\n",
    "final1 = final1.set_index('Buoy 44017 Time')\n",
    "final1"
   ]
  },
  {
   "cell_type": "code",
   "execution_count": 49,
   "metadata": {
    "scrolled": true
   },
   "outputs": [],
   "source": [
    "final1.index = pd.to_datetime(final1.index)"
   ]
  },
  {
   "cell_type": "code",
   "execution_count": 50,
   "metadata": {
    "scrolled": true
   },
   "outputs": [],
   "source": [
    "#results for buoy-satellite corresponding data within 0.25 radius. \n",
    "#Repeat the process for data within 0.5 radius to conduct the weibull_fit\n",
    "df = final1.iloc[:,[0,1,3,4]]\n",
    "df = df.resample('D').mean()\n",
    "df = df.dropna()\n",
    "df\n",
    "df.to_csv('44017_df_25.csv')"
   ]
  },
  {
   "cell_type": "code",
   "execution_count": 82,
   "metadata": {},
   "outputs": [
    {
     "data": {
      "text/html": [
       "<div>\n",
       "<style scoped>\n",
       "    .dataframe tbody tr th:only-of-type {\n",
       "        vertical-align: middle;\n",
       "    }\n",
       "\n",
       "    .dataframe tbody tr th {\n",
       "        vertical-align: top;\n",
       "    }\n",
       "\n",
       "    .dataframe thead th {\n",
       "        text-align: right;\n",
       "    }\n",
       "</style>\n",
       "<table border=\"1\" class=\"dataframe\">\n",
       "  <thead>\n",
       "    <tr style=\"text-align: right;\">\n",
       "      <th></th>\n",
       "      <th>Buoy 44017 Time</th>\n",
       "      <th>Buoy 44017 Wave Height</th>\n",
       "      <th>Buoy 44017 U10</th>\n",
       "      <th>SARAL-AltiKa Wave Height</th>\n",
       "      <th>SARAL-AltiKa Wind Speed</th>\n",
       "    </tr>\n",
       "  </thead>\n",
       "  <tbody>\n",
       "    <tr>\n",
       "      <th>0</th>\n",
       "      <td>2015-05-17</td>\n",
       "      <td>1.13</td>\n",
       "      <td>1.806534</td>\n",
       "      <td>1.259667</td>\n",
       "      <td>3.733333</td>\n",
       "    </tr>\n",
       "    <tr>\n",
       "      <th>1</th>\n",
       "      <td>2015-05-25</td>\n",
       "      <td>0.78</td>\n",
       "      <td>9.133031</td>\n",
       "      <td>1.025750</td>\n",
       "      <td>7.730000</td>\n",
       "    </tr>\n",
       "    <tr>\n",
       "      <th>2</th>\n",
       "      <td>2015-06-29</td>\n",
       "      <td>1.58</td>\n",
       "      <td>7.527223</td>\n",
       "      <td>1.620857</td>\n",
       "      <td>6.157143</td>\n",
       "    </tr>\n",
       "    <tr>\n",
       "      <th>3</th>\n",
       "      <td>2015-07-26</td>\n",
       "      <td>0.62</td>\n",
       "      <td>4.717060</td>\n",
       "      <td>0.651600</td>\n",
       "      <td>4.506000</td>\n",
       "    </tr>\n",
       "    <tr>\n",
       "      <th>4</th>\n",
       "      <td>2015-08-03</td>\n",
       "      <td>1.39</td>\n",
       "      <td>8.731579</td>\n",
       "      <td>1.241600</td>\n",
       "      <td>6.810000</td>\n",
       "    </tr>\n",
       "  </tbody>\n",
       "</table>\n",
       "</div>"
      ],
      "text/plain": [
       "  Buoy 44017 Time  Buoy 44017 Wave Height  Buoy 44017 U10  \\\n",
       "0      2015-05-17                    1.13        1.806534   \n",
       "1      2015-05-25                    0.78        9.133031   \n",
       "2      2015-06-29                    1.58        7.527223   \n",
       "3      2015-07-26                    0.62        4.717060   \n",
       "4      2015-08-03                    1.39        8.731579   \n",
       "\n",
       "   SARAL-AltiKa Wave Height  SARAL-AltiKa Wind Speed  \n",
       "0                  1.259667                 3.733333  \n",
       "1                  1.025750                 7.730000  \n",
       "2                  1.620857                 6.157143  \n",
       "3                  0.651600                 4.506000  \n",
       "4                  1.241600                 6.810000  "
      ]
     },
     "execution_count": 82,
     "metadata": {},
     "output_type": "execute_result"
    }
   ],
   "source": [
    "# load the collocated buoy/AltiKa data\n",
    "df = pd.read_csv(\"44017_df_25.csv\")\n",
    "df.head()"
   ]
  },
  {
   "cell_type": "code",
   "execution_count": 51,
   "metadata": {},
   "outputs": [
    {
     "data": {
      "text/plain": [
       "0.042049285682243476"
      ]
     },
     "execution_count": 51,
     "metadata": {},
     "output_type": "execute_result"
    }
   ],
   "source": [
    "#calculated bias\n",
    "df['SWH Difference'] = df['SARAL-AltiKa Wave Height'] - df['Buoy 44017 Wave Height']\n",
    "bias = df[\"SWH Difference\"].sum() / len(df)\n",
    "bias"
   ]
  },
  {
   "cell_type": "code",
   "execution_count": 52,
   "metadata": {},
   "outputs": [
    {
     "data": {
      "text/plain": [
       "-0.36725665985214334"
      ]
     },
     "execution_count": 52,
     "metadata": {},
     "output_type": "execute_result"
    }
   ],
   "source": [
    "df['wind Difference'] = df['SARAL-AltiKa Wind Speed'] - df['Buoy 44017 U10']\n",
    "bias = df[\"wind Difference\"].sum() / len(df)\n",
    "bias"
   ]
  },
  {
   "cell_type": "code",
   "execution_count": 53,
   "metadata": {
    "scrolled": true
   },
   "outputs": [],
   "source": [
    "x = df['Buoy 44017 U10']\n",
    "y = df['Buoy 44017 Wave Height']\n",
    "\n",
    "xx = df['SARAL-AltiKa Wind Speed']\n",
    "yy = df['SARAL-AltiKa Wave Height']"
   ]
  },
  {
   "cell_type": "code",
   "execution_count": 54,
   "metadata": {},
   "outputs": [
    {
     "name": "stdout",
     "output_type": "stream",
     "text": [
      "Model slope: 0.8847647034743014\n"
     ]
    }
   ],
   "source": [
    "model = LinearRegression(fit_intercept=True)\n",
    "\n",
    "model.fit(x[:, np.newaxis], xx)\n",
    "\n",
    "x1fit = np.linspace(0, 17, 61)\n",
    "y1fit = model.predict(x1fit[:, np.newaxis])\n",
    "\n",
    "print(\"Model slope:\", model.coef_[0])"
   ]
  },
  {
   "cell_type": "code",
   "execution_count": 55,
   "metadata": {
    "scrolled": true
   },
   "outputs": [],
   "source": [
    "scores_mean = list()\n",
    "scores_std = list()"
   ]
  },
  {
   "cell_type": "code",
   "execution_count": 57,
   "metadata": {},
   "outputs": [
    {
     "name": "stderr",
     "output_type": "stream",
     "text": [
      "C:\\Users\\panmits86\\Anaconda3\\envs\\thesis\\lib\\site-packages\\seaborn\\_decorators.py:36: FutureWarning: Pass the following variables as keyword args: x, y. From version 0.12, the only valid positional argument will be `data`, and passing other arguments without an explicit keyword will result in an error or misinterpretation.\n",
      "  warnings.warn(\n"
     ]
    },
    {
     "data": {
      "image/png": "[encoded data removed]",
      "text/plain": [
       "<Figure size 576x576 with 1 Axes>"
      ]
     },
     "metadata": {
      "needs_background": "light"
     },
     "output_type": "display_data"
    }
   ],
   "source": [
    "fig, ax = plt.subplots(figsize=(8, 8))\n",
    "sns.regplot(x,xx, scatter_kws={'s':12},ci=99)\n",
    "plt.plot([0, 17], [0, 17], dashes=[6, 2], linewidth=2, color='r')\n",
    "\n",
    "plt.xlabel('In Situ $u_{10} \\ (m/s)$', fontsize=16)\n",
    "plt.ylabel('SARAL-AltiKa Wind Speed $u_{10} (m/s)$', fontsize=16)\n",
    "plt.title('44017', size=16)\n",
    "plt.plot([], [], ' ', label=\"Slope=0.8848\")\n",
    "plt.plot([], [], ' ', label=\"$R^2$=0.8737\")\n",
    "\n",
    "plt.ylim(0,18)\n",
    "plt.xlim(0,18)\n",
    "\n",
    "plt.legend(prop={'size': 15},loc='lower right')\n",
    "ax.tick_params(axis='both', which='major', labelsize=15)"
   ]
  },
  {
   "cell_type": "code",
   "execution_count": 58,
   "metadata": {
    "scrolled": true
   },
   "outputs": [
    {
     "data": {
      "text/plain": [
       "1.046968603563318"
      ]
     },
     "execution_count": 58,
     "metadata": {},
     "output_type": "execute_result"
    }
   ],
   "source": [
    "sqrt(mean_squared_error(df['Buoy 44017 U10'], df['SARAL-AltiKa Wind Speed']))"
   ]
  },
  {
   "cell_type": "code",
   "execution_count": 59,
   "metadata": {},
   "outputs": [
    {
     "data": {
      "text/plain": [
       "0.8736729058138026"
      ]
     },
     "execution_count": 59,
     "metadata": {},
     "output_type": "execute_result"
    }
   ],
   "source": [
    "r2_score(df['Buoy 44017 U10'], df['SARAL-AltiKa Wind Speed'])"
   ]
  },
  {
   "cell_type": "code",
   "execution_count": 60,
   "metadata": {
    "scrolled": true
   },
   "outputs": [
    {
     "data": {
      "text/plain": [
       "(0.9429950324771411, 1.2984121934964631e-23)"
      ]
     },
     "execution_count": 60,
     "metadata": {},
     "output_type": "execute_result"
    }
   ],
   "source": [
    "scipy.stats.pearsonr(df['Buoy 44017 U10'], df['SARAL-AltiKa Wind Speed'])"
   ]
  },
  {
   "cell_type": "code",
   "execution_count": 61,
   "metadata": {},
   "outputs": [
    {
     "data": {
      "text/plain": [
       "SpearmanrResult(correlation=0.9450222052617565, pvalue=5.771055499998832e-24)"
      ]
     },
     "execution_count": 61,
     "metadata": {},
     "output_type": "execute_result"
    }
   ],
   "source": [
    "scipy.stats.spearmanr(df['Buoy 44017 U10'], df['SARAL-AltiKa Wind Speed'])"
   ]
  },
  {
   "cell_type": "code",
   "execution_count": 62,
   "metadata": {},
   "outputs": [
    {
     "name": "stdout",
     "output_type": "stream",
     "text": [
      "Model slope: [0.88176018]\n"
     ]
    }
   ],
   "source": [
    "model = LinearRegression(fit_intercept=True)\n",
    "\n",
    "model.fit(y[:, np.newaxis], yy)\n",
    "\n",
    "x2fit = np.linspace(0, 4, 1000)\n",
    "y2fit = model.predict(x2fit[:, np.newaxis])\n",
    "\n",
    "print(\"Model slope:\", model.coef_)"
   ]
  },
  {
   "cell_type": "code",
   "execution_count": 63,
   "metadata": {},
   "outputs": [
    {
     "name": "stderr",
     "output_type": "stream",
     "text": [
      "C:\\Users\\panmits86\\Anaconda3\\envs\\thesis\\lib\\site-packages\\seaborn\\_decorators.py:36: FutureWarning: Pass the following variables as keyword args: x, y. From version 0.12, the only valid positional argument will be `data`, and passing other arguments without an explicit keyword will result in an error or misinterpretation.\n",
      "  warnings.warn(\n"
     ]
    },
    {
     "data": {
      "text/plain": [
       "(0.0, 4.2)"
      ]
     },
     "execution_count": 63,
     "metadata": {},
     "output_type": "execute_result"
    },
    {
     "data": {
      "image/png": "[encoded data removed]",
      "text/plain": [
       "<Figure size 576x576 with 1 Axes>"
      ]
     },
     "metadata": {
      "needs_background": "light"
     },
     "output_type": "display_data"
    }
   ],
   "source": [
    "scores_mean = list()\n",
    "scores_std = list()\n",
    "fig, ax = plt.subplots(figsize=(8, 8))\n",
    "sns.regplot(y,yy, scatter_kws={'s':12},ci=99)\n",
    "plt.plot([0, 4], [0, 4], dashes=[6, 2], linewidth=2, color='r')\n",
    "\n",
    "plt.xlabel('In Situ $H_{s} \\ (m)$', fontsize=16)\n",
    "plt.ylabel('SARAL-AltiKa $H_{s} \\ (m)$', fontsize=16)\n",
    "plt.title('44017', size=16)\n",
    "plt.plot([], [], ' ', label=\"Slope=0.8818\")\n",
    "plt.plot([], [], ' ', label=\"$R^2$=0.9456\")\n",
    "plt.legend(prop={'size': 15},loc='lower right')\n",
    "ax.tick_params(axis='both', which='major', labelsize=15)\n",
    "plt.ylim(0,4.2)\n",
    "plt.xlim(0,4.2)"
   ]
  },
  {
   "cell_type": "code",
   "execution_count": 64,
   "metadata": {},
   "outputs": [
    {
     "data": {
      "text/plain": [
       "0.13829217056588106"
      ]
     },
     "execution_count": 64,
     "metadata": {},
     "output_type": "execute_result"
    }
   ],
   "source": [
    "sqrt(mean_squared_error(df['Buoy 44017 Wave Height'], df['SARAL-AltiKa Wave Height']))"
   ]
  },
  {
   "cell_type": "code",
   "execution_count": 65,
   "metadata": {},
   "outputs": [
    {
     "data": {
      "text/plain": [
       "0.9455511368510726"
      ]
     },
     "execution_count": 65,
     "metadata": {},
     "output_type": "execute_result"
    }
   ],
   "source": [
    "r2_score(df['Buoy 44017 Wave Height'], df['SARAL-AltiKa Wave Height'])"
   ]
  },
  {
   "cell_type": "code",
   "execution_count": 66,
   "metadata": {},
   "outputs": [
    {
     "data": {
      "text/plain": [
       "(0.9779631810219518, 6.066114127313404e-33)"
      ]
     },
     "execution_count": 66,
     "metadata": {},
     "output_type": "execute_result"
    }
   ],
   "source": [
    "scipy.stats.pearsonr(df['Buoy 44017 Wave Height'], df['SARAL-AltiKa Wave Height'])"
   ]
  },
  {
   "cell_type": "code",
   "execution_count": 67,
   "metadata": {},
   "outputs": [
    {
     "data": {
      "text/plain": [
       "SpearmanrResult(correlation=0.9805124365676997, pvalue=3.6871693826616467e-34)"
      ]
     },
     "execution_count": 67,
     "metadata": {},
     "output_type": "execute_result"
    }
   ],
   "source": [
    "scipy.stats.spearmanr(df['Buoy 44017 Wave Height'], df['SARAL-AltiKa Wave Height'])"
   ]
  },
  {
   "cell_type": "code",
   "execution_count": 68,
   "metadata": {},
   "outputs": [
    {
     "data": {
      "text/plain": [
       "array([ 0.97169843, -0.09028784,  0.01626612])"
      ]
     },
     "execution_count": 68,
     "metadata": {},
     "output_type": "execute_result"
    }
   ],
   "source": [
    "model1 = LinearRegression(fit_intercept=False)\n",
    "\n",
    "\n",
    "xfit = np.linspace(pd.Series.min(x), pd.Series.max(x), 1000)\n",
    "\n",
    "poly_model = make_pipeline(PolynomialFeatures(2), model1)\n",
    "\n",
    "poly_model.fit(x[:, np.newaxis], y)\n",
    "yfit = poly_model.predict(xfit[:, np.newaxis])\n",
    "poly_model.steps[1][1].coef_"
   ]
  },
  {
   "cell_type": "code",
   "execution_count": 70,
   "metadata": {},
   "outputs": [
    {
     "data": {
      "text/plain": [
       "Text(0.5, 1.0, 'Buoy 44017- 0.25 decimal degrees Satellite Wind Speed-$H_{s}$ comparison')"
      ]
     },
     "execution_count": 70,
     "metadata": {},
     "output_type": "execute_result"
    },
    {
     "data": {
      "image/png": "[encoded data removed]",
      "text/plain": [
       "<Figure size 576x576 with 1 Axes>"
      ]
     },
     "metadata": {
      "needs_background": "light"
     },
     "output_type": "display_data"
    }
   ],
   "source": [
    "df3=pd.read_csv(\"swh_sa.csv\", sep='\\t')\n",
    "\n",
    "colocated7= df3[((df3[['lon','lat']] - [287.951,40.693])**2).sum(axis=1) < 0.25**2]\n",
    "yy=colocated7['swh']\n",
    "xx=colocated7['wind_speed_alt']\n",
    "\n",
    "model2 = LinearRegression(fit_intercept=False)\n",
    "\n",
    "xxfit = np.linspace(pd.Series.min(xx), pd.Series.max(xx), 1000)\n",
    "\n",
    "poly_model1 = make_pipeline(PolynomialFeatures(2), model2)\n",
    "\n",
    "poly_model1.fit(xx[:, np.newaxis], yy)\n",
    "yyfit = poly_model1.predict(xxfit[:, np.newaxis])\n",
    "\n",
    "scores_mean = list()\n",
    "scores_std = list()\n",
    "fig, ax = plt.subplots(figsize=(8, 8))\n",
    "ax.scatter(xx, yy, s=10, color='green', label='SARAL-AltiKa data')\n",
    "ax.plot(xxfit, yyfit, linewidth=2, label=\"SARAL-AltiKa\", color='#fc4f30')\n",
    "\n",
    "plt.xlabel('$Wind \\ Speed \\ (m/s)$', fontsize=14)\n",
    "plt.ylabel('$H_{s} \\ (m)$', fontsize=14)\n",
    "plt.title('Buoy 44017- 0.25 decimal degrees Satellite Wind Speed-$H_{s}$ comparison', size=13)"
   ]
  },
  {
   "cell_type": "code",
   "execution_count": 71,
   "metadata": {},
   "outputs": [
    {
     "data": {
      "text/plain": [
       "array([0.76255395, 0.02371192, 0.00690233])"
      ]
     },
     "execution_count": 71,
     "metadata": {},
     "output_type": "execute_result"
    }
   ],
   "source": [
    "poly_model1.steps[1][1].coef_"
   ]
  },
  {
   "cell_type": "code",
   "execution_count": 72,
   "metadata": {},
   "outputs": [
    {
     "data": {
      "text/plain": [
       "5.893613288392381"
      ]
     },
     "execution_count": 72,
     "metadata": {},
     "output_type": "execute_result"
    }
   ],
   "source": [
    "sqrt(mean_squared_error(colocated7['wind_speed_alt'], colocated7['swh']))"
   ]
  },
  {
   "cell_type": "code",
   "execution_count": 73,
   "metadata": {},
   "outputs": [
    {
     "data": {
      "text/plain": [
       "(0.7190228138972508, 2.370661714518603e-65)"
      ]
     },
     "execution_count": 73,
     "metadata": {},
     "output_type": "execute_result"
    }
   ],
   "source": [
    "scipy.stats.pearsonr(colocated7['wind_speed_alt'], colocated7['swh'])"
   ]
  },
  {
   "cell_type": "code",
   "execution_count": 74,
   "metadata": {},
   "outputs": [
    {
     "data": {
      "text/plain": [
       "SpearmanrResult(correlation=0.6882711760013897, pvalue=7.338230831015781e-58)"
      ]
     },
     "execution_count": 74,
     "metadata": {},
     "output_type": "execute_result"
    }
   ],
   "source": [
    "scipy.stats.spearmanr(colocated7['wind_speed_alt'], colocated7['swh'])"
   ]
  },
  {
   "cell_type": "code",
   "execution_count": 75,
   "metadata": {},
   "outputs": [
    {
     "name": "stdout",
     "output_type": "stream",
     "text": [
      "Model slope: 0.09617012969024717\n",
      "Model slope: 0.09952879610178869\n"
     ]
    },
    {
     "name": "stderr",
     "output_type": "stream",
     "text": [
      "<ipython-input-75-311daba76d48>:3: SettingWithCopyWarning: \n",
      "A value is trying to be set on a copy of a slice from a DataFrame.\n",
      "Try using .loc[row_indexer,col_indexer] = value instead\n",
      "\n",
      "See the caveats in the documentation: https://pandas.pydata.org/pandas-docs/stable/user_guide/indexing.html#returning-a-view-versus-a-copy\n",
      "  colocated7['nlog SARAL-AltiKa Wave Height']=np.log(colocated7['swh'])\n"
     ]
    },
    {
     "data": {
      "text/plain": [
       "Text(0.5, 1.0, '44017')"
      ]
     },
     "execution_count": 75,
     "metadata": {},
     "output_type": "execute_result"
    },
    {
     "data": {
      "image/png": "[encoded data removed]",
      "text/plain": [
       "<Figure size 576x576 with 1 Axes>"
      ]
     },
     "metadata": {
      "needs_background": "light"
     },
     "output_type": "display_data"
    }
   ],
   "source": [
    "df4=pd.read_csv(\"swh_sa.csv\", sep='\\t')\n",
    "colocated7= df4[((df4[['lon','lat']] - [287.951,40.693])**2).sum(axis=1) < 0.25**2]\n",
    "colocated7['nlog SARAL-AltiKa Wave Height']=np.log(colocated7['swh'])\n",
    "xx=colocated7['wind_speed_alt']\n",
    "yy=colocated7['nlog SARAL-AltiKa Wave Height']\n",
    "\n",
    "model = LinearRegression(fit_intercept=True)\n",
    "\n",
    "model.fit(xx[:, np.newaxis], yy)\n",
    "\n",
    "x1fit = np.linspace(pd.Series.min(xx), pd.Series.max(xx), 1000)\n",
    "y1fit = model.predict(x1fit[:, np.newaxis])\n",
    "print(\"Model slope:\", model.coef_[0])\n",
    "\n",
    "scores_mean = list()\n",
    "scores_std = list()\n",
    "fig, ax = plt.subplots(figsize=(8, 8))\n",
    "\n",
    "ax.scatter(xx, yy, s=10, color='green', label='nlog SARAL-AltiKa data')\n",
    "plt.plot(x1fit, y1fit, linewidth=2, label='SARAL-AltiKa')\n",
    "\n",
    "\n",
    "df['natural_log_buoy_Hs']=np.log(df['Buoy 44017 Wave Height'])\n",
    "y=df['natural_log_buoy_Hs']\n",
    "x = df['Buoy 44017 U10']\n",
    "model = LinearRegression(fit_intercept=True)\n",
    "\n",
    "model.fit(x[:, np.newaxis], y)\n",
    "\n",
    "xfit = np.linspace(pd.Series.min(x), pd.Series.max(x), 1000)\n",
    "yfit = model.predict(xfit[:, np.newaxis])\n",
    "print(\"Model slope:\", model.coef_[0])\n",
    "\n",
    "ax.scatter(x, y, s=10,color='purple', label='Buoy 44017 data')\n",
    "ax.plot(xfit, yfit, linewidth=2, label='Buoy 44017')\n",
    "\n",
    "\n",
    "\n",
    "\n",
    "plt.ylim(-2.5,1.5)\n",
    "plt.xlim(0,17)\n",
    "ax.tick_params(axis='both', which='major', labelsize=15)\n",
    "ax.legend(prop={'size': 13}, loc=\"lower right\")\n",
    "plt.xlabel('$u_{10} \\ (m/s)$', fontsize=16)\n",
    "plt.ylabel('Natural Log $H_{s}$', fontsize=16)\n",
    "plt.title('44017', size=16)"
   ]
  },
  {
   "cell_type": "code",
   "execution_count": 76,
   "metadata": {},
   "outputs": [
    {
     "data": {
      "text/plain": [
       "(0.6964723371953704, 9.139895633175837e-60)"
      ]
     },
     "execution_count": 76,
     "metadata": {},
     "output_type": "execute_result"
    }
   ],
   "source": [
    "scipy.stats.pearsonr(colocated7['wind_speed_alt'], colocated7['nlog SARAL-AltiKa Wave Height'])"
   ]
  },
  {
   "cell_type": "code",
   "execution_count": 77,
   "metadata": {},
   "outputs": [
    {
     "data": {
      "text/plain": [
       "(0.6888178216466487, 6.227565060185555e-08)"
      ]
     },
     "execution_count": 77,
     "metadata": {},
     "output_type": "execute_result"
    }
   ],
   "source": [
    "scipy.stats.pearsonr(df['natural_log_buoy_Hs'],df['Buoy 44017 U10'])"
   ]
  },
  {
   "cell_type": "code",
   "execution_count": 78,
   "metadata": {},
   "outputs": [
    {
     "data": {
      "text/plain": [
       "6.895197303771772"
      ]
     },
     "execution_count": 78,
     "metadata": {},
     "output_type": "execute_result"
    }
   ],
   "source": [
    "sqrt(mean_squared_error(df['natural_log_buoy_Hs'],df['Buoy 44017 U10']))"
   ]
  },
  {
   "cell_type": "code",
   "execution_count": 79,
   "metadata": {},
   "outputs": [
    {
     "data": {
      "text/plain": [
       "6.939780304900387"
      ]
     },
     "execution_count": 79,
     "metadata": {},
     "output_type": "execute_result"
    }
   ],
   "source": [
    "sqrt(mean_squared_error(colocated7['wind_speed_alt'], colocated7['nlog SARAL-AltiKa Wave Height']))"
   ]
  },
  {
   "cell_type": "code",
   "execution_count": 80,
   "metadata": {},
   "outputs": [
    {
     "name": "stdout",
     "output_type": "stream",
     "text": [
      "Model slope: 0.09617012969024717\n"
     ]
    }
   ],
   "source": [
    "model = LinearRegression(fit_intercept=True)\n",
    "\n",
    "model.fit(xx[:, np.newaxis], yy)\n",
    "print(\"Model slope:\", model.coef_[0])"
   ]
  }
 ],
 "metadata": {
  "kernelspec": {
   "display_name": "Python 3",
   "language": "python",
   "name": "python3"
  },
  "language_info": {
   "codemirror_mode": {
    "name": "ipython",
    "version": 3
   },
   "file_extension": ".py",
   "mimetype": "text/x-python",
   "name": "python",
   "nbconvert_exporter": "python",
   "pygments_lexer": "ipython3",
   "version": "3.8.6"
  }
 },
 "nbformat": 4,
 "nbformat_minor": 4
}
