{
 "cells": [
  {
   "cell_type": "code",
   "execution_count": 1,
   "metadata": {
    "scrolled": true
   },
   "outputs": [],
   "source": [
    "#data manipulation\n",
    "from pathlib import Path\n",
    "import numpy as np\n",
    "from numpy import percentile\n",
    "from datetime import datetime, timedelta\n",
    "import xarray as xr\n",
    "import pandas as pd\n",
    "import statsmodels.api as sm\n",
    "from statsmodels.sandbox.regression.predstd import wls_prediction_std\n",
    "from sklearn.model_selection import train_test_split \n",
    "from sklearn.linear_model import LinearRegression\n",
    "from sklearn import metrics\n",
    "from sklearn.metrics import r2_score\n",
    "from sklearn.metrics import mean_squared_error\n",
    "from math import sqrt\n",
    "import scipy.stats\n",
    "from scipy.stats import weibull_min\n",
    "#plotting\n",
    "import matplotlib as mpl\n",
    "import matplotlib.pyplot as plt\n",
    "import matplotlib.ticker as mticker\n",
    "import matplotlib.patches as mpatch\n",
    "from matplotlib.transforms import offset_copy\n",
    "import matplotlib.colors as colors\n",
    "import seaborn as seabornInstance\n",
    "import seaborn as sns\n",
    "from reliability.Fitters import Fit_Weibull_2P\n",
    "\n",
    "%matplotlib inline"
   ]
  },
  {
   "cell_type": "code",
   "execution_count": 2,
   "metadata": {},
   "outputs": [
    {
     "data": {
      "text/html": [
       "<div>\n",
       "<style scoped>\n",
       "    .dataframe tbody tr th:only-of-type {\n",
       "        vertical-align: middle;\n",
       "    }\n",
       "\n",
       "    .dataframe tbody tr th {\n",
       "        vertical-align: top;\n",
       "    }\n",
       "\n",
       "    .dataframe thead th {\n",
       "        text-align: right;\n",
       "    }\n",
       "</style>\n",
       "<table border=\"1\" class=\"dataframe\">\n",
       "  <thead>\n",
       "    <tr style=\"text-align: right;\">\n",
       "      <th></th>\n",
       "      <th>time</th>\n",
       "      <th>lon</th>\n",
       "      <th>lat</th>\n",
       "      <th>swh</th>\n",
       "      <th>wind_speed_alt</th>\n",
       "    </tr>\n",
       "  </thead>\n",
       "  <tbody>\n",
       "    <tr>\n",
       "      <th>0</th>\n",
       "      <td>2014-08-21 23:28:09.197778944</td>\n",
       "      <td>286.287362</td>\n",
       "      <td>40.555752</td>\n",
       "      <td>0.652</td>\n",
       "      <td>4.24</td>\n",
       "    </tr>\n",
       "    <tr>\n",
       "      <th>1</th>\n",
       "      <td>2014-08-21 23:28:11.270705920</td>\n",
       "      <td>286.247050</td>\n",
       "      <td>40.434171</td>\n",
       "      <td>0.829</td>\n",
       "      <td>5.36</td>\n",
       "    </tr>\n",
       "    <tr>\n",
       "      <th>2</th>\n",
       "      <td>2014-08-21 23:28:13.343635072</td>\n",
       "      <td>286.206852</td>\n",
       "      <td>40.312579</td>\n",
       "      <td>0.775</td>\n",
       "      <td>5.10</td>\n",
       "    </tr>\n",
       "    <tr>\n",
       "      <th>3</th>\n",
       "      <td>2014-08-21 23:28:14.380099072</td>\n",
       "      <td>286.186796</td>\n",
       "      <td>40.251778</td>\n",
       "      <td>0.814</td>\n",
       "      <td>5.07</td>\n",
       "    </tr>\n",
       "    <tr>\n",
       "      <th>4</th>\n",
       "      <td>2014-08-21 23:28:15.416562112</td>\n",
       "      <td>286.166767</td>\n",
       "      <td>40.190975</td>\n",
       "      <td>0.816</td>\n",
       "      <td>4.96</td>\n",
       "    </tr>\n",
       "  </tbody>\n",
       "</table>\n",
       "</div>"
      ],
      "text/plain": [
       "                            time         lon        lat    swh  wind_speed_alt\n",
       "0  2014-08-21 23:28:09.197778944  286.287362  40.555752  0.652            4.24\n",
       "1  2014-08-21 23:28:11.270705920  286.247050  40.434171  0.829            5.36\n",
       "2  2014-08-21 23:28:13.343635072  286.206852  40.312579  0.775            5.10\n",
       "3  2014-08-21 23:28:14.380099072  286.186796  40.251778  0.814            5.07\n",
       "4  2014-08-21 23:28:15.416562112  286.166767  40.190975  0.816            4.96"
      ]
     },
     "execution_count": 2,
     "metadata": {},
     "output_type": "execute_result"
    }
   ],
   "source": [
    "#CSVfilelocation\n",
    "#swh_sa is the list of Saral-Altika wind speed and Hs data\n",
    "df=pd.read_csv(\"swh_sa.csv\", sep='\\t')\n",
    "df.head()"
   ]
  },
  {
   "cell_type": "code",
   "execution_count": 3,
   "metadata": {},
   "outputs": [],
   "source": [
    "#Satellite wind speed data within 0.5 dd of 44017\n",
    "colocated7= df[((df[['lon','lat']] - [287.951,40.693])**2).sum(axis=1) < 0.5**2]\n",
    "yy=colocated7['swh']\n",
    "xx=colocated7['wind_speed_alt']"
   ]
  },
  {
   "cell_type": "code",
   "execution_count": 4,
   "metadata": {},
   "outputs": [],
   "source": [
    "data = colocated7[\"wind_speed_alt\"]"
   ]
  },
  {
   "cell_type": "code",
   "execution_count": 5,
   "metadata": {},
   "outputs": [
    {
     "name": "stderr",
     "output_type": "stream",
     "text": [
      "C:\\Users\\panmits86\\Anaconda3\\envs\\thesis\\lib\\site-packages\\seaborn\\distributions.py:2551: FutureWarning: `distplot` is a deprecated function and will be removed in a future version. Please adapt your code to use either `displot` (a figure-level function with similar flexibility) or `histplot` (an axes-level function for histograms).\n",
      "  warnings.warn(msg, FutureWarning)\n"
     ]
    },
    {
     "data": {
      "text/plain": [
       "(0.0, 0.17)"
      ]
     },
     "execution_count": 5,
     "metadata": {},
     "output_type": "execute_result"
    },
    {
     "data": {
      "image/png": "[encoded data removed]",
      "text/plain": [
       "<Figure size 720x648 with 1 Axes>"
      ]
     },
     "metadata": {
      "needs_background": "light"
     },
     "output_type": "display_data"
    }
   ],
   "source": [
    "\n",
    "fig,ax=plt.subplots(figsize=(10,9))\n",
    "shape, loc, scale = weibull_min.fit(data, floc=0,fc=2) # if you want to fix shape as 2: set fc=2\n",
    "x = np.linspace(data.min(), data.max(), 100)\n",
    "plt.plot(x, weibull_min(shape, loc, scale).pdf(x),color=\"blue\",label=\"Buoy44097-0.25 decimal degrees Saral/ALtika\"+\"(Scale:\"+str(round(scale,2))+\";Shape:\"+str(round(shape,2))+\")\")\n",
    "sns.distplot(xx,hist_kws=dict(alpha=1),color='lightskyblue',kde_kws=dict(alpha=0))\n",
    "\n",
    "def change_width(ax, new_value) :\n",
    "    for patch in ax.patches :\n",
    "        current_width = patch.get_width()\n",
    "        diff = current_width - new_value\n",
    "\n",
    "        # we change the bar width\n",
    "        patch.set_width(new_value)\n",
    "\n",
    "        # we recenter the bar\n",
    "        patch.set_x(patch.get_x() + diff * .5)\n",
    "\n",
    "change_width(ax, 1.6)\n",
    "\n",
    "plt.xlabel('Wind Speed (m/s)', fontsize=15)\n",
    "plt.ylabel('Density Function', fontsize=15)\n",
    "plt.tick_params(axis='both', which='major', labelsize=15)\n",
    "plt.xlim(0,25)\n",
    "plt.ylim(0,0.17)"
   ]
  },
  {
   "cell_type": "code",
   "execution_count": 6,
   "metadata": {},
   "outputs": [],
   "source": [
    "# parameters\n",
    "A = round(scale,4) # from weibull\n",
    "k = round(shape,4) \n",
    "air_density = 1.225 # kg/m^3\n",
    "\n",
    "from scipy.special import gamma, factorial\n",
    "mean_energy_density = 0.5*air_density*A**3*gamma(1+3/k)"
   ]
  },
  {
   "cell_type": "code",
   "execution_count": 7,
   "metadata": {},
   "outputs": [
    {
     "data": {
      "text/plain": [
       "7.5247"
      ]
     },
     "execution_count": 7,
     "metadata": {},
     "output_type": "execute_result"
    }
   ],
   "source": [
    "A"
   ]
  },
  {
   "cell_type": "code",
   "execution_count": 8,
   "metadata": {},
   "outputs": [
    {
     "data": {
      "text/plain": [
       "2"
      ]
     },
     "execution_count": 8,
     "metadata": {},
     "output_type": "execute_result"
    }
   ],
   "source": [
    "k"
   ]
  },
  {
   "cell_type": "code",
   "execution_count": 9,
   "metadata": {},
   "outputs": [
    {
     "data": {
      "text/plain": [
       "346.9044431672707"
      ]
     },
     "execution_count": 9,
     "metadata": {},
     "output_type": "execute_result"
    }
   ],
   "source": [
    "mean_energy_density "
   ]
  },
  {
   "cell_type": "code",
   "execution_count": 10,
   "metadata": {
    "scrolled": true
   },
   "outputs": [
    {
     "data": {
      "text/html": [
       "<div>\n",
       "<style scoped>\n",
       "    .dataframe tbody tr th:only-of-type {\n",
       "        vertical-align: middle;\n",
       "    }\n",
       "\n",
       "    .dataframe tbody tr th {\n",
       "        vertical-align: top;\n",
       "    }\n",
       "\n",
       "    .dataframe thead th {\n",
       "        text-align: right;\n",
       "    }\n",
       "</style>\n",
       "<table border=\"1\" class=\"dataframe\">\n",
       "  <thead>\n",
       "    <tr style=\"text-align: right;\">\n",
       "      <th></th>\n",
       "      <th>Buoy 44017 Time</th>\n",
       "      <th>Buoy 44017 Wave Height</th>\n",
       "      <th>Buoy 44017 U10</th>\n",
       "      <th>SARAL-AltiKa Wave Height</th>\n",
       "      <th>SARAL-AltiKa Wind Speed</th>\n",
       "    </tr>\n",
       "  </thead>\n",
       "  <tbody>\n",
       "    <tr>\n",
       "      <th>0</th>\n",
       "      <td>5/17/2015</td>\n",
       "      <td>1.13</td>\n",
       "      <td>1.806534</td>\n",
       "      <td>1.259667</td>\n",
       "      <td>3.733333</td>\n",
       "    </tr>\n",
       "    <tr>\n",
       "      <th>1</th>\n",
       "      <td>5/25/2015</td>\n",
       "      <td>0.78</td>\n",
       "      <td>9.133031</td>\n",
       "      <td>1.025750</td>\n",
       "      <td>7.730000</td>\n",
       "    </tr>\n",
       "    <tr>\n",
       "      <th>2</th>\n",
       "      <td>6/29/2015</td>\n",
       "      <td>1.58</td>\n",
       "      <td>7.527223</td>\n",
       "      <td>1.620857</td>\n",
       "      <td>6.157143</td>\n",
       "    </tr>\n",
       "    <tr>\n",
       "      <th>3</th>\n",
       "      <td>7/26/2015</td>\n",
       "      <td>0.62</td>\n",
       "      <td>4.717060</td>\n",
       "      <td>0.651600</td>\n",
       "      <td>4.506000</td>\n",
       "    </tr>\n",
       "    <tr>\n",
       "      <th>4</th>\n",
       "      <td>8/3/2015</td>\n",
       "      <td>1.39</td>\n",
       "      <td>8.731579</td>\n",
       "      <td>1.241600</td>\n",
       "      <td>6.810000</td>\n",
       "    </tr>\n",
       "    <tr>\n",
       "      <th>...</th>\n",
       "      <td>...</td>\n",
       "      <td>...</td>\n",
       "      <td>...</td>\n",
       "      <td>...</td>\n",
       "      <td>...</td>\n",
       "    </tr>\n",
       "    <tr>\n",
       "      <th>129</th>\n",
       "      <td>6/5/2019</td>\n",
       "      <td>1.51</td>\n",
       "      <td>8.932305</td>\n",
       "      <td>1.408889</td>\n",
       "      <td>8.713333</td>\n",
       "    </tr>\n",
       "    <tr>\n",
       "      <th>130</th>\n",
       "      <td>7/7/2019</td>\n",
       "      <td>0.92</td>\n",
       "      <td>5.118512</td>\n",
       "      <td>0.879571</td>\n",
       "      <td>4.647143</td>\n",
       "    </tr>\n",
       "    <tr>\n",
       "      <th>131</th>\n",
       "      <td>7/23/2019</td>\n",
       "      <td>1.72</td>\n",
       "      <td>4.215245</td>\n",
       "      <td>1.322000</td>\n",
       "      <td>3.600000</td>\n",
       "    </tr>\n",
       "    <tr>\n",
       "      <th>132</th>\n",
       "      <td>7/31/2019</td>\n",
       "      <td>0.85</td>\n",
       "      <td>4.516334</td>\n",
       "      <td>0.833429</td>\n",
       "      <td>4.041428</td>\n",
       "    </tr>\n",
       "    <tr>\n",
       "      <th>133</th>\n",
       "      <td>8/16/2019</td>\n",
       "      <td>1.17</td>\n",
       "      <td>4.817423</td>\n",
       "      <td>1.155000</td>\n",
       "      <td>3.763333</td>\n",
       "    </tr>\n",
       "  </tbody>\n",
       "</table>\n",
       "<p>134 rows × 5 columns</p>\n",
       "</div>"
      ],
      "text/plain": [
       "    Buoy 44017 Time  Buoy 44017 Wave Height  Buoy 44017 U10  \\\n",
       "0         5/17/2015                    1.13        1.806534   \n",
       "1         5/25/2015                    0.78        9.133031   \n",
       "2         6/29/2015                    1.58        7.527223   \n",
       "3         7/26/2015                    0.62        4.717060   \n",
       "4          8/3/2015                    1.39        8.731579   \n",
       "..              ...                     ...             ...   \n",
       "129        6/5/2019                    1.51        8.932305   \n",
       "130        7/7/2019                    0.92        5.118512   \n",
       "131       7/23/2019                    1.72        4.215245   \n",
       "132       7/31/2019                    0.85        4.516334   \n",
       "133       8/16/2019                    1.17        4.817423   \n",
       "\n",
       "     SARAL-AltiKa Wave Height  SARAL-AltiKa Wind Speed  \n",
       "0                    1.259667                 3.733333  \n",
       "1                    1.025750                 7.730000  \n",
       "2                    1.620857                 6.157143  \n",
       "3                    0.651600                 4.506000  \n",
       "4                    1.241600                 6.810000  \n",
       "..                        ...                      ...  \n",
       "129                  1.408889                 8.713333  \n",
       "130                  0.879571                 4.647143  \n",
       "131                  1.322000                 3.600000  \n",
       "132                  0.833429                 4.041428  \n",
       "133                  1.155000                 3.763333  \n",
       "\n",
       "[134 rows x 5 columns]"
      ]
     },
     "execution_count": 10,
     "metadata": {},
     "output_type": "execute_result"
    }
   ],
   "source": [
    "#Corresponding buoy wind speed data at 0.5 decimal degrees radius\n",
    "df2=pd.read_csv('44017_df_50.csv')\n",
    "x1=df2['Buoy 44017 U10']\n",
    "y1=df2['Buoy 44017 Wave Height']\n",
    "df2"
   ]
  },
  {
   "cell_type": "code",
   "execution_count": 11,
   "metadata": {},
   "outputs": [
    {
     "data": {
      "text/html": [
       "<div>\n",
       "<style scoped>\n",
       "    .dataframe tbody tr th:only-of-type {\n",
       "        vertical-align: middle;\n",
       "    }\n",
       "\n",
       "    .dataframe tbody tr th {\n",
       "        vertical-align: top;\n",
       "    }\n",
       "\n",
       "    .dataframe thead th {\n",
       "        text-align: right;\n",
       "    }\n",
       "</style>\n",
       "<table border=\"1\" class=\"dataframe\">\n",
       "  <thead>\n",
       "    <tr style=\"text-align: right;\">\n",
       "      <th></th>\n",
       "      <th>Buoy 44017 Wave Height</th>\n",
       "      <th>Buoy 44017 U10</th>\n",
       "      <th>SARAL-AltiKa Wave Height</th>\n",
       "      <th>SARAL-AltiKa Wind Speed</th>\n",
       "    </tr>\n",
       "  </thead>\n",
       "  <tbody>\n",
       "    <tr>\n",
       "      <th>count</th>\n",
       "      <td>134.000000</td>\n",
       "      <td>134.000000</td>\n",
       "      <td>134.000000</td>\n",
       "      <td>134.000000</td>\n",
       "    </tr>\n",
       "    <tr>\n",
       "      <th>mean</th>\n",
       "      <td>1.227307</td>\n",
       "      <td>6.585159</td>\n",
       "      <td>1.237449</td>\n",
       "      <td>6.307609</td>\n",
       "    </tr>\n",
       "    <tr>\n",
       "      <th>std</th>\n",
       "      <td>0.610749</td>\n",
       "      <td>3.094114</td>\n",
       "      <td>0.537986</td>\n",
       "      <td>2.918809</td>\n",
       "    </tr>\n",
       "    <tr>\n",
       "      <th>min</th>\n",
       "      <td>0.480000</td>\n",
       "      <td>0.602178</td>\n",
       "      <td>0.506333</td>\n",
       "      <td>1.632000</td>\n",
       "    </tr>\n",
       "    <tr>\n",
       "      <th>25%</th>\n",
       "      <td>0.782500</td>\n",
       "      <td>4.415971</td>\n",
       "      <td>0.836821</td>\n",
       "      <td>4.201916</td>\n",
       "    </tr>\n",
       "    <tr>\n",
       "      <th>50%</th>\n",
       "      <td>1.085000</td>\n",
       "      <td>6.021778</td>\n",
       "      <td>1.137634</td>\n",
       "      <td>5.627500</td>\n",
       "    </tr>\n",
       "    <tr>\n",
       "      <th>75%</th>\n",
       "      <td>1.507500</td>\n",
       "      <td>8.430490</td>\n",
       "      <td>1.492917</td>\n",
       "      <td>7.820000</td>\n",
       "    </tr>\n",
       "    <tr>\n",
       "      <th>max</th>\n",
       "      <td>3.780000</td>\n",
       "      <td>15.756987</td>\n",
       "      <td>3.740539</td>\n",
       "      <td>13.923333</td>\n",
       "    </tr>\n",
       "  </tbody>\n",
       "</table>\n",
       "</div>"
      ],
      "text/plain": [
       "       Buoy 44017 Wave Height  Buoy 44017 U10  SARAL-AltiKa Wave Height  \\\n",
       "count              134.000000      134.000000                134.000000   \n",
       "mean                 1.227307        6.585159                  1.237449   \n",
       "std                  0.610749        3.094114                  0.537986   \n",
       "min                  0.480000        0.602178                  0.506333   \n",
       "25%                  0.782500        4.415971                  0.836821   \n",
       "50%                  1.085000        6.021778                  1.137634   \n",
       "75%                  1.507500        8.430490                  1.492917   \n",
       "max                  3.780000       15.756987                  3.740539   \n",
       "\n",
       "       SARAL-AltiKa Wind Speed  \n",
       "count               134.000000  \n",
       "mean                  6.307609  \n",
       "std                   2.918809  \n",
       "min                   1.632000  \n",
       "25%                   4.201916  \n",
       "50%                   5.627500  \n",
       "75%                   7.820000  \n",
       "max                  13.923333  "
      ]
     },
     "execution_count": 11,
     "metadata": {},
     "output_type": "execute_result"
    }
   ],
   "source": [
    "df2['Date'] = pd.to_datetime(df2[\"Buoy 44017 Time\"])\n",
    "df2['month'] = df2['Date'].dt.month_name()\n",
    "df2['day'] = df2['Date'].dt.day_name()\n",
    "df2.describe()"
   ]
  },
  {
   "cell_type": "code",
   "execution_count": 12,
   "metadata": {},
   "outputs": [
    {
     "name": "stderr",
     "output_type": "stream",
     "text": [
      "C:\\Users\\panmits86\\Anaconda3\\envs\\thesis\\lib\\site-packages\\seaborn\\distributions.py:2551: FutureWarning: `distplot` is a deprecated function and will be removed in a future version. Please adapt your code to use either `displot` (a figure-level function with similar flexibility) or `histplot` (an axes-level function for histograms).\n",
      "  warnings.warn(msg, FutureWarning)\n"
     ]
    },
    {
     "data": {
      "text/plain": [
       "(0.0, 0.17)"
      ]
     },
     "execution_count": 12,
     "metadata": {},
     "output_type": "execute_result"
    },
    {
     "data": {
      "image/png": "[encoded data removed]",
      "text/plain": [
       "<Figure size 720x648 with 1 Axes>"
      ]
     },
     "metadata": {
      "needs_background": "light"
     },
     "output_type": "display_data"
    }
   ],
   "source": [
    "data = df2[\"Buoy 44017 U10\"]\n",
    "fig,ax=plt.subplots(figsize=(10,9))\n",
    "sns.distplot(x1,hist_kws=dict(alpha=1),color='lightskyblue',kde_kws=dict(alpha=0))\n",
    "\n",
    "shape, loc, scale = weibull_min.fit(data, floc=0,fc=2) # if you want to fix shape as 2: set fc=2\n",
    "x = np.linspace(data.min(), data.max(), 100)\n",
    "plt.plot(x, weibull_min(shape, loc, scale).pdf(x),color=\"blue\",label=\"Buoy44097-0.25 decimal degrees Saral/ALtika\"+\"(Scale:\"+str(round(scale,2))+\";Shape:\"+str(round(shape,2))+\")\")\n",
    "def change_width(ax, new_value) :\n",
    "    for patch in ax.patches :\n",
    "        current_width = patch.get_width()\n",
    "        diff = current_width - new_value\n",
    "\n",
    "        # we change the bar width\n",
    "        patch.set_width(new_value)\n",
    "\n",
    "        # we recenter the bar\n",
    "        patch.set_x(patch.get_x() + diff * .5)\n",
    "\n",
    "change_width(ax, 1.6)\n",
    "plt.xlabel('$u_{10}$ (m/s)', fontsize=15)\n",
    "plt.ylabel('Density Function', fontsize=15)\n",
    "plt.tick_params(axis='both', which='major', labelsize=15)\n",
    "plt.xlim(0,25)\n",
    "plt.ylim(0,0.17)"
   ]
  },
  {
   "cell_type": "code",
   "execution_count": 13,
   "metadata": {},
   "outputs": [],
   "source": [
    "# parameters\n",
    "A = round(scale,4) # from weibull\n",
    "k = round(shape,4) \n",
    "air_density = 1.225 # kg/m^3\n",
    "\n",
    "from scipy.special import gamma, factorial\n",
    "mean_energy_density = 0.5*air_density*A**3*gamma(1+3/k)"
   ]
  },
  {
   "cell_type": "code",
   "execution_count": 14,
   "metadata": {},
   "outputs": [
    {
     "data": {
      "text/plain": [
       "7.2709"
      ]
     },
     "execution_count": 14,
     "metadata": {},
     "output_type": "execute_result"
    }
   ],
   "source": [
    "A"
   ]
  },
  {
   "cell_type": "code",
   "execution_count": 15,
   "metadata": {},
   "outputs": [
    {
     "data": {
      "text/plain": [
       "2"
      ]
     },
     "execution_count": 15,
     "metadata": {},
     "output_type": "execute_result"
    }
   ],
   "source": [
    "k"
   ]
  },
  {
   "cell_type": "code",
   "execution_count": 16,
   "metadata": {},
   "outputs": [
    {
     "name": "stderr",
     "output_type": "stream",
     "text": [
      "C:\\Users\\panmits86\\Anaconda3\\envs\\thesis\\lib\\site-packages\\seaborn\\distributions.py:2551: FutureWarning: `distplot` is a deprecated function and will be removed in a future version. Please adapt your code to use either `displot` (a figure-level function with similar flexibility) or `histplot` (an axes-level function for histograms).\n",
      "  warnings.warn(msg, FutureWarning)\n"
     ]
    },
    {
     "data": {
      "text/plain": [
       "(0.0, 0.89)"
      ]
     },
     "execution_count": 16,
     "metadata": {},
     "output_type": "execute_result"
    },
    {
     "data": {
      "image/png": "[encoded data removed]",
      "text/plain": [
       "<Figure size 720x648 with 1 Axes>"
      ]
     },
     "metadata": {
      "needs_background": "light"
     },
     "output_type": "display_data"
    }
   ],
   "source": [
    "#satellite wave height 0.5 dd around buoy 55017\n",
    "data = colocated7['swh']\n",
    "fig,ax=plt.subplots(figsize=(10,9))\n",
    "shape, loc, scale = weibull_min.fit(data, floc=0) # if you want to fix shape as 2: set fc=2\n",
    "x = np.linspace(data.min(), data.max(), 100)\n",
    "plt.plot(x, weibull_min(shape, loc, scale).pdf(x),color=\"blue\",label=\"Buoy44097-0.25 decimal degrees Saral/ALtika\"+\"(Scale:\"+str(round(scale,2))+\";Shape:\"+str(round(shape,2))+\")\")\n",
    "sns.distplot(yy,hist_kws=dict(alpha=1),color='lightskyblue',kde_kws=dict(alpha=0))\n",
    "def change_width(ax, new_value) :\n",
    "    for patch in ax.patches :\n",
    "        current_width = patch.get_width()\n",
    "        diff = current_width - new_value\n",
    "\n",
    "        # we change the bar width\n",
    "        patch.set_width(new_value)\n",
    "\n",
    "        # we recenter the bar\n",
    "        patch.set_x(patch.get_x() + diff * .5)\n",
    "\n",
    "change_width(ax, 0.31)\n",
    "\n",
    "plt.xlabel('$H_s$ (m)', fontsize=15)\n",
    "plt.ylabel('Density Function', fontsize=15)\n",
    "plt.tick_params(axis='both', which='major', labelsize=15)\n",
    "plt.xlim(0,6)\n",
    "plt.ylim(0,0.89)"
   ]
  },
  {
   "cell_type": "code",
   "execution_count": 17,
   "metadata": {},
   "outputs": [],
   "source": [
    "# parameters\n",
    "A = round(scale,4) # from weibull\n",
    "k = round(shape,4) \n",
    "air_density = 1.225 # kg/m^3\n",
    "\n",
    "from scipy.special import gamma, factorial\n",
    "mean_energy_density = 0.5*air_density*A**3*gamma(1+3/k)"
   ]
  },
  {
   "cell_type": "code",
   "execution_count": 18,
   "metadata": {},
   "outputs": [
    {
     "data": {
      "text/plain": [
       "1.5386"
      ]
     },
     "execution_count": 18,
     "metadata": {},
     "output_type": "execute_result"
    }
   ],
   "source": [
    "A"
   ]
  },
  {
   "cell_type": "code",
   "execution_count": 19,
   "metadata": {},
   "outputs": [
    {
     "data": {
      "text/plain": [
       "2.158"
      ]
     },
     "execution_count": 19,
     "metadata": {},
     "output_type": "execute_result"
    }
   ],
   "source": [
    "k"
   ]
  },
  {
   "cell_type": "code",
   "execution_count": 20,
   "metadata": {},
   "outputs": [
    {
     "name": "stderr",
     "output_type": "stream",
     "text": [
      "C:\\Users\\panmits86\\Anaconda3\\envs\\thesis\\lib\\site-packages\\seaborn\\distributions.py:2551: FutureWarning: `distplot` is a deprecated function and will be removed in a future version. Please adapt your code to use either `displot` (a figure-level function with similar flexibility) or `histplot` (an axes-level function for histograms).\n",
      "  warnings.warn(msg, FutureWarning)\n"
     ]
    },
    {
     "data": {
      "image/png": "[encoded data removed]",
      "text/plain": [
       "<Figure size 720x648 with 1 Axes>"
      ]
     },
     "metadata": {
      "needs_background": "light"
     },
     "output_type": "display_data"
    }
   ],
   "source": [
    "#corresponding buoy wave height\n",
    "data = df2['Buoy 44017 Wave Height']\n",
    "fig,ax=plt.subplots(figsize=(10,9))\n",
    "sns.distplot(y1,hist_kws=dict(alpha=1),color='lightskyblue',kde_kws=dict(alpha=0))\n",
    "\n",
    "shape, loc, scale = weibull_min.fit(data, floc=0) # if you want to fix shape as 2: set fc=2\n",
    "x = np.linspace(data.min(), data.max(), 100)\n",
    "plt.plot(x, weibull_min(shape, loc, scale).pdf(x),color=\"blue\",label=\"Buoy44097-0.25 decimal degrees Saral/ALtika\"+\"(Scale:\"+str(round(scale,2))+\";Shape:\"+str(round(shape,2))+\")\")\n",
    "def change_width(ax, new_value) :\n",
    "    for patch in ax.patches :\n",
    "        current_width = patch.get_width()\n",
    "        diff = current_width - new_value\n",
    "\n",
    "        # we change the bar width\n",
    "        patch.set_width(new_value)\n",
    "\n",
    "        # we recenter the bar\n",
    "        patch.set_x(patch.get_x() + diff * .5)\n",
    "\n",
    "change_width(ax, 0.3)\n",
    "\n",
    "plt.xlabel('$H_s$ (m)', fontsize=15)\n",
    "plt.ylabel('Density Function', fontsize=15)\n",
    "plt.xlim(0,6)\n",
    "plt.ylim(0,0.89)\n",
    "plt.tick_params(axis='both', which='major', labelsize=15)"
   ]
  },
  {
   "cell_type": "code",
   "execution_count": 21,
   "metadata": {},
   "outputs": [],
   "source": [
    "# parameters\n",
    "A = round(scale,4) # from weibull\n",
    "k = round(shape,4) \n",
    "air_density = 1.225 # kg/m^3\n",
    "\n",
    "from scipy.special import gamma, factorial\n",
    "mean_energy_density = 0.5*air_density*A**3*gamma(1+3/k)"
   ]
  },
  {
   "cell_type": "code",
   "execution_count": 22,
   "metadata": {},
   "outputs": [
    {
     "data": {
      "text/plain": [
       "1.391"
      ]
     },
     "execution_count": 22,
     "metadata": {},
     "output_type": "execute_result"
    }
   ],
   "source": [
    "A"
   ]
  },
  {
   "cell_type": "code",
   "execution_count": 23,
   "metadata": {},
   "outputs": [
    {
     "data": {
      "text/plain": [
       "2.1354"
      ]
     },
     "execution_count": 23,
     "metadata": {},
     "output_type": "execute_result"
    }
   ],
   "source": [
    "k"
   ]
  },
  {
   "cell_type": "code",
   "execution_count": 24,
   "metadata": {},
   "outputs": [],
   "source": [
    "#directory to buoy 44017 files\n",
    "df1=pd.read_csv('b44017_wind_wave.csv', sep='\\t')\n",
    "x2=df1['u10']\n",
    "y2=df1['WVHT']"
   ]
  },
  {
   "cell_type": "code",
   "execution_count": 25,
   "metadata": {},
   "outputs": [
    {
     "name": "stderr",
     "output_type": "stream",
     "text": [
      "C:\\Users\\panmits86\\Anaconda3\\envs\\thesis\\lib\\site-packages\\seaborn\\distributions.py:2551: FutureWarning: `distplot` is a deprecated function and will be removed in a future version. Please adapt your code to use either `displot` (a figure-level function with similar flexibility) or `histplot` (an axes-level function for histograms).\n",
      "  warnings.warn(msg, FutureWarning)\n"
     ]
    },
    {
     "data": {
      "image/png": "[encoded data removed]",
      "text/plain": [
       "<Figure size 720x648 with 1 Axes>"
      ]
     },
     "metadata": {
      "needs_background": "light"
     },
     "output_type": "display_data"
    }
   ],
   "source": [
    "data = df1['u10']\n",
    "fig,ax=plt.subplots(figsize=(10,9))\n",
    "#plt.hist(data, density=True, alpha=0.5)\n",
    "shape, loc, scale = weibull_min.fit(data, floc=0,fc=2) # if you want to fix shape as 2: set fc=2\n",
    "x = np.linspace(data.min(), data.max(), 100)\n",
    "plt.plot(x, weibull_min(shape, loc, scale).pdf(x),color=\"blue\",label=\"Buoy44097-0.25 decimal degrees Saral/ALtika\"+\"(Scale:\"+str(round(scale,2))+\";Shape:\"+str(round(shape,2))+\")\")\n",
    "\n",
    "sns.distplot(x2,hist_kws=dict(alpha=1),color='lightskyblue',kde_kws=dict(alpha=0))\n",
    "def change_width(ax, new_value) :\n",
    "    for patch in ax.patches :\n",
    "        current_width = patch.get_width()\n",
    "        diff = current_width - new_value\n",
    "\n",
    "        # we change the bar width\n",
    "        patch.set_width(new_value)\n",
    "\n",
    "        # we recenter the bar\n",
    "        patch.set_x(patch.get_x() + diff * .5)\n",
    "\n",
    "change_width(ax, 1.6)\n",
    "\n",
    "\n",
    "plt.xlabel('$u_{10}$ (m/s)', fontsize=15)\n",
    "plt.ylabel('Density Function', fontsize=15)\n",
    "plt.xlim(0,25)\n",
    "plt.ylim(0,0.17)\n",
    "plt.tick_params(axis='both', which='major', labelsize=15)"
   ]
  },
  {
   "cell_type": "code",
   "execution_count": 26,
   "metadata": {},
   "outputs": [],
   "source": [
    "# parameters\n",
    "A = round(scale,4) # from weibull\n",
    "k = round(shape,4) \n",
    "air_density = 1.225 # kg/m^3\n",
    "\n",
    "from scipy.special import gamma, factorial\n",
    "mean_energy_density = 0.5*air_density*A**3*gamma(1+3/k)"
   ]
  },
  {
   "cell_type": "code",
   "execution_count": 27,
   "metadata": {},
   "outputs": [
    {
     "data": {
      "text/plain": [
       "7.5704"
      ]
     },
     "execution_count": 27,
     "metadata": {},
     "output_type": "execute_result"
    }
   ],
   "source": [
    "A"
   ]
  },
  {
   "cell_type": "code",
   "execution_count": 28,
   "metadata": {},
   "outputs": [
    {
     "name": "stderr",
     "output_type": "stream",
     "text": [
      "C:\\Users\\panmits86\\Anaconda3\\envs\\thesis\\lib\\site-packages\\seaborn\\distributions.py:2551: FutureWarning: `distplot` is a deprecated function and will be removed in a future version. Please adapt your code to use either `displot` (a figure-level function with similar flexibility) or `histplot` (an axes-level function for histograms).\n",
      "  warnings.warn(msg, FutureWarning)\n"
     ]
    },
    {
     "data": {
      "image/png": "[encoded data removed]",
      "text/plain": [
       "<Figure size 720x648 with 1 Axes>"
      ]
     },
     "metadata": {
      "needs_background": "light"
     },
     "output_type": "display_data"
    }
   ],
   "source": [
    "data = df1['WVHT']\n",
    "fig,ax=plt.subplots(figsize=(10,9))\n",
    "shape, loc, scale = weibull_min.fit(data, floc=0) # if you want to fix shape as 2: set fc=2\n",
    "x = np.linspace(data.min(), data.max(), 100)\n",
    "plt.plot(x, weibull_min(shape, loc, scale).pdf(x),color=\"blue\",label=\"Buoy44097-0.25 decimal degrees Saral/ALtika\"+\"(Scale:\"+str(round(scale,2))+\";Shape:\"+str(round(shape,2))+\")\")\n",
    "\n",
    "sns.distplot(y2,hist_kws=dict(alpha=1),color='lightskyblue',kde_kws=dict(alpha=0))\n",
    "def change_width(ax, new_value) :\n",
    "    for patch in ax.patches :\n",
    "        current_width = patch.get_width()\n",
    "        diff = current_width - new_value\n",
    "\n",
    "        # we change the bar width\n",
    "        patch.set_width(new_value)\n",
    "\n",
    "        # we recenter the bar\n",
    "        patch.set_x(patch.get_x() + diff * .5)\n",
    "\n",
    "change_width(ax, 0.3)\n",
    "\n",
    "plt.xlabel('$H_s$ (m)', fontsize=15)\n",
    "plt.ylabel('Density Function', fontsize=15)\n",
    "plt.xlim(0,6)\n",
    "plt.ylim(0,0.89)\n",
    "plt.tick_params(axis='both', which='major', labelsize=15)"
   ]
  },
  {
   "cell_type": "code",
   "execution_count": 29,
   "metadata": {},
   "outputs": [],
   "source": [
    "# parameters\n",
    "A = round(scale,4) # from weibull\n",
    "k = round(shape,4) \n",
    "air_density = 1.225 # kg/m^3\n",
    "\n",
    "from scipy.special import gamma, factorial\n",
    "mean_energy_density = 0.5*air_density*A**3*gamma(1+3/k)"
   ]
  },
  {
   "cell_type": "code",
   "execution_count": 30,
   "metadata": {},
   "outputs": [
    {
     "data": {
      "text/plain": [
       "1.4902"
      ]
     },
     "execution_count": 30,
     "metadata": {},
     "output_type": "execute_result"
    }
   ],
   "source": [
    "A"
   ]
  },
  {
   "cell_type": "code",
   "execution_count": 31,
   "metadata": {},
   "outputs": [
    {
     "data": {
      "text/plain": [
       "1.8756"
      ]
     },
     "execution_count": 31,
     "metadata": {},
     "output_type": "execute_result"
    }
   ],
   "source": [
    "k"
   ]
  }
 ],
 "metadata": {
  "kernelspec": {
   "display_name": "Python 3",
   "language": "python",
   "name": "python3"
  },
  "language_info": {
   "codemirror_mode": {
    "name": "ipython",
    "version": 3
   },
   "file_extension": ".py",
   "mimetype": "text/x-python",
   "name": "python",
   "nbconvert_exporter": "python",
   "pygments_lexer": "ipython3",
   "version": "3.8.6"
  }
 },
 "nbformat": 4,
 "nbformat_minor": 4
}
